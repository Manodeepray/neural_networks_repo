{
 "cells": [
  {
   "cell_type": "code",
   "execution_count": 1,
   "id": "87f101da",
   "metadata": {},
   "outputs": [],
   "source": [
    "import torch \n",
    "from torch import nn \n",
    "import torch.nn.functional as F\n",
    "\n",
    "\n",
    "class Attention(nn.Module):\n",
    "\n",
    "    def __init__(self ,\n",
    "                 d_model = 2,\n",
    "                 row_dim = 0,\n",
    "                 col_dim = 1):\n",
    "\n",
    "        super().__init__()\n",
    "\n",
    "        # weight matrices\n",
    "        \n",
    "        self.W_q = nn.Linear(in_features = d_model,\n",
    "                            out_features = d_model,\n",
    "                            bias = False) \n",
    "        self.W_k = nn.Linear(in_features = d_model,\n",
    "                            out_features = d_model,\n",
    "                            bias = False)\n",
    "        \n",
    "        self.W_v = nn.Linear(in_features = d_model,\n",
    "                            out_features = d_model,\n",
    "                            bias = False)\n",
    "\n",
    "        self.row_dim = row_dim\n",
    "        self.col_dim = col_dim\n",
    "        self.d_model = d_model\n",
    "\n",
    "\n",
    "    \n",
    "    def forward(self , \n",
    "                encodings_q ,\n",
    "                encodings_k ,\n",
    "                encodings_v,\n",
    "               mask = None):\n",
    "        \n",
    "        q = self.W_q(encodings_q)\n",
    "        k = self.W_k(encodings_k)\n",
    "        v = self.W_v(encodings_v)\n",
    "        \n",
    "        sims = torch.matmul(q , k.transpose(dim0 = self.row_dim,\n",
    "                                           dim1 = self.col_dim))\n",
    "        \n",
    "        scaled_sims = sims / torch.tensor(k.size(self.col_dim)**0.5)\n",
    "        # scaled_sims = sims / torch.tensor(self.d_model**0.5)\n",
    "\n",
    "        if mask is not None:\n",
    "            # mask = torch.tril(torch.ones(k.size(self.row_dim),k.size(self.row_dim)))\n",
    "            # mask = mask == 0\n",
    "            scaled_sims = scaled_sims.masked_fill(mask = mask,\n",
    "                                                 value = -1e-9)       \n",
    "       \n",
    "        attention_percents = F.softmax(scaled_sims , dim = self.col_dim)\n",
    "        attention_scores = torch.matmul(attention_percents , v)\n",
    "\n",
    "        return attention_scores\n",
    "\n",
    "    \n",
    "class MultiHeadAttention(nn.Module):\n",
    "    \n",
    "    def __init__(self ,\n",
    "                 d_model = 2,\n",
    "                 row_dim = 0,\n",
    "                 col_dim = 1,\n",
    "                num_heads = 1):\n",
    "        super().__init__()\n",
    "\n",
    "\n",
    "        self.heads = nn.ModuleList(\n",
    "            [Attention(d_model = d_model,row_dim = row_dim,col_dim = col_dim) \n",
    "             for _ in range(num_heads)]\n",
    "        )\n",
    "\n",
    "        self.col_dim = col_dim\n",
    "\n",
    "\n",
    "    def forward(self , \n",
    "                encodings_q ,\n",
    "                encodings_k ,\n",
    "                encodings_v):\n",
    "\n",
    "        return torch.cat(\n",
    "            [head(encodings_q ,\n",
    "                encodings_k ,\n",
    "                encodings_v)\n",
    "             for head in self.heads] , dim = self.col_dim\n",
    "        )"
   ]
  },
  {
   "cell_type": "code",
   "execution_count": 2,
   "id": "771c3b2e",
   "metadata": {},
   "outputs": [
    {
     "data": {
      "text/plain": [
       "<torch._C.Generator at 0x21dff2b7d30>"
      ]
     },
     "execution_count": 2,
     "metadata": {},
     "output_type": "execute_result"
    }
   ],
   "source": [
    "encodings_q = torch.tensor([[1.3921, 1.2440],\n",
    "        [1.2494, 1.1960],\n",
    "        [3.4989, 2.2427]])\n",
    "\n",
    "encodings_k = torch.tensor([[1.3921, 1.2440],\n",
    "        [1.2494, 1.1960],\n",
    "        [3.4989, 2.2427]])\n",
    "\n",
    "\n",
    "encodings_v = torch.tensor([[1.3921, 1.2440],\n",
    "        [1.2494, 1.1960],\n",
    "        [3.4989, 2.2427]])\n",
    "\n",
    "torch.manual_seed(42)"
   ]
  },
  {
   "cell_type": "code",
   "execution_count": 3,
   "id": "0f0c5629",
   "metadata": {},
   "outputs": [],
   "source": [
    "mha = MultiHeadAttention(d_model = 2,\n",
    "                 row_dim = 0,\n",
    "                 col_dim = 1,\n",
    "                num_heads = 3)"
   ]
  },
  {
   "cell_type": "code",
   "execution_count": 4,
   "id": "48cd5eb7",
   "metadata": {},
   "outputs": [
    {
     "data": {
      "text/plain": [
       "tensor([[ 0.4082,  1.3614, -0.9187,  0.1218,  1.3103,  0.2117],\n",
       "        [ 0.4108,  1.3661, -0.9077,  0.1238,  1.3070,  0.2119],\n",
       "        [ 0.3628,  1.2806, -1.0814,  0.0919,  1.3522,  0.2101]],\n",
       "       grad_fn=<CatBackward0>)"
      ]
     },
     "execution_count": 4,
     "metadata": {},
     "output_type": "execute_result"
    }
   ],
   "source": [
    "mha(encodings_q,encodings_q,encodings_q)"
   ]
  },
  {
   "cell_type": "code",
   "execution_count": 5,
   "id": "0e60e993",
   "metadata": {},
   "outputs": [],
   "source": [
    "class PositionalEmbeddings(nn.Module):\n",
    "\n",
    "    def __init__(self ,\n",
    "                 d_model  , \n",
    "                 max_seq_length = 512):\n",
    "        super().__init__()\n",
    "\n",
    "        pe = torch.zeros(max_seq_length , d_model)\n",
    "\n",
    "        position = torch.arange(0, max_seq_length, dtype=torch.float).unsqueeze(1)\n",
    "\n",
    "        div_term = torch.exp()\n",
    "\n",
    "        "
   ]
  },
  {
   "cell_type": "code",
   "execution_count": 8,
   "id": "b9501e4d",
   "metadata": {},
   "outputs": [],
   "source": [
    "import math \n",
    "d_model = 2\n",
    "\n",
    "div_term = torch.exp(torch.arange(0, d_model, 2).float() * (-math.log(10000.0) / d_model))\n"
   ]
  },
  {
   "cell_type": "code",
   "execution_count": 9,
   "id": "b92d36be",
   "metadata": {},
   "outputs": [
    {
     "data": {
      "text/plain": [
       "tensor([1.])"
      ]
     },
     "execution_count": 9,
     "metadata": {},
     "output_type": "execute_result"
    }
   ],
   "source": [
    "div_term"
   ]
  },
  {
   "cell_type": "code",
   "execution_count": null,
   "id": "37117caa",
   "metadata": {},
   "outputs": [],
   "source": []
  }
 ],
 "metadata": {
  "kernelspec": {
   "display_name": "Python 3 (ipykernel)",
   "language": "python",
   "name": "python3"
  },
  "language_info": {
   "codemirror_mode": {
    "name": "ipython",
    "version": 3
   },
   "file_extension": ".py",
   "mimetype": "text/x-python",
   "name": "python",
   "nbconvert_exporter": "python",
   "pygments_lexer": "ipython3",
   "version": "3.11.9"
  }
 },
 "nbformat": 4,
 "nbformat_minor": 5
}
