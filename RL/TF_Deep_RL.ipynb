{
 "cells": [
  {
   "cell_type": "markdown",
   "id": "39ca49d9",
   "metadata": {},
   "source": [
    "### Notes\n",
    "\n",
    "Keywords:\n",
    "- Agent \n",
    "- Environment\n",
    "- Episodes : Environment is episodic if it ends and you can start a new episode\n",
    "- Non episodic - stock market\n",
    "               - online ads\n",
    "               \n",
    "- States\n",
    "- Actions\n",
    "- Rewards\n",
    "- maximize the rewards\n"
   ]
  },
  {
   "cell_type": "code",
   "execution_count": null,
   "id": "e52b8553",
   "metadata": {},
   "outputs": [],
   "source": []
  }
 ],
 "metadata": {
  "kernelspec": {
   "display_name": "Python 3 (ipykernel)",
   "language": "python",
   "name": "python3"
  },
  "language_info": {
   "codemirror_mode": {
    "name": "ipython",
    "version": 3
   },
   "file_extension": ".py",
   "mimetype": "text/x-python",
   "name": "python",
   "nbconvert_exporter": "python",
   "pygments_lexer": "ipython3",
   "version": "3.11.9"
  }
 },
 "nbformat": 4,
 "nbformat_minor": 5
}
