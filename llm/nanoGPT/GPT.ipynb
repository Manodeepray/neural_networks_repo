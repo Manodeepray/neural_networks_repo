{
 "cells": [
  {
   "cell_type": "code",
   "execution_count": 3,
   "id": "e4da0233-5f45-4de6-896d-f62ba0c0195b",
   "metadata": {},
   "outputs": [
    {
     "name": "stdout",
     "output_type": "stream",
     "text": [
      "\u001b[2mUsing Python 3.12.3 environment at: /home/manodeep/projects/NN/.venv\u001b[0m\n",
      "Package                   Version\n",
      "------------------------- --------------\n",
      "aiohappyeyeballs          2.6.1\n",
      "aiohttp                   3.11.18\n",
      "aiosignal                 1.3.2\n",
      "anyio                     4.9.0\n",
      "argon2-cffi               23.1.0\n",
      "argon2-cffi-bindings      21.2.0\n",
      "arrow                     1.3.0\n",
      "asttokens                 3.0.0\n",
      "async-lru                 2.0.5\n",
      "attrs                     25.3.0\n",
      "babel                     2.17.0\n",
      "bash-kernel               0.10.0\n",
      "beautifulsoup4            4.13.4\n",
      "bleach                    6.2.0\n",
      "certifi                   2025.4.26\n",
      "cffi                      1.17.1\n",
      "charset-normalizer        3.4.2\n",
      "comm                      0.2.2\n",
      "contourpy                 1.3.2\n",
      "cycler                    0.12.1\n",
      "datasets                  3.5.1\n",
      "debugpy                   1.8.14\n",
      "decorator                 5.2.1\n",
      "defusedxml                0.7.1\n",
      "dill                      0.3.8\n",
      "executing                 2.2.0\n",
      "fastjsonschema            2.21.1\n",
      "filelock                  3.18.0\n",
      "filetype                  1.2.0\n",
      "fonttools                 4.57.0\n",
      "fqdn                      1.5.1\n",
      "frozenlist                1.6.0\n",
      "fsspec                    2025.3.0\n",
      "h11                       0.16.0\n",
      "httpcore                  1.0.9\n",
      "httpx                     0.28.1\n",
      "huggingface-hub           0.30.2\n",
      "idna                      3.10\n",
      "ipykernel                 6.29.5\n",
      "ipython                   9.2.0\n",
      "ipython-pygments-lexers   1.1.1\n",
      "isoduration               20.11.0\n",
      "jedi                      0.19.2\n",
      "jinja2                    3.1.6\n",
      "joblib                    1.4.2\n",
      "json5                     0.12.0\n",
      "jsonpointer               3.0.0\n",
      "jsonschema                4.23.0\n",
      "jsonschema-specifications 2025.4.1\n",
      "jupyter-client            8.6.3\n",
      "jupyter-core              5.7.2\n",
      "jupyter-events            0.12.0\n",
      "jupyter-lsp               2.2.5\n",
      "jupyter-server            2.15.0\n",
      "jupyter-server-terminals  0.5.3\n",
      "jupyterlab                4.4.2\n",
      "jupyterlab-pygments       0.3.0\n",
      "jupyterlab-server         2.27.3\n",
      "kiwisolver                1.4.8\n",
      "markupsafe                3.0.2\n",
      "matplotlib                3.10.1\n",
      "matplotlib-inline         0.1.7\n",
      "mistune                   3.1.3\n",
      "mpmath                    1.3.0\n",
      "multidict                 6.4.3\n",
      "multiprocess              0.70.16\n",
      "nbclient                  0.10.2\n",
      "nbconvert                 7.16.6\n",
      "nbformat                  5.10.4\n",
      "nest-asyncio              1.6.0\n",
      "networkx                  3.4.2\n",
      "notebook                  7.4.2\n",
      "notebook-shim             0.2.4\n",
      "numpy                     2.2.5\n",
      "nvidia-cublas-cu12        12.6.4.1\n",
      "nvidia-cuda-cupti-cu12    12.6.80\n",
      "nvidia-cuda-nvrtc-cu12    12.6.77\n",
      "nvidia-cuda-runtime-cu12  12.6.77\n",
      "nvidia-cudnn-cu12         9.5.1.17\n",
      "nvidia-cufft-cu12         11.3.0.4\n",
      "nvidia-cufile-cu12        1.11.1.6\n",
      "nvidia-curand-cu12        10.3.7.77\n",
      "nvidia-cusolver-cu12      11.7.1.2\n",
      "nvidia-cusparse-cu12      12.5.4.2\n",
      "nvidia-cusparselt-cu12    0.6.3\n",
      "nvidia-nccl-cu12          2.26.2\n",
      "nvidia-nvjitlink-cu12     12.6.85\n",
      "nvidia-nvtx-cu12          12.6.77\n",
      "overrides                 7.7.0\n",
      "packaging                 25.0\n",
      "pandas                    2.2.3\n",
      "pandocfilters             1.5.1\n",
      "parso                     0.8.4\n",
      "pexpect                   4.9.0\n",
      "pillow                    11.2.1\n",
      "platformdirs              4.3.7\n",
      "prometheus-client         0.21.1\n",
      "prompt-toolkit            3.0.51\n",
      "propcache                 0.3.1\n",
      "psutil                    7.0.0\n",
      "ptyprocess                0.7.0\n",
      "pure-eval                 0.2.3\n",
      "pyarrow                   20.0.0\n",
      "pycparser                 2.22\n",
      "pygments                  2.19.1\n",
      "pyparsing                 3.2.3\n",
      "python-dateutil           2.9.0.post0\n",
      "python-json-logger        3.3.0\n",
      "pytz                      2025.2\n",
      "pyyaml                    6.0.2\n",
      "pyzmq                     26.4.0\n",
      "referencing               0.36.2\n",
      "regex                     2024.11.6\n",
      "requests                  2.32.3\n",
      "rfc3339-validator         0.1.4\n",
      "rfc3986-validator         0.1.1\n",
      "rpds-py                   0.24.0\n",
      "scikit-learn              1.6.1\n",
      "scipy                     1.15.2\n",
      "send2trash                1.8.3\n",
      "setuptools                79.0.0\n",
      "six                       1.17.0\n",
      "sniffio                   1.3.1\n",
      "soupsieve                 2.7\n",
      "stack-data                0.6.3\n",
      "sympy                     1.13.3\n",
      "terminado                 0.18.1\n",
      "threadpoolctl             3.6.0\n",
      "tiktoken                  0.9.0\n",
      "tinycss2                  1.4.0\n",
      "tokenizers                0.21.1\n",
      "torch                     2.7.0\n",
      "torchvision               0.22.0\n",
      "tornado                   6.4.2\n",
      "tqdm                      4.67.1\n",
      "traitlets                 5.14.3\n",
      "triton                    3.3.0\n",
      "types-python-dateutil     2.9.0.20241206\n",
      "typing-extensions         4.13.2\n",
      "tzdata                    2025.2\n",
      "uri-template              1.3.0\n",
      "urllib3                   2.4.0\n",
      "wcwidth                   0.2.13\n",
      "webcolors                 24.11.1\n",
      "webencodings              0.5.1\n",
      "websocket-client          1.8.0\n",
      "xxhash                    3.5.0\n",
      "yarl                      1.20.0\n"
     ]
    }
   ],
   "source": [
    "!uv pip list"
   ]
  },
  {
   "cell_type": "code",
   "execution_count": 1,
   "id": "f535ff3e-a844-4009-82af-478218136007",
   "metadata": {},
   "outputs": [],
   "source": [
    "with open(\"./data/input.txt\" , \"r\" , encoding = \"utf-8\") as f:\n",
    "    text = f.read()"
   ]
  },
  {
   "cell_type": "code",
   "execution_count": 2,
   "id": "97dc57e3-b9f5-4cea-ac22-a7cafdaf2f4a",
   "metadata": {},
   "outputs": [
    {
     "data": {
      "text/plain": [
       "\"First Citizen:\\nBefore we proceed any further, hear me speak.\\n\\nAll:\\nSpeak, speak.\\n\\nFirst Citizen:\\nYou are all resolved rather to die than to famish?\\n\\nAll:\\nResolved. resolved.\\n\\nFirst Citizen:\\nFirst, you know Caius Marcius is chief enemy to the people.\\n\\nAll:\\nWe know't, we know't.\\n\\nFirst Citizen:\\nLet us kill him, and we'll have corn at our own price.\\nIs't a verdict?\\n\\nAll:\\nNo more talking on't; let it be done: away, away!\\n\\nSecond Citizen:\\nOne word, good citizens.\\n\\nFirst Citizen:\\nWe are accounted poor citizens, the patricians good.\\nWhat authority surfeits on would relieve us: if they\\nwould yield us but the superfluity, while it were\\nwholesome, we might guess they relieved us humanely;\\nbut they think we are too dear: the leanness that\\nafflicts us, the object of our misery, is as an\\ninventory to particularise their abundance; our\\nsufferance is a gain to them Let us revenge this with\\nour pikes, ere we become rakes: for the gods know I\\nspeak this in hunger for bread, not in thirst for revenge.\\n\\n\""
      ]
     },
     "execution_count": 2,
     "metadata": {},
     "output_type": "execute_result"
    }
   ],
   "source": [
    "text[:1000]"
   ]
  },
  {
   "cell_type": "code",
   "execution_count": 3,
   "id": "66248150-42dc-47da-b3ae-037efda3879e",
   "metadata": {},
   "outputs": [
    {
     "data": {
      "text/plain": [
       "1115394"
      ]
     },
     "execution_count": 3,
     "metadata": {},
     "output_type": "execute_result"
    }
   ],
   "source": [
    "len(text)"
   ]
  },
  {
   "cell_type": "code",
   "execution_count": 7,
   "id": "d5d80503-7942-41a0-aa01-7549fe0e394a",
   "metadata": {},
   "outputs": [],
   "source": [
    "chars = sorted(list(set(text)))"
   ]
  },
  {
   "cell_type": "code",
   "execution_count": 11,
   "id": "bf3499de-ccdc-494f-bc45-cdebd30b59e6",
   "metadata": {},
   "outputs": [
    {
     "data": {
      "text/plain": [
       "65"
      ]
     },
     "execution_count": 11,
     "metadata": {},
     "output_type": "execute_result"
    }
   ],
   "source": [
    "vocab_size = len(chars)\n",
    "vocab_size"
   ]
  },
  {
   "cell_type": "code",
   "execution_count": 10,
   "id": "1b3feb62-f0fc-4be4-bb5f-39481a646019",
   "metadata": {},
   "outputs": [
    {
     "name": "stdout",
     "output_type": "stream",
     "text": [
      "\n",
      "   ! $ & ' , - . 3 : ; ? A B C D E F G H I J K L M N O P Q R S T U V W X Y Z a b c d e f g h i j k l m n o p q r s t u v w x y z\n"
     ]
    }
   ],
   "source": [
    "print(\" \".join(chars))"
   ]
  },
  {
   "cell_type": "code",
   "execution_count": 12,
   "id": "ff144d0a-a07e-40f4-b89c-01a836b659be",
   "metadata": {},
   "outputs": [],
   "source": [
    "stoi = {ch : i for i , ch in enumerate(chars)}\n",
    "itos = {i : ch for i , ch in enumerate(chars)}"
   ]
  },
  {
   "cell_type": "code",
   "execution_count": 14,
   "id": "857aa8e7-3824-4056-9857-ecc806824f82",
   "metadata": {},
   "outputs": [
    {
     "data": {
      "text/plain": [
       "({'\\n': 0,\n",
       "  ' ': 1,\n",
       "  '!': 2,\n",
       "  '$': 3,\n",
       "  '&': 4,\n",
       "  \"'\": 5,\n",
       "  ',': 6,\n",
       "  '-': 7,\n",
       "  '.': 8,\n",
       "  '3': 9,\n",
       "  ':': 10,\n",
       "  ';': 11,\n",
       "  '?': 12,\n",
       "  'A': 13,\n",
       "  'B': 14,\n",
       "  'C': 15,\n",
       "  'D': 16,\n",
       "  'E': 17,\n",
       "  'F': 18,\n",
       "  'G': 19,\n",
       "  'H': 20,\n",
       "  'I': 21,\n",
       "  'J': 22,\n",
       "  'K': 23,\n",
       "  'L': 24,\n",
       "  'M': 25,\n",
       "  'N': 26,\n",
       "  'O': 27,\n",
       "  'P': 28,\n",
       "  'Q': 29,\n",
       "  'R': 30,\n",
       "  'S': 31,\n",
       "  'T': 32,\n",
       "  'U': 33,\n",
       "  'V': 34,\n",
       "  'W': 35,\n",
       "  'X': 36,\n",
       "  'Y': 37,\n",
       "  'Z': 38,\n",
       "  'a': 39,\n",
       "  'b': 40,\n",
       "  'c': 41,\n",
       "  'd': 42,\n",
       "  'e': 43,\n",
       "  'f': 44,\n",
       "  'g': 45,\n",
       "  'h': 46,\n",
       "  'i': 47,\n",
       "  'j': 48,\n",
       "  'k': 49,\n",
       "  'l': 50,\n",
       "  'm': 51,\n",
       "  'n': 52,\n",
       "  'o': 53,\n",
       "  'p': 54,\n",
       "  'q': 55,\n",
       "  'r': 56,\n",
       "  's': 57,\n",
       "  't': 58,\n",
       "  'u': 59,\n",
       "  'v': 60,\n",
       "  'w': 61,\n",
       "  'x': 62,\n",
       "  'y': 63,\n",
       "  'z': 64},\n",
       " {0: '\\n',\n",
       "  1: ' ',\n",
       "  2: '!',\n",
       "  3: '$',\n",
       "  4: '&',\n",
       "  5: \"'\",\n",
       "  6: ',',\n",
       "  7: '-',\n",
       "  8: '.',\n",
       "  9: '3',\n",
       "  10: ':',\n",
       "  11: ';',\n",
       "  12: '?',\n",
       "  13: 'A',\n",
       "  14: 'B',\n",
       "  15: 'C',\n",
       "  16: 'D',\n",
       "  17: 'E',\n",
       "  18: 'F',\n",
       "  19: 'G',\n",
       "  20: 'H',\n",
       "  21: 'I',\n",
       "  22: 'J',\n",
       "  23: 'K',\n",
       "  24: 'L',\n",
       "  25: 'M',\n",
       "  26: 'N',\n",
       "  27: 'O',\n",
       "  28: 'P',\n",
       "  29: 'Q',\n",
       "  30: 'R',\n",
       "  31: 'S',\n",
       "  32: 'T',\n",
       "  33: 'U',\n",
       "  34: 'V',\n",
       "  35: 'W',\n",
       "  36: 'X',\n",
       "  37: 'Y',\n",
       "  38: 'Z',\n",
       "  39: 'a',\n",
       "  40: 'b',\n",
       "  41: 'c',\n",
       "  42: 'd',\n",
       "  43: 'e',\n",
       "  44: 'f',\n",
       "  45: 'g',\n",
       "  46: 'h',\n",
       "  47: 'i',\n",
       "  48: 'j',\n",
       "  49: 'k',\n",
       "  50: 'l',\n",
       "  51: 'm',\n",
       "  52: 'n',\n",
       "  53: 'o',\n",
       "  54: 'p',\n",
       "  55: 'q',\n",
       "  56: 'r',\n",
       "  57: 's',\n",
       "  58: 't',\n",
       "  59: 'u',\n",
       "  60: 'v',\n",
       "  61: 'w',\n",
       "  62: 'x',\n",
       "  63: 'y',\n",
       "  64: 'z'})"
      ]
     },
     "execution_count": 14,
     "metadata": {},
     "output_type": "execute_result"
    }
   ],
   "source": [
    "stoi , itos"
   ]
  },
  {
   "cell_type": "code",
   "execution_count": 15,
   "id": "e2b3a647-d48f-4e35-a5a0-30eda0f0766f",
   "metadata": {},
   "outputs": [],
   "source": [
    "encode = lambda s : [stoi[c] for c in s]\n",
    "decode = lambda l : \"\".join([itos[i] for i in l])\n"
   ]
  },
  {
   "cell_type": "code",
   "execution_count": 16,
   "id": "6b5ad542-cb66-4041-8586-a3191db22ef5",
   "metadata": {},
   "outputs": [
    {
     "data": {
      "text/plain": [
       "[46, 47, 1]"
      ]
     },
     "execution_count": 16,
     "metadata": {},
     "output_type": "execute_result"
    }
   ],
   "source": [
    "encode(\"hi \")"
   ]
  },
  {
   "cell_type": "code",
   "execution_count": 17,
   "id": "1d432491-dbeb-48da-8899-ca393783b0ed",
   "metadata": {},
   "outputs": [
    {
     "data": {
      "text/plain": [
       "'hi '"
      ]
     },
     "execution_count": 17,
     "metadata": {},
     "output_type": "execute_result"
    }
   ],
   "source": [
    "decode([46 , 47 ,1 ])"
   ]
  },
  {
   "cell_type": "code",
   "execution_count": 20,
   "id": "6443ae32-dc29-4b66-a9ea-9ff8664c695a",
   "metadata": {},
   "outputs": [
    {
     "data": {
      "text/plain": [
       "'2.7.0+cu126'"
      ]
     },
     "execution_count": 20,
     "metadata": {},
     "output_type": "execute_result"
    }
   ],
   "source": [
    "import torch\n",
    "torch.__version__"
   ]
  },
  {
   "cell_type": "code",
   "execution_count": 22,
   "id": "c5d3bfe2-ec95-4de1-85e6-2f5a52962d7d",
   "metadata": {},
   "outputs": [],
   "source": [
    "dataset = torch.tensor(encode(text) , dtype = torch.long)"
   ]
  },
  {
   "cell_type": "code",
   "execution_count": 23,
   "id": "769c1fbe-2de1-4212-8ce6-8cbba7e9cf32",
   "metadata": {},
   "outputs": [
    {
     "data": {
      "text/plain": [
       "torch.Size([1115394])"
      ]
     },
     "execution_count": 23,
     "metadata": {},
     "output_type": "execute_result"
    }
   ],
   "source": [
    "dataset.shape"
   ]
  },
  {
   "cell_type": "code",
   "execution_count": 25,
   "id": "935d31fe-ca7b-42a4-a6fd-241f24054bf8",
   "metadata": {},
   "outputs": [
    {
     "data": {
      "text/plain": [
       "torch.int64"
      ]
     },
     "execution_count": 25,
     "metadata": {},
     "output_type": "execute_result"
    }
   ],
   "source": [
    "dataset[:100].dtype"
   ]
  },
  {
   "cell_type": "code",
   "execution_count": 29,
   "id": "6dae4bcf-9ebd-4584-9538-9396d8dcaf81",
   "metadata": {},
   "outputs": [
    {
     "data": {
      "text/plain": [
       "(torch.Size([1003854]), torch.Size([111540]))"
      ]
     },
     "execution_count": 29,
     "metadata": {},
     "output_type": "execute_result"
    }
   ],
   "source": [
    "n = int(0.9 * len(dataset))\n",
    "\n",
    "train = dataset[:n]\n",
    "val = dataset[n:]\n",
    "\n",
    "\n",
    "train.shape , val.shape"
   ]
  },
  {
   "cell_type": "code",
   "execution_count": 35,
   "id": "55ac4ecf-4e29-4ea3-bac6-97da1833bc38",
   "metadata": {
    "scrolled": true
   },
   "outputs": [],
   "source": [
    "test = [int(i) for i in train[:100]]"
   ]
  },
  {
   "cell_type": "code",
   "execution_count": 36,
   "id": "5ea8e39d-0349-4f38-98d4-3085e68ce9e1",
   "metadata": {},
   "outputs": [
    {
     "data": {
      "text/plain": [
       "'First Citizen:\\nBefore we proceed any further, hear me speak.\\n\\nAll:\\nSpeak, speak.\\n\\nFirst Citizen:\\nYou'"
      ]
     },
     "execution_count": 36,
     "metadata": {},
     "output_type": "execute_result"
    }
   ],
   "source": [
    "decode(test)"
   ]
  },
  {
   "cell_type": "code",
   "execution_count": 41,
   "id": "45bd6cc5-9fb1-4f35-acbb-4c0d7c1c370c",
   "metadata": {},
   "outputs": [],
   "source": [
    "block_size = 8"
   ]
  },
  {
   "cell_type": "code",
   "execution_count": 42,
   "id": "73b564fc-1d39-4082-9c45-c37af39a13a3",
   "metadata": {},
   "outputs": [
    {
     "name": "stdout",
     "output_type": "stream",
     "text": [
      "for context : tensor([18]) target : 47\n",
      "for context : tensor([18, 47]) target : 56\n",
      "for context : tensor([18, 47, 56]) target : 57\n",
      "for context : tensor([18, 47, 56, 57]) target : 58\n",
      "for context : tensor([18, 47, 56, 57, 58]) target : 1\n",
      "for context : tensor([18, 47, 56, 57, 58,  1]) target : 15\n",
      "for context : tensor([18, 47, 56, 57, 58,  1, 15]) target : 47\n",
      "for context : tensor([18, 47, 56, 57, 58,  1, 15, 47]) target : 58\n"
     ]
    }
   ],
   "source": [
    "x = train[:block_size]\n",
    "y = train[1 : block_size + 1]\n",
    "\n",
    "for t in range(block_size):\n",
    "    context = x[:t+1]\n",
    "    target = y[t]\n",
    "\n",
    "    print(f\"for context : {context} target : {target}\")"
   ]
  },
  {
   "cell_type": "code",
   "execution_count": 156,
   "id": "b492b2bd-8df4-498f-ba45-a56de4bba5f1",
   "metadata": {},
   "outputs": [
    {
     "data": {
      "text/plain": [
       "('input',\n",
       " tensor([[57,  1, 46, 47, 57,  1, 50, 53],\n",
       "         [ 1, 58, 46, 43, 56, 43,  1, 41],\n",
       "         [17, 26, 15, 17, 10,  0, 32, 53],\n",
       "         [57, 58,  6,  1, 61, 47, 58, 46]]),\n",
       " 'target',\n",
       " tensor([[ 1, 46, 47, 57,  1, 50, 53, 60],\n",
       "         [58, 46, 43, 56, 43,  1, 41, 39],\n",
       "         [26, 15, 17, 10,  0, 32, 53,  1],\n",
       "         [58,  6,  1, 61, 47, 58, 46,  0]]))"
      ]
     },
     "execution_count": 156,
     "metadata": {},
     "output_type": "execute_result"
    }
   ],
   "source": [
    "# Dataloader\n",
    "torch.manual_seed(42)\n",
    "\n",
    "block_size = 8\n",
    "batch_size = 4\n",
    "\n",
    "def get_batch(split : str):\n",
    "    data = train if split == 'train' else  val  \n",
    "\n",
    "\n",
    "    idx = torch.randint(len(data) - block_size , (batch_size , ))\n",
    "\n",
    "    \n",
    "    x = torch.stack( [data[i : i + block_size] for i in idx] )\n",
    "    y = torch.stack( [data[i + 1 : i + block_size +1 ] for i in idx] )\n",
    "    # print(idx)\n",
    "    return x , y\n",
    "\n",
    "\n",
    "\n",
    "xb , yb = get_batch(\"train\")\n",
    "\n",
    "\"input\",xb,\"target\",yb\n"
   ]
  },
  {
   "cell_type": "code",
   "execution_count": 157,
   "id": "0c6e15ca-103b-485a-8caa-3090ee29e36a",
   "metadata": {},
   "outputs": [],
   "source": [
    "## bigram language model\n",
    "\n",
    "import torch\n",
    "import torch.nn as nn\n",
    "from torch.nn import functional as F\n",
    "\n"
   ]
  },
  {
   "cell_type": "code",
   "execution_count": 158,
   "id": "b62189cd-579d-45b7-988c-02c8a0a314cb",
   "metadata": {},
   "outputs": [],
   "source": [
    "class BigramLanguageModel(nn.Module):\n",
    "\n",
    "    def __init__(self, vocab_size):\n",
    "        super().__init__()\n",
    "\n",
    "        self.token_embedding_table = nn.Embedding(vocab_size , vocab_size)\n",
    "\n",
    "\n",
    "    def forward(self, idx , targets = None):\n",
    "        logits = self.token_embedding_table(idx) #(B,T,C)\n",
    "\n",
    "        \n",
    "        if targets is None:\n",
    "            loss =  None\n",
    "\n",
    "        else:\n",
    "            \n",
    "            B , T , C = logits.shape\n",
    "    \n",
    "            # print(f\"B : {B} | T : {T} | C : {C}\")\n",
    "    \n",
    "            logits  = logits.view(B*T , C)\n",
    "            # print(f\"logits shape : {logits.shape}\")\n",
    "\n",
    "            targets = targets.view(B*T)\n",
    "            # print(f\"targets shape : {targets.shape}\")\n",
    "    \n",
    "            \n",
    "            loss = F.cross_entropy(logits , targets)\n",
    "\n",
    "        \n",
    "        return logits , loss\n",
    "\n",
    "    def generate(self , idx , max_new_tokens):\n",
    "\n",
    "        for _ in range(max_new_tokens):\n",
    "\n",
    "            logits , loss = self(idx)\n",
    "\n",
    "            logits = logits[ : , -1 ,:] # (B , C)\n",
    "        \n",
    "            probs = F.softmax(logits , dim = 1)\n",
    "\n",
    "            idx_next = torch.multinomial(probs , num_samples = 1) # (B , 1)\n",
    "\n",
    "            idx = torch.cat((idx , idx_next) , dim = 1) # (B , T +1)\n",
    "\n",
    "\n",
    "        # idx = self.decode(idx)\n",
    "        return idx\n",
    "\n",
    "    def decode(self , logits):\n",
    "\n",
    "        return [decode(i)for i in logits.tolist()]  \n",
    "\n",
    "n = BigramLanguageModel(vocab_size)"
   ]
  },
  {
   "cell_type": "code",
   "execution_count": 159,
   "id": "1d38dfd3-d029-40dd-a198-97da936b772d",
   "metadata": {},
   "outputs": [],
   "source": [
    "logits , loss = n(xb , yb)"
   ]
  },
  {
   "cell_type": "code",
   "execution_count": 160,
   "id": "3f50802b-6453-41df-9e3a-f84bab8d484a",
   "metadata": {},
   "outputs": [
    {
     "data": {
      "text/plain": [
       "torch.Size([32, 65])"
      ]
     },
     "execution_count": 160,
     "metadata": {},
     "output_type": "execute_result"
    }
   ],
   "source": [
    "logits.shape"
   ]
  },
  {
   "cell_type": "code",
   "execution_count": 161,
   "id": "aa8a32aa-2098-4271-b593-e5ceec030827",
   "metadata": {},
   "outputs": [
    {
     "data": {
      "text/plain": [
       "tensor(4.7241, grad_fn=<NllLossBackward0>)"
      ]
     },
     "execution_count": 161,
     "metadata": {},
     "output_type": "execute_result"
    }
   ],
   "source": [
    "loss"
   ]
  },
  {
   "cell_type": "code",
   "execution_count": 162,
   "id": "2cf3232e-7aaa-45c9-af57-3447c5b9cdab",
   "metadata": {},
   "outputs": [],
   "source": [
    "logits = n.generate(xb , max_new_tokens = 100)"
   ]
  },
  {
   "cell_type": "code",
   "execution_count": 163,
   "id": "5f497b1c-bebb-4a29-bbce-f3b94c45eda2",
   "metadata": {
    "scrolled": true
   },
   "outputs": [
    {
     "data": {
      "text/plain": [
       "torch.Size([4, 108])"
      ]
     },
     "execution_count": 163,
     "metadata": {},
     "output_type": "execute_result"
    }
   ],
   "source": [
    "logits.shape"
   ]
  },
  {
   "cell_type": "code",
   "execution_count": null,
   "id": "acd1dcb4-735d-4f14-b5b3-95f27b2a6fa4",
   "metadata": {
    "scrolled": true
   },
   "outputs": [],
   "source": []
  },
  {
   "cell_type": "code",
   "execution_count": 165,
   "id": "5d99c943-786f-43dc-96f6-0cd2068d0d72",
   "metadata": {},
   "outputs": [],
   "source": [
    "optimizer = torch.optim.AdamW(n.parameters() , lr = 1e-3)"
   ]
  },
  {
   "cell_type": "code",
   "execution_count": 166,
   "id": "03425542-79ef-4e91-9fce-dba8f7ce2706",
   "metadata": {},
   "outputs": [
    {
     "data": {
      "text/plain": [
       "<generator object Module.parameters at 0x7beb0ca36260>"
      ]
     },
     "execution_count": 166,
     "metadata": {},
     "output_type": "execute_result"
    }
   ],
   "source": [
    "n.parameters()"
   ]
  },
  {
   "cell_type": "code",
   "execution_count": 172,
   "id": "8d28bddf-260d-4b38-ae27-9c06d03dadf4",
   "metadata": {},
   "outputs": [
    {
     "name": "stderr",
     "output_type": "stream",
     "text": [
      "  0%|▏                                                         | 32/10000 [00:00<00:32, 310.56it/s]"
     ]
    },
    {
     "name": "stdout",
     "output_type": "stream",
     "text": [
      "for epoch : 0 | loss : 3.0237884521484375\n"
     ]
    },
    {
     "name": "stderr",
     "output_type": "stream",
     "text": [
      " 11%|██████▏                                                 | 1103/10000 [00:01<00:11, 768.11it/s]"
     ]
    },
    {
     "name": "stdout",
     "output_type": "stream",
     "text": [
      "for epoch : 1000 | loss : 2.7155497074127197\n"
     ]
    },
    {
     "name": "stderr",
     "output_type": "stream",
     "text": [
      " 21%|███████████▊                                            | 2110/10000 [00:02<00:11, 702.68it/s]"
     ]
    },
    {
     "name": "stdout",
     "output_type": "stream",
     "text": [
      "for epoch : 2000 | loss : 2.549657106399536\n"
     ]
    },
    {
     "name": "stderr",
     "output_type": "stream",
     "text": [
      " 31%|█████████████████▎                                      | 3083/10000 [00:04<00:09, 736.23it/s]"
     ]
    },
    {
     "name": "stdout",
     "output_type": "stream",
     "text": [
      "for epoch : 3000 | loss : 2.540620803833008\n"
     ]
    },
    {
     "name": "stderr",
     "output_type": "stream",
     "text": [
      " 41%|███████████████████████▏                                | 4135/10000 [00:05<00:08, 725.41it/s]"
     ]
    },
    {
     "name": "stdout",
     "output_type": "stream",
     "text": [
      "for epoch : 4000 | loss : 2.5854618549346924\n"
     ]
    },
    {
     "name": "stderr",
     "output_type": "stream",
     "text": [
      " 51%|████████████████████████████▍                           | 5089/10000 [00:07<00:07, 671.58it/s]"
     ]
    },
    {
     "name": "stdout",
     "output_type": "stream",
     "text": [
      "for epoch : 5000 | loss : 2.512922763824463\n"
     ]
    },
    {
     "name": "stderr",
     "output_type": "stream",
     "text": [
      " 61%|██████████████████████████████████▎                     | 6128/10000 [00:08<00:05, 667.15it/s]"
     ]
    },
    {
     "name": "stdout",
     "output_type": "stream",
     "text": [
      "for epoch : 6000 | loss : 2.607551336288452\n"
     ]
    },
    {
     "name": "stderr",
     "output_type": "stream",
     "text": [
      " 71%|███████████████████████████████████████▊                | 7114/10000 [00:10<00:04, 596.83it/s]"
     ]
    },
    {
     "name": "stdout",
     "output_type": "stream",
     "text": [
      "for epoch : 7000 | loss : 2.5376503467559814\n"
     ]
    },
    {
     "name": "stderr",
     "output_type": "stream",
     "text": [
      " 81%|█████████████████████████████████████████████▏          | 8076/10000 [00:11<00:03, 608.58it/s]"
     ]
    },
    {
     "name": "stdout",
     "output_type": "stream",
     "text": [
      "for epoch : 8000 | loss : 2.270321846008301\n"
     ]
    },
    {
     "name": "stderr",
     "output_type": "stream",
     "text": [
      " 91%|██████████████████████████████████████████████████▊     | 9067/10000 [00:13<00:01, 667.19it/s]"
     ]
    },
    {
     "name": "stdout",
     "output_type": "stream",
     "text": [
      "for epoch : 9000 | loss : 2.459124803543091\n"
     ]
    },
    {
     "name": "stderr",
     "output_type": "stream",
     "text": [
      "100%|███████████████████████████████████████████████████████| 10000/10000 [00:14<00:00, 672.25it/s]\n"
     ]
    }
   ],
   "source": [
    "from tqdm import tqdm\n",
    "\n",
    "\n",
    "batch_size = 32\n",
    "\n",
    "\n",
    "\n",
    "for step in tqdm(range(10000)):\n",
    "    xb , yb = get_batch('train')\n",
    "\n",
    "    logits , loss = n(xb , yb)\n",
    "\n",
    "    optimizer.zero_grad(set_to_none = True)\n",
    "\n",
    "    loss.backward()\n",
    "\n",
    "    optimizer.step()\n",
    "\n",
    "    if step % 1000 == 0 :\n",
    "        print(f\"for epoch : {step} | loss : {loss}\")\n",
    "\n",
    "    \n",
    "    \n"
   ]
  },
  {
   "cell_type": "code",
   "execution_count": 177,
   "id": "dd431e8d-9711-4fd2-b2a8-0f487da0e692",
   "metadata": {},
   "outputs": [
    {
     "data": {
      "text/plain": [
       "['\\nPEOFr ongallouechodwen y br desoor aned meirstononyiffra:\\nAng, VIN:\\nMVais f stoiof s by ; h men what sar, e lly peve l nst\\nWeafry athisisckindary ordingalvengrallounlo alund ha nen:\\nPl w,\\nEERGolllditht, tiso he bu wndetitherea I fatre eteybo cuclitisie anghauref Ma hesot ot an wsho f out.\\nAR:\\n\\nmby tot ck! erthere my, at the w!\\nCENNBo, henerd. hed.\\n\\nFoulsthanooledingorethir tor o m ce KItr s dosange bl hich t houspim?\\nO:\\n\\nou ystooundngit d, the e ferouthid t wags, tave ineathim heft wownemathon h']"
      ]
     },
     "execution_count": 177,
     "metadata": {},
     "output_type": "execute_result"
    }
   ],
   "source": [
    "n.decode(n.generate(idx = torch.zeros((1,1) , dtype = torch.long) , max_new_tokens = 500 ))"
   ]
  },
  {
   "cell_type": "code",
   "execution_count": 187,
   "id": "cf1ac45d-784b-47b1-9d0b-9478c3e00819",
   "metadata": {},
   "outputs": [
    {
     "data": {
      "text/plain": [
       "tensor([[1.0000, 0.0000, 0.0000, 0.0000, 0.0000, 0.0000, 0.0000, 0.0000],\n",
       "        [0.5000, 0.5000, 0.0000, 0.0000, 0.0000, 0.0000, 0.0000, 0.0000],\n",
       "        [0.3333, 0.3333, 0.3333, 0.0000, 0.0000, 0.0000, 0.0000, 0.0000],\n",
       "        [0.2500, 0.2500, 0.2500, 0.2500, 0.0000, 0.0000, 0.0000, 0.0000],\n",
       "        [0.2000, 0.2000, 0.2000, 0.2000, 0.2000, 0.0000, 0.0000, 0.0000],\n",
       "        [0.1667, 0.1667, 0.1667, 0.1667, 0.1667, 0.1667, 0.0000, 0.0000],\n",
       "        [0.1429, 0.1429, 0.1429, 0.1429, 0.1429, 0.1429, 0.1429, 0.0000],\n",
       "        [0.1250, 0.1250, 0.1250, 0.1250, 0.1250, 0.1250, 0.1250, 0.1250]])"
      ]
     },
     "execution_count": 187,
     "metadata": {},
     "output_type": "execute_result"
    }
   ],
   "source": [
    "T = 8\n",
    "\n",
    "tril = torch.ones(T ,T )\n",
    "tril = torch.tril(tril)\n",
    "\n",
    "\n",
    "wei = torch.zeros(T , T)\n",
    "wei = wei.masked_fill(tril == 0 , float('-inf'))\n",
    "wei = F.softmax(wei , dim =-1)\n",
    "wei"
   ]
  },
  {
   "cell_type": "code",
   "execution_count": 191,
   "id": "bc08cf4f-2c69-409a-8cc2-f65f279d7d8a",
   "metadata": {},
   "outputs": [
    {
     "data": {
      "text/plain": [
       "torch.Size([8])"
      ]
     },
     "execution_count": 191,
     "metadata": {},
     "output_type": "execute_result"
    }
   ],
   "source": [
    "ran = torch.arange(T)\n",
    "ran.shape"
   ]
  },
  {
   "cell_type": "code",
   "execution_count": 196,
   "id": "0f183578-ab9e-4993-9ddd-e6afe79dd106",
   "metadata": {},
   "outputs": [],
   "source": [
    "head_size = 16 "
   ]
  },
  {
   "cell_type": "code",
   "execution_count": 211,
   "id": "d991dbca-9824-454a-be7f-065bff339717",
   "metadata": {},
   "outputs": [
    {
     "data": {
      "text/plain": [
       "(torch.Size([4, 8, 16]), torch.Size([4, 8, 16]))"
      ]
     },
     "execution_count": 211,
     "metadata": {},
     "output_type": "execute_result"
    }
   ],
   "source": [
    "\n",
    "B ,T , C = 4 , 8 , 32\n",
    "\n",
    "x = torch.randn(B, T, C)\n",
    "\n",
    "key = nn.Linear(C , head_size , bias  = False)\n",
    "query = nn.Linear(C , head_size , bias  = False)\n",
    "value = nn.Linear(C , head_size , bias  = False)\n",
    "\n",
    "k = key(x)\n",
    "\n",
    "q = query(x)\n",
    "\n",
    "v = value(x)\n",
    "k.shape , q.shape"
   ]
  },
  {
   "cell_type": "code",
   "execution_count": 218,
   "id": "476d8b22-cfdb-42f9-b815-bdfca1dca2da",
   "metadata": {},
   "outputs": [],
   "source": [
    "wei = q @ k.transpose(-2 , -1) * head_size** -0.5"
   ]
  },
  {
   "cell_type": "code",
   "execution_count": 219,
   "id": "1929b94b-ee6e-4b5d-9fa1-c9fb708853b8",
   "metadata": {},
   "outputs": [
    {
     "data": {
      "text/plain": [
       "torch.Size([4, 8, 8])"
      ]
     },
     "execution_count": 219,
     "metadata": {},
     "output_type": "execute_result"
    }
   ],
   "source": [
    "wei.shape"
   ]
  },
  {
   "cell_type": "code",
   "execution_count": 214,
   "id": "b2ad6b7a-0c36-40ba-9bf4-8a8a0d9d548a",
   "metadata": {},
   "outputs": [],
   "source": [
    "tril = torch.ones(T ,T )\n",
    "tril = torch.tril(tril)\n",
    "\n",
    "\n",
    "wei = torch.zeros(T , T)\n",
    "wei = wei.masked_fill(tril == 0 , float('-inf'))\n",
    "wei = F.softmax(wei , dim =-1)"
   ]
  },
  {
   "cell_type": "code",
   "execution_count": 215,
   "id": "4b097326-8fac-400a-a9c0-e153bce4e388",
   "metadata": {},
   "outputs": [],
   "source": [
    "out = wei @ v"
   ]
  },
  {
   "cell_type": "code",
   "execution_count": 217,
   "id": "df5b0d8d-9ba5-4bcf-bcd8-a61f03bb141c",
   "metadata": {},
   "outputs": [
    {
     "data": {
      "text/plain": [
       "torch.Size([8, 8])"
      ]
     },
     "execution_count": 217,
     "metadata": {},
     "output_type": "execute_result"
    }
   ],
   "source": [
    "wei.shape"
   ]
  },
  {
   "cell_type": "code",
   "execution_count": null,
   "id": "9ca28eb4-139d-4f33-ac65-54ebbb80d167",
   "metadata": {},
   "outputs": [],
   "source": []
  }
 ],
 "metadata": {
  "kernelspec": {
   "display_name": "NN",
   "language": "python",
   "name": "nn"
  },
  "language_info": {
   "codemirror_mode": {
    "name": "ipython",
    "version": 3
   },
   "file_extension": ".py",
   "mimetype": "text/x-python",
   "name": "python",
   "nbconvert_exporter": "python",
   "pygments_lexer": "ipython3",
   "version": "3.12.3"
  }
 },
 "nbformat": 4,
 "nbformat_minor": 5
}
