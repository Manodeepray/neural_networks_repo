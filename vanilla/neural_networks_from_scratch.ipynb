{
 "cells": [
  {
   "cell_type": "code",
   "execution_count": 1,
   "id": "49242ac6",
   "metadata": {},
   "outputs": [
    {
     "name": "stdout",
     "output_type": "stream",
     "text": [
      "output of neurons : [4.8, 1.21, 1.3649999999999998]\n"
     ]
    }
   ],
   "source": [
    "import sys\n",
    "import numpy as np\n",
    "import matplotlib\n",
    "\n",
    "inputs = [1, 2, 3 , 2.5]\n",
    "weights = [[0.2 , 0.8 , -0.5 , 1.0],\n",
    "           [0.5 , -0.91 , 0.26 , -0.5],\n",
    "           [-0.26 , -0.27 , -0.17 , 0.87]]\n",
    "\n",
    "biases =[ 2, 3, 0.5 ]\n",
    "\n",
    "\n",
    "layer_output = []\n",
    "\n",
    "for neuron_weights , neuron_bias in zip(weights,biases):\n",
    "    neuron_output = 0\n",
    "    for neuron_weight , n_input in zip(neuron_weights , inputs):\n",
    "        neuron_output += n_input*neuron_weight\n",
    "    neuron_output  += neuron_bias\n",
    "    layer_output.append(neuron_output)  \n",
    "    \n",
    "\n",
    "\n",
    "print(\"output of neurons :\",layer_output)\n"
   ]
  },
  {
   "cell_type": "markdown",
   "id": "0c77602f",
   "metadata": {},
   "source": [
    "## Single neuron with numpy"
   ]
  },
  {
   "cell_type": "code",
   "execution_count": 1,
   "id": "6459ec1a",
   "metadata": {},
   "outputs": [
    {
     "name": "stdout",
     "output_type": "stream",
     "text": [
      "4.8\n"
     ]
    }
   ],
   "source": [
    "import numpy as np\n",
    "\n",
    "\n",
    "inputs = [1.0,2.0,3.0,2.5]\n",
    "weights = [0.2,0.8,-0.5,1.0]\n",
    "bias = 2.0\n",
    "\n",
    "\n",
    "outputs = np.dot(weights , inputs) + bias\n",
    "\n",
    "print(outputs)"
   ]
  },
  {
   "cell_type": "code",
   "execution_count": 4,
   "id": "73fb3cd2",
   "metadata": {},
   "outputs": [
    {
     "name": "stdout",
     "output_type": "stream",
     "text": [
      "[4.8   1.21  2.385]\n"
     ]
    }
   ],
   "source": [
    "inputs = [1.0,2.0,3.0,2.5]\n",
    "weights =[ [0.2,0.8,-0.5,1.0],\n",
    "          [0.5 , -0.91 , 0.26 , -0.5],\n",
    "          [-0.26,-0.27 , 0.17 , 0.87]]\n",
    "bias = [2.0 , 3.0 , 0.5]\n",
    "\n",
    "layer_outputs = np.dot(weights , inputs) + bias\n",
    "print(layer_outputs)\n"
   ]
  },
  {
   "cell_type": "code",
   "execution_count": 5,
   "id": "30df0a7d",
   "metadata": {},
   "outputs": [
    {
     "data": {
      "text/plain": [
       "array([[20]])"
      ]
     },
     "execution_count": 5,
     "metadata": {},
     "output_type": "execute_result"
    }
   ],
   "source": [
    "a = [ 1 , 2 , 3 ]\n",
    "b = [ 2 , 3 , 4 ]\n",
    "\n",
    "a = np.array([a])\n",
    "b = np.array([b]).T\n",
    "\n",
    "np.dot(a,b)"
   ]
  },
  {
   "cell_type": "code",
   "execution_count": 7,
   "id": "7e7ba318",
   "metadata": {},
   "outputs": [],
   "source": [
    "#layer of neurons and batch data\n",
    "inputs = [[1.0,2.0,3.0,2.5],\n",
    "          [2.0 , 5.0 , -1.0 , 2.0],\n",
    "          [-1.5,2.7,3.3 , -0.8]]\n",
    "\n",
    "\n",
    "\n",
    "\n",
    "\n",
    "\n",
    "weights =[ [0.2,0.8,-0.5,1.0],\n",
    "          [0.5 , -0.91 , 0.26 , -0.5],\n",
    "          [-0.26,-0.27 , 0.17 , 0.87]]\n",
    "\n",
    "\n",
    "biases = [2.0 , 3.0 , 0.5]\n",
    "\n",
    "\n",
    "\n",
    "weights = np.array(weights).T\n",
    "\n",
    "outputs = np.dot(inputs , weights) + bias"
   ]
  },
  {
   "cell_type": "code",
   "execution_count": 8,
   "id": "628806c9",
   "metadata": {},
   "outputs": [
    {
     "data": {
      "text/plain": [
       "array([[ 4.8  ,  1.21 ,  2.385],\n",
       "       [ 8.9  , -1.81 ,  0.2  ],\n",
       "       [ 1.41 ,  1.051,  0.026]])"
      ]
     },
     "execution_count": 8,
     "metadata": {},
     "output_type": "execute_result"
    }
   ],
   "source": [
    "outputs"
   ]
  },
  {
   "cell_type": "markdown",
   "id": "f973972f",
   "metadata": {},
   "source": [
    "## adding layers"
   ]
  },
  {
   "cell_type": "code",
   "execution_count": 11,
   "id": "382178dc",
   "metadata": {},
   "outputs": [
    {
     "name": "stdout",
     "output_type": "stream",
     "text": [
      "\n",
      "layer1_outputs : \n",
      " [[ 4.8    1.21   2.385]\n",
      " [ 8.9   -1.81   0.2  ]\n",
      " [ 1.41   1.051  0.026]]\n",
      "\n",
      " layer2_outputs : \n",
      " [[ 0.5031  -1.04185 -2.03875]\n",
      " [ 0.2434  -2.7332  -5.7633 ]\n",
      " [-0.99314  1.41254 -0.35655]]\n"
     ]
    }
   ],
   "source": [
    "\n",
    "inputs = [[1.0,2.0,3.0,2.5],\n",
    "          [2.0 , 5.0 , -1.0 , 2.0],\n",
    "          [-1.5,2.7,3.3 , -0.8]]\n",
    "\n",
    "\n",
    "\n",
    "\n",
    "weights =[ [0.2,0.8,-0.5,1.0],\n",
    "          [0.5 , -0.91 , 0.26 , -0.5],\n",
    "          [-0.26,-0.27 , 0.17 , 0.87]]\n",
    "\n",
    "\n",
    "biases = [2.0 , 3.0 , 0.5]\n",
    "\n",
    "\n",
    "\n",
    "weights2 = [[ 0.1 , - 0.14 , 0.5 ],\n",
    "            [ - 0.5 , 0.12 , - 0.33 ],\n",
    "            [ - 0.44 , 0.73 , - 0.13 ]]\n",
    "\n",
    "biases2 = [ - 1 , 2 , - 0.5 ]\n",
    "\n",
    "\n",
    "\n",
    "layer1_outputs =  np.dot(inputs , np.array(weights).T) + biases\n",
    "print(\"\\nlayer1_outputs : \\n\",\n",
    "      layer1_outputs)\n",
    "layer2_outputs = np.dot(layer1_outputs,np.array(weights2).T) + biases2\n",
    "print(\"\\n layer2_outputs : \\n\",\n",
    "      layer2_outputs)"
   ]
  },
  {
   "cell_type": "code",
   "execution_count": 12,
   "id": "bbdb010e",
   "metadata": {},
   "outputs": [
    {
     "name": "stdout",
     "output_type": "stream",
     "text": [
      "Collecting nnfs\n",
      "  Downloading nnfs-0.5.1-py3-none-any.whl.metadata (1.7 kB)\n",
      "Requirement already satisfied: numpy in c:\\users\\kiit\\anaconda3\\lib\\site-packages (from nnfs) (1.26.4)\n",
      "Downloading nnfs-0.5.1-py3-none-any.whl (9.1 kB)\n",
      "Installing collected packages: nnfs\n",
      "Successfully installed nnfs-0.5.1\n"
     ]
    },
    {
     "name": "stderr",
     "output_type": "stream",
     "text": [
      "WARNING: Skipping C:\\Users\\KIIT\\anaconda3\\Lib\\site-packages\\aiohttp-3.8.3.dist-info due to invalid metadata entry 'name'\n",
      "WARNING: Skipping C:\\Users\\KIIT\\anaconda3\\Lib\\site-packages\\attrs-22.1.0.dist-info due to invalid metadata entry 'name'\n",
      "WARNING: Skipping C:\\Users\\KIIT\\anaconda3\\Lib\\site-packages\\autopep8-1.6.0.dist-info due to invalid metadata entry 'name'\n",
      "WARNING: Skipping C:\\Users\\KIIT\\anaconda3\\Lib\\site-packages\\black-0.0.dist-info due to invalid metadata entry 'name'\n",
      "WARNING: Skipping C:\\Users\\KIIT\\anaconda3\\Lib\\site-packages\\botocore-1.27.59.dist-info due to invalid metadata entry 'name'\n",
      "WARNING: Skipping C:\\Users\\KIIT\\anaconda3\\Lib\\site-packages\\certifi-2023.7.22.dist-info due to invalid metadata entry 'name'\n",
      "WARNING: Skipping C:\\Users\\KIIT\\anaconda3\\Lib\\site-packages\\cffi-1.15.1.dist-info due to invalid metadata entry 'name'\n",
      "WARNING: Skipping C:\\Users\\KIIT\\anaconda3\\Lib\\site-packages\\click-8.0.4.dist-info due to invalid metadata entry 'name'\n",
      "WARNING: Skipping C:\\Users\\KIIT\\anaconda3\\Lib\\site-packages\\colorcet-3.0.1.dist-info due to invalid metadata entry 'name'\n",
      "WARNING: Skipping C:\\Users\\KIIT\\anaconda3\\Lib\\site-packages\\comm-0.1.2.dist-info due to invalid metadata entry 'name'\n",
      "WARNING: Skipping C:\\Users\\KIIT\\anaconda3\\Lib\\site-packages\\conda-23.7.2.dist-info due to invalid metadata entry 'name'\n",
      "WARNING: Skipping C:\\Users\\KIIT\\anaconda3\\Lib\\site-packages\\conda_build-3.26.0.dist-info due to invalid metadata entry 'name'\n",
      "WARNING: Skipping C:\\Users\\KIIT\\anaconda3\\Lib\\site-packages\\conda_content_trust-0+unknown.dist-info due to invalid metadata entry 'name'\n",
      "WARNING: Skipping C:\\Users\\KIIT\\anaconda3\\Lib\\site-packages\\conda_libmamba_solver-23.5.0.dist-info due to invalid metadata entry 'name'\n",
      "WARNING: Skipping C:\\Users\\KIIT\\anaconda3\\Lib\\site-packages\\constantly-15.1.0-py3.11.egg-info due to invalid metadata entry 'name'\n",
      "WARNING: Skipping C:\\Users\\KIIT\\anaconda3\\Lib\\site-packages\\cookiecutter-1.7.3.dist-info due to invalid metadata entry 'name'\n",
      "WARNING: Skipping C:\\Users\\KIIT\\anaconda3\\Lib\\site-packages\\cryptography-41.0.2.dist-info due to invalid metadata entry 'name'\n",
      "WARNING: Skipping C:\\Users\\KIIT\\anaconda3\\Lib\\site-packages\\cssselect-1.1.0-py3.9.egg-info due to invalid metadata entry 'name'\n",
      "WARNING: Skipping C:\\Users\\KIIT\\anaconda3\\Lib\\site-packages\\cytoolz-0.12.0.dist-info due to invalid metadata entry 'name'\n",
      "WARNING: Skipping C:\\Users\\KIIT\\anaconda3\\Lib\\site-packages\\filelock-3.9.0.dist-info due to invalid metadata entry 'name'\n",
      "WARNING: Skipping C:\\Users\\KIIT\\anaconda3\\Lib\\site-packages\\Flask-2.2.2.dist-info due to invalid metadata entry 'name'\n",
      "WARNING: Skipping C:\\Users\\KIIT\\anaconda3\\Lib\\site-packages\\fonttools-4.25.0-py3.9.egg-info due to invalid metadata entry 'name'\n",
      "WARNING: Skipping C:\\Users\\KIIT\\anaconda3\\Lib\\site-packages\\frozenlist-1.3.3.dist-info due to invalid metadata entry 'name'\n",
      "WARNING: Skipping C:\\Users\\KIIT\\anaconda3\\Lib\\site-packages\\greenlet-2.0.1.dist-info due to invalid metadata entry 'name'\n",
      "WARNING: Skipping C:\\Users\\KIIT\\anaconda3\\Lib\\site-packages\\idna-3.4.dist-info due to invalid metadata entry 'name'\n",
      "WARNING: Skipping C:\\Users\\KIIT\\anaconda3\\Lib\\site-packages\\importlib_metadata-6.0.0.dist-info due to invalid metadata entry 'name'\n",
      "WARNING: Skipping C:\\Users\\KIIT\\anaconda3\\Lib\\site-packages\\incremental-21.3.0.dist-info due to invalid metadata entry 'name'\n",
      "WARNING: Skipping C:\\Users\\KIIT\\anaconda3\\Lib\\site-packages\\ipython-8.12.0.dist-info due to invalid metadata entry 'name'\n",
      "WARNING: Skipping C:\\Users\\KIIT\\anaconda3\\Lib\\site-packages\\itemloaders-1.0.4.dist-info due to invalid metadata entry 'name'\n",
      "WARNING: Skipping C:\\Users\\KIIT\\anaconda3\\Lib\\site-packages\\itsdangerous-2.0.1.dist-info due to invalid metadata entry 'name'\n",
      "WARNING: Skipping C:\\Users\\KIIT\\anaconda3\\Lib\\site-packages\\jellyfish-0.9.0.dist-info due to invalid metadata entry 'name'\n",
      "WARNING: Skipping C:\\Users\\KIIT\\anaconda3\\Lib\\site-packages\\Jinja2-3.1.2.dist-info due to invalid metadata entry 'name'\n",
      "WARNING: Skipping C:\\Users\\KIIT\\anaconda3\\Lib\\site-packages\\jmespath-0.10.0.dist-info due to invalid metadata entry 'name'\n",
      "WARNING: Skipping C:\\Users\\KIIT\\anaconda3\\Lib\\site-packages\\joblib-1.2.0.dist-info due to invalid metadata entry 'name'\n",
      "WARNING: Skipping C:\\Users\\KIIT\\anaconda3\\Lib\\site-packages\\jsonpatch-1.32.dist-info due to invalid metadata entry 'name'\n",
      "WARNING: Skipping C:\\Users\\KIIT\\anaconda3\\Lib\\site-packages\\jsonschema-4.17.3.dist-info due to invalid metadata entry 'name'\n",
      "WARNING: Skipping C:\\Users\\KIIT\\anaconda3\\Lib\\site-packages\\jupyterlab_pygments-0.1.2.dist-info due to invalid metadata entry 'name'\n",
      "WARNING: Skipping C:\\Users\\KIIT\\anaconda3\\Lib\\site-packages\\jupyterlab_widgets-3.0.5.dist-info due to invalid metadata entry 'name'\n",
      "WARNING: Skipping C:\\Users\\KIIT\\anaconda3\\Lib\\site-packages\\jupyter_core-5.3.0.dist-info due to invalid metadata entry 'name'\n",
      "WARNING: Skipping C:\\Users\\KIIT\\anaconda3\\Lib\\site-packages\\jupyter_events-0.6.3.dist-info due to invalid metadata entry 'name'\n",
      "WARNING: Skipping C:\\Users\\KIIT\\anaconda3\\Lib\\site-packages\\keyring-23.13.1.dist-info due to invalid metadata entry 'name'\n",
      "WARNING: Skipping C:\\Users\\KIIT\\anaconda3\\Lib\\site-packages\\lazy_loader-0.2.dist-info due to invalid metadata entry 'name'\n",
      "WARNING: Skipping C:\\Users\\KIIT\\anaconda3\\Lib\\site-packages\\lazy_object_proxy-1.6.0.dist-info due to invalid metadata entry 'name'\n",
      "WARNING: Skipping C:\\Users\\KIIT\\anaconda3\\Lib\\site-packages\\libmambapy-1.4.1.dist-info due to invalid metadata entry 'name'\n",
      "WARNING: Skipping C:\\Users\\KIIT\\anaconda3\\Lib\\site-packages\\llvmlite-0.40.0.dist-info due to invalid metadata entry 'name'\n",
      "WARNING: Skipping C:\\Users\\KIIT\\anaconda3\\Lib\\site-packages\\lxml-4.9.2.dist-info due to invalid metadata entry 'name'\n",
      "WARNING: Skipping C:\\Users\\KIIT\\anaconda3\\Lib\\site-packages\\MarkupSafe-2.1.1.dist-info due to invalid metadata entry 'name'\n",
      "WARNING: Skipping C:\\Users\\KIIT\\anaconda3\\Lib\\site-packages\\menuinst-1.4.19.dist-info due to invalid metadata entry 'name'\n",
      "WARNING: Skipping C:\\Users\\KIIT\\anaconda3\\Lib\\site-packages\\mistune-0.8.4.dist-info due to invalid metadata entry 'name'\n",
      "WARNING: Skipping C:\\Users\\KIIT\\anaconda3\\Lib\\site-packages\\more_itertools-8.12.0.dist-info due to invalid metadata entry 'name'\n",
      "WARNING: Skipping C:\\Users\\KIIT\\anaconda3\\Lib\\site-packages\\multidict-6.0.2.dist-info due to invalid metadata entry 'name'\n",
      "WARNING: Skipping C:\\Users\\KIIT\\anaconda3\\Lib\\site-packages\\mypy_extensions-0.4.3-py3.11.egg-info due to invalid metadata entry 'name'\n",
      "WARNING: Skipping C:\\Users\\KIIT\\anaconda3\\Lib\\site-packages\\nbclient-0.5.13.dist-info due to invalid metadata entry 'name'\n",
      "WARNING: Skipping C:\\Users\\KIIT\\anaconda3\\Lib\\site-packages\\nbconvert-6.5.4.dist-info due to invalid metadata entry 'name'\n",
      "WARNING: Skipping C:\\Users\\KIIT\\anaconda3\\Lib\\site-packages\\nbformat-5.7.0.dist-info due to invalid metadata entry 'name'\n",
      "WARNING: Skipping C:\\Users\\KIIT\\anaconda3\\Lib\\site-packages\\nest_asyncio-1.5.6.dist-info due to invalid metadata entry 'name'\n",
      "WARNING: Skipping C:\\Users\\KIIT\\anaconda3\\Lib\\site-packages\\numpy-1.24.3.dist-info due to invalid metadata entry 'name'\n",
      "WARNING: Skipping C:\\Users\\KIIT\\anaconda3\\Lib\\site-packages\\openpyxl-3.0.10-py3.11.egg-info due to invalid metadata entry 'name'\n",
      "WARNING: Skipping C:\\Users\\KIIT\\anaconda3\\Lib\\site-packages\\packaging-23.0.dist-info due to invalid metadata entry 'name'\n",
      "WARNING: Skipping C:\\Users\\KIIT\\anaconda3\\Lib\\site-packages\\param-1.13.0.dist-info due to invalid metadata entry 'name'\n",
      "WARNING: Skipping C:\\Users\\KIIT\\anaconda3\\Lib\\site-packages\\parsel-1.6.0.dist-info due to invalid metadata entry 'name'\n",
      "WARNING: Skipping C:\\Users\\KIIT\\anaconda3\\Lib\\site-packages\\partd-1.2.0.dist-info due to invalid metadata entry 'name'\n",
      "WARNING: Skipping C:\\Users\\KIIT\\anaconda3\\Lib\\site-packages\\Pillow-9.4.0-py3.11.egg-info due to invalid metadata entry 'name'\n",
      "WARNING: Skipping C:\\Users\\KIIT\\anaconda3\\Lib\\site-packages\\pkginfo-1.9.6.dist-info due to invalid metadata entry 'name'\n",
      "WARNING: Skipping C:\\Users\\KIIT\\anaconda3\\Lib\\site-packages\\platformdirs-2.5.2.dist-info due to invalid metadata entry 'name'\n",
      "WARNING: Skipping C:\\Users\\KIIT\\anaconda3\\Lib\\site-packages\\plotly-5.9.0.dist-info due to invalid metadata entry 'name'\n",
      "WARNING: Skipping C:\\Users\\KIIT\\anaconda3\\Lib\\site-packages\\prompt_toolkit-3.0.36.dist-info due to invalid metadata entry 'name'\n",
      "WARNING: Skipping C:\\Users\\KIIT\\anaconda3\\Lib\\site-packages\\pycosat-0.6.4.dist-info due to invalid metadata entry 'name'\n",
      "WARNING: Skipping C:\\Users\\KIIT\\anaconda3\\Lib\\site-packages\\PyJWT-2.4.0.dist-info due to invalid metadata entry 'name'\n",
      "WARNING: Skipping C:\\Users\\KIIT\\anaconda3\\Lib\\site-packages\\pylint_venv-2.3.0.dist-info due to invalid metadata entry 'name'\n",
      "WARNING: Skipping C:\\Users\\KIIT\\anaconda3\\Lib\\site-packages\\pyodbc-4.0.34.dist-info due to invalid metadata entry 'name'\n",
      "WARNING: Skipping C:\\Users\\KIIT\\anaconda3\\Lib\\site-packages\\pyOpenSSL-23.2.0.dist-info due to invalid metadata entry 'name'\n",
      "WARNING: Skipping C:\\Users\\KIIT\\anaconda3\\Lib\\site-packages\\PyQt5-5.15.7.dist-info due to invalid metadata entry 'name'\n",
      "WARNING: Skipping C:\\Users\\KIIT\\anaconda3\\Lib\\site-packages\\PyQt5_sip-12.11.0.dist-info due to invalid metadata entry 'name'\n",
      "WARNING: Skipping C:\\Users\\KIIT\\anaconda3\\Lib\\site-packages\\PyQtWebEngine-5.15.4.dist-info due to invalid metadata entry 'name'\n",
      "WARNING: Skipping C:\\Users\\KIIT\\anaconda3\\Lib\\site-packages\\python_dateutil-2.8.2.dist-info due to invalid metadata entry 'name'\n",
      "WARNING: Skipping C:\\Users\\KIIT\\anaconda3\\Lib\\site-packages\\python_lsp_jsonrpc-1.0.0-py3.10.egg-info due to invalid metadata entry 'name'\n",
      "WARNING: Skipping C:\\Users\\KIIT\\anaconda3\\Lib\\site-packages\\pytoolconfig-1.2.5.dist-info due to invalid metadata entry 'name'\n",
      "WARNING: Skipping C:\\Users\\KIIT\\anaconda3\\Lib\\site-packages\\pytz-2022.7.dist-info due to invalid metadata entry 'name'\n",
      "WARNING: Skipping C:\\Users\\KIIT\\anaconda3\\Lib\\site-packages\\pywin32_ctypes-0.2.0.dist-info due to invalid metadata entry 'name'\n",
      "WARNING: Skipping C:\\Users\\KIIT\\anaconda3\\Lib\\site-packages\\PyYAML-6.0.dist-info due to invalid metadata entry 'name'\n",
      "WARNING: Skipping C:\\Users\\KIIT\\anaconda3\\Lib\\site-packages\\py_cpuinfo-8.0.0.dist-info due to invalid metadata entry 'name'\n",
      "WARNING: Skipping C:\\Users\\KIIT\\anaconda3\\Lib\\site-packages\\QtPy-2.2.0.dist-info due to invalid metadata entry 'name'\n",
      "WARNING: Skipping C:\\Users\\KIIT\\anaconda3\\Lib\\site-packages\\queuelib-1.5.0-py3.11.egg-info due to invalid metadata entry 'name'\n",
      "WARNING: Skipping C:\\Users\\KIIT\\anaconda3\\Lib\\site-packages\\regex-2022.7.9.dist-info due to invalid metadata entry 'name'\n",
      "WARNING: Skipping C:\\Users\\KIIT\\anaconda3\\Lib\\site-packages\\requests-2.31.0.dist-info due to invalid metadata entry 'name'\n",
      "WARNING: Skipping C:\\Users\\KIIT\\anaconda3\\Lib\\site-packages\\rope-1.7.0.dist-info due to invalid metadata entry 'name'\n",
      "WARNING: Skipping C:\\Users\\KIIT\\anaconda3\\Lib\\site-packages\\Send2Trash-1.8.0.dist-info due to invalid metadata entry 'name'\n",
      "WARNING: Skipping C:\\Users\\KIIT\\anaconda3\\Lib\\site-packages\\aiohttp-3.8.3.dist-info due to invalid metadata entry 'name'\n",
      "WARNING: Skipping C:\\Users\\KIIT\\anaconda3\\Lib\\site-packages\\attrs-22.1.0.dist-info due to invalid metadata entry 'name'\n",
      "WARNING: Skipping C:\\Users\\KIIT\\anaconda3\\Lib\\site-packages\\autopep8-1.6.0.dist-info due to invalid metadata entry 'name'\n",
      "WARNING: Skipping C:\\Users\\KIIT\\anaconda3\\Lib\\site-packages\\black-0.0.dist-info due to invalid metadata entry 'name'\n",
      "WARNING: Skipping C:\\Users\\KIIT\\anaconda3\\Lib\\site-packages\\botocore-1.27.59.dist-info due to invalid metadata entry 'name'\n",
      "WARNING: Skipping C:\\Users\\KIIT\\anaconda3\\Lib\\site-packages\\certifi-2023.7.22.dist-info due to invalid metadata entry 'name'\n",
      "WARNING: Skipping C:\\Users\\KIIT\\anaconda3\\Lib\\site-packages\\cffi-1.15.1.dist-info due to invalid metadata entry 'name'\n",
      "WARNING: Skipping C:\\Users\\KIIT\\anaconda3\\Lib\\site-packages\\click-8.0.4.dist-info due to invalid metadata entry 'name'\n",
      "WARNING: Skipping C:\\Users\\KIIT\\anaconda3\\Lib\\site-packages\\colorcet-3.0.1.dist-info due to invalid metadata entry 'name'\n",
      "WARNING: Skipping C:\\Users\\KIIT\\anaconda3\\Lib\\site-packages\\comm-0.1.2.dist-info due to invalid metadata entry 'name'\n",
      "WARNING: Skipping C:\\Users\\KIIT\\anaconda3\\Lib\\site-packages\\conda-23.7.2.dist-info due to invalid metadata entry 'name'\n",
      "WARNING: Skipping C:\\Users\\KIIT\\anaconda3\\Lib\\site-packages\\conda_build-3.26.0.dist-info due to invalid metadata entry 'name'\n",
      "WARNING: Skipping C:\\Users\\KIIT\\anaconda3\\Lib\\site-packages\\conda_content_trust-0+unknown.dist-info due to invalid metadata entry 'name'\n",
      "WARNING: Skipping C:\\Users\\KIIT\\anaconda3\\Lib\\site-packages\\conda_libmamba_solver-23.5.0.dist-info due to invalid metadata entry 'name'\n",
      "WARNING: Skipping C:\\Users\\KIIT\\anaconda3\\Lib\\site-packages\\constantly-15.1.0-py3.11.egg-info due to invalid metadata entry 'name'\n",
      "WARNING: Skipping C:\\Users\\KIIT\\anaconda3\\Lib\\site-packages\\cookiecutter-1.7.3.dist-info due to invalid metadata entry 'name'\n",
      "WARNING: Skipping C:\\Users\\KIIT\\anaconda3\\Lib\\site-packages\\cryptography-41.0.2.dist-info due to invalid metadata entry 'name'\n",
      "WARNING: Skipping C:\\Users\\KIIT\\anaconda3\\Lib\\site-packages\\cssselect-1.1.0-py3.9.egg-info due to invalid metadata entry 'name'\n",
      "WARNING: Skipping C:\\Users\\KIIT\\anaconda3\\Lib\\site-packages\\cytoolz-0.12.0.dist-info due to invalid metadata entry 'name'\n",
      "WARNING: Skipping C:\\Users\\KIIT\\anaconda3\\Lib\\site-packages\\filelock-3.9.0.dist-info due to invalid metadata entry 'name'\n",
      "WARNING: Skipping C:\\Users\\KIIT\\anaconda3\\Lib\\site-packages\\Flask-2.2.2.dist-info due to invalid metadata entry 'name'\n",
      "WARNING: Skipping C:\\Users\\KIIT\\anaconda3\\Lib\\site-packages\\fonttools-4.25.0-py3.9.egg-info due to invalid metadata entry 'name'\n",
      "WARNING: Skipping C:\\Users\\KIIT\\anaconda3\\Lib\\site-packages\\frozenlist-1.3.3.dist-info due to invalid metadata entry 'name'\n",
      "WARNING: Skipping C:\\Users\\KIIT\\anaconda3\\Lib\\site-packages\\greenlet-2.0.1.dist-info due to invalid metadata entry 'name'\n",
      "WARNING: Skipping C:\\Users\\KIIT\\anaconda3\\Lib\\site-packages\\idna-3.4.dist-info due to invalid metadata entry 'name'\n",
      "WARNING: Skipping C:\\Users\\KIIT\\anaconda3\\Lib\\site-packages\\importlib_metadata-6.0.0.dist-info due to invalid metadata entry 'name'\n",
      "WARNING: Skipping C:\\Users\\KIIT\\anaconda3\\Lib\\site-packages\\incremental-21.3.0.dist-info due to invalid metadata entry 'name'\n",
      "WARNING: Skipping C:\\Users\\KIIT\\anaconda3\\Lib\\site-packages\\ipython-8.12.0.dist-info due to invalid metadata entry 'name'\n",
      "WARNING: Skipping C:\\Users\\KIIT\\anaconda3\\Lib\\site-packages\\itemloaders-1.0.4.dist-info due to invalid metadata entry 'name'\n",
      "WARNING: Skipping C:\\Users\\KIIT\\anaconda3\\Lib\\site-packages\\itsdangerous-2.0.1.dist-info due to invalid metadata entry 'name'\n",
      "WARNING: Skipping C:\\Users\\KIIT\\anaconda3\\Lib\\site-packages\\jellyfish-0.9.0.dist-info due to invalid metadata entry 'name'\n",
      "WARNING: Skipping C:\\Users\\KIIT\\anaconda3\\Lib\\site-packages\\Jinja2-3.1.2.dist-info due to invalid metadata entry 'name'\n",
      "WARNING: Skipping C:\\Users\\KIIT\\anaconda3\\Lib\\site-packages\\jmespath-0.10.0.dist-info due to invalid metadata entry 'name'\n",
      "WARNING: Skipping C:\\Users\\KIIT\\anaconda3\\Lib\\site-packages\\joblib-1.2.0.dist-info due to invalid metadata entry 'name'\n",
      "WARNING: Skipping C:\\Users\\KIIT\\anaconda3\\Lib\\site-packages\\jsonpatch-1.32.dist-info due to invalid metadata entry 'name'\n",
      "WARNING: Skipping C:\\Users\\KIIT\\anaconda3\\Lib\\site-packages\\jsonschema-4.17.3.dist-info due to invalid metadata entry 'name'\n",
      "WARNING: Skipping C:\\Users\\KIIT\\anaconda3\\Lib\\site-packages\\jupyterlab_pygments-0.1.2.dist-info due to invalid metadata entry 'name'\n",
      "WARNING: Skipping C:\\Users\\KIIT\\anaconda3\\Lib\\site-packages\\jupyterlab_widgets-3.0.5.dist-info due to invalid metadata entry 'name'\n",
      "WARNING: Skipping C:\\Users\\KIIT\\anaconda3\\Lib\\site-packages\\jupyter_core-5.3.0.dist-info due to invalid metadata entry 'name'\n",
      "WARNING: Skipping C:\\Users\\KIIT\\anaconda3\\Lib\\site-packages\\jupyter_events-0.6.3.dist-info due to invalid metadata entry 'name'\n",
      "WARNING: Skipping C:\\Users\\KIIT\\anaconda3\\Lib\\site-packages\\keyring-23.13.1.dist-info due to invalid metadata entry 'name'\n",
      "WARNING: Skipping C:\\Users\\KIIT\\anaconda3\\Lib\\site-packages\\lazy_loader-0.2.dist-info due to invalid metadata entry 'name'\n",
      "WARNING: Skipping C:\\Users\\KIIT\\anaconda3\\Lib\\site-packages\\lazy_object_proxy-1.6.0.dist-info due to invalid metadata entry 'name'\n",
      "WARNING: Skipping C:\\Users\\KIIT\\anaconda3\\Lib\\site-packages\\libmambapy-1.4.1.dist-info due to invalid metadata entry 'name'\n",
      "WARNING: Skipping C:\\Users\\KIIT\\anaconda3\\Lib\\site-packages\\llvmlite-0.40.0.dist-info due to invalid metadata entry 'name'\n",
      "WARNING: Skipping C:\\Users\\KIIT\\anaconda3\\Lib\\site-packages\\lxml-4.9.2.dist-info due to invalid metadata entry 'name'\n",
      "WARNING: Skipping C:\\Users\\KIIT\\anaconda3\\Lib\\site-packages\\MarkupSafe-2.1.1.dist-info due to invalid metadata entry 'name'\n",
      "WARNING: Skipping C:\\Users\\KIIT\\anaconda3\\Lib\\site-packages\\menuinst-1.4.19.dist-info due to invalid metadata entry 'name'\n",
      "WARNING: Skipping C:\\Users\\KIIT\\anaconda3\\Lib\\site-packages\\mistune-0.8.4.dist-info due to invalid metadata entry 'name'\n",
      "WARNING: Skipping C:\\Users\\KIIT\\anaconda3\\Lib\\site-packages\\more_itertools-8.12.0.dist-info due to invalid metadata entry 'name'\n",
      "WARNING: Skipping C:\\Users\\KIIT\\anaconda3\\Lib\\site-packages\\multidict-6.0.2.dist-info due to invalid metadata entry 'name'\n",
      "WARNING: Skipping C:\\Users\\KIIT\\anaconda3\\Lib\\site-packages\\mypy_extensions-0.4.3-py3.11.egg-info due to invalid metadata entry 'name'\n",
      "WARNING: Skipping C:\\Users\\KIIT\\anaconda3\\Lib\\site-packages\\nbclient-0.5.13.dist-info due to invalid metadata entry 'name'\n",
      "WARNING: Skipping C:\\Users\\KIIT\\anaconda3\\Lib\\site-packages\\nbconvert-6.5.4.dist-info due to invalid metadata entry 'name'\n",
      "WARNING: Skipping C:\\Users\\KIIT\\anaconda3\\Lib\\site-packages\\nbformat-5.7.0.dist-info due to invalid metadata entry 'name'\n",
      "WARNING: Skipping C:\\Users\\KIIT\\anaconda3\\Lib\\site-packages\\nest_asyncio-1.5.6.dist-info due to invalid metadata entry 'name'\n",
      "WARNING: Skipping C:\\Users\\KIIT\\anaconda3\\Lib\\site-packages\\numpy-1.24.3.dist-info due to invalid metadata entry 'name'\n",
      "WARNING: Skipping C:\\Users\\KIIT\\anaconda3\\Lib\\site-packages\\openpyxl-3.0.10-py3.11.egg-info due to invalid metadata entry 'name'\n",
      "WARNING: Skipping C:\\Users\\KIIT\\anaconda3\\Lib\\site-packages\\packaging-23.0.dist-info due to invalid metadata entry 'name'\n",
      "WARNING: Skipping C:\\Users\\KIIT\\anaconda3\\Lib\\site-packages\\param-1.13.0.dist-info due to invalid metadata entry 'name'\n",
      "WARNING: Skipping C:\\Users\\KIIT\\anaconda3\\Lib\\site-packages\\parsel-1.6.0.dist-info due to invalid metadata entry 'name'\n",
      "WARNING: Skipping C:\\Users\\KIIT\\anaconda3\\Lib\\site-packages\\partd-1.2.0.dist-info due to invalid metadata entry 'name'\n",
      "WARNING: Skipping C:\\Users\\KIIT\\anaconda3\\Lib\\site-packages\\Pillow-9.4.0-py3.11.egg-info due to invalid metadata entry 'name'\n",
      "WARNING: Skipping C:\\Users\\KIIT\\anaconda3\\Lib\\site-packages\\pkginfo-1.9.6.dist-info due to invalid metadata entry 'name'\n",
      "WARNING: Skipping C:\\Users\\KIIT\\anaconda3\\Lib\\site-packages\\platformdirs-2.5.2.dist-info due to invalid metadata entry 'name'\n",
      "WARNING: Skipping C:\\Users\\KIIT\\anaconda3\\Lib\\site-packages\\plotly-5.9.0.dist-info due to invalid metadata entry 'name'\n",
      "WARNING: Skipping C:\\Users\\KIIT\\anaconda3\\Lib\\site-packages\\prompt_toolkit-3.0.36.dist-info due to invalid metadata entry 'name'\n",
      "WARNING: Skipping C:\\Users\\KIIT\\anaconda3\\Lib\\site-packages\\pycosat-0.6.4.dist-info due to invalid metadata entry 'name'\n",
      "WARNING: Skipping C:\\Users\\KIIT\\anaconda3\\Lib\\site-packages\\PyJWT-2.4.0.dist-info due to invalid metadata entry 'name'\n",
      "WARNING: Skipping C:\\Users\\KIIT\\anaconda3\\Lib\\site-packages\\pylint_venv-2.3.0.dist-info due to invalid metadata entry 'name'\n",
      "WARNING: Skipping C:\\Users\\KIIT\\anaconda3\\Lib\\site-packages\\pyodbc-4.0.34.dist-info due to invalid metadata entry 'name'\n",
      "WARNING: Skipping C:\\Users\\KIIT\\anaconda3\\Lib\\site-packages\\pyOpenSSL-23.2.0.dist-info due to invalid metadata entry 'name'\n",
      "WARNING: Skipping C:\\Users\\KIIT\\anaconda3\\Lib\\site-packages\\PyQt5-5.15.7.dist-info due to invalid metadata entry 'name'\n",
      "WARNING: Skipping C:\\Users\\KIIT\\anaconda3\\Lib\\site-packages\\PyQt5_sip-12.11.0.dist-info due to invalid metadata entry 'name'\n",
      "WARNING: Skipping C:\\Users\\KIIT\\anaconda3\\Lib\\site-packages\\PyQtWebEngine-5.15.4.dist-info due to invalid metadata entry 'name'\n",
      "WARNING: Skipping C:\\Users\\KIIT\\anaconda3\\Lib\\site-packages\\python_dateutil-2.8.2.dist-info due to invalid metadata entry 'name'\n",
      "WARNING: Skipping C:\\Users\\KIIT\\anaconda3\\Lib\\site-packages\\python_lsp_jsonrpc-1.0.0-py3.10.egg-info due to invalid metadata entry 'name'\n",
      "WARNING: Skipping C:\\Users\\KIIT\\anaconda3\\Lib\\site-packages\\pytoolconfig-1.2.5.dist-info due to invalid metadata entry 'name'\n",
      "WARNING: Skipping C:\\Users\\KIIT\\anaconda3\\Lib\\site-packages\\pytz-2022.7.dist-info due to invalid metadata entry 'name'\n",
      "WARNING: Skipping C:\\Users\\KIIT\\anaconda3\\Lib\\site-packages\\pywin32_ctypes-0.2.0.dist-info due to invalid metadata entry 'name'\n",
      "WARNING: Skipping C:\\Users\\KIIT\\anaconda3\\Lib\\site-packages\\PyYAML-6.0.dist-info due to invalid metadata entry 'name'\n",
      "WARNING: Skipping C:\\Users\\KIIT\\anaconda3\\Lib\\site-packages\\py_cpuinfo-8.0.0.dist-info due to invalid metadata entry 'name'\n",
      "WARNING: Skipping C:\\Users\\KIIT\\anaconda3\\Lib\\site-packages\\QtPy-2.2.0.dist-info due to invalid metadata entry 'name'\n",
      "WARNING: Skipping C:\\Users\\KIIT\\anaconda3\\Lib\\site-packages\\queuelib-1.5.0-py3.11.egg-info due to invalid metadata entry 'name'\n",
      "WARNING: Skipping C:\\Users\\KIIT\\anaconda3\\Lib\\site-packages\\regex-2022.7.9.dist-info due to invalid metadata entry 'name'\n",
      "WARNING: Skipping C:\\Users\\KIIT\\anaconda3\\Lib\\site-packages\\requests-2.31.0.dist-info due to invalid metadata entry 'name'\n",
      "WARNING: Skipping C:\\Users\\KIIT\\anaconda3\\Lib\\site-packages\\rope-1.7.0.dist-info due to invalid metadata entry 'name'\n",
      "WARNING: Skipping C:\\Users\\KIIT\\anaconda3\\Lib\\site-packages\\Send2Trash-1.8.0.dist-info due to invalid metadata entry 'name'\n",
      "WARNING: Skipping C:\\Users\\KIIT\\anaconda3\\Lib\\site-packages\\sip-6.6.2.dist-info due to invalid metadata entry 'name'\n",
      "WARNING: Skipping C:\\Users\\KIIT\\anaconda3\\Lib\\site-packages\\soupsieve-2.4.dist-info due to invalid metadata entry 'name'\n",
      "WARNING: Skipping C:\\Users\\KIIT\\anaconda3\\Lib\\site-packages\\SQLAlchemy-1.4.39.dist-info due to invalid metadata entry 'name'\n",
      "WARNING: Skipping C:\\Users\\KIIT\\anaconda3\\Lib\\site-packages\\sympy-1.11.1.dist-info due to invalid metadata entry 'name'\n",
      "WARNING: Skipping C:\\Users\\KIIT\\anaconda3\\Lib\\site-packages\\tabulate-0.8.10.dist-info due to invalid metadata entry 'name'\n",
      "WARNING: Skipping C:\\Users\\KIIT\\anaconda3\\Lib\\site-packages\\tornado-6.3.2.dist-info due to invalid metadata entry 'name'\n",
      "WARNING: Skipping C:\\Users\\KIIT\\anaconda3\\Lib\\site-packages\\urllib3-1.26.16.dist-info due to invalid metadata entry 'name'\n",
      "WARNING: Skipping C:\\Users\\KIIT\\anaconda3\\Lib\\site-packages\\w3lib-1.21.0.dist-info due to invalid metadata entry 'name'\n",
      "WARNING: Skipping C:\\Users\\KIIT\\anaconda3\\Lib\\site-packages\\websocket_client-0.58.0.dist-info due to invalid metadata entry 'name'\n",
      "WARNING: Skipping C:\\Users\\KIIT\\anaconda3\\Lib\\site-packages\\widgetsnbextension-4.0.5.dist-info due to invalid metadata entry 'name'\n",
      "WARNING: Skipping C:\\Users\\KIIT\\anaconda3\\Lib\\site-packages\\yarl-1.8.1.dist-info due to invalid metadata entry 'name'\n",
      "WARNING: Skipping C:\\Users\\KIIT\\anaconda3\\Lib\\site-packages\\zict-2.2.0.dist-info due to invalid metadata entry 'name'\n",
      "WARNING: Skipping C:\\Users\\KIIT\\anaconda3\\Lib\\site-packages\\zipp-3.11.0.dist-info due to invalid metadata entry 'name'\n",
      "WARNING: Skipping C:\\Users\\KIIT\\anaconda3\\Lib\\site-packages\\zstandard-0.19.0-py3.11.egg-info due to invalid metadata entry 'name'\n",
      "WARNING: Skipping C:\\Users\\KIIT\\anaconda3\\Lib\\site-packages\\aiohttp-3.8.3.dist-info due to invalid metadata entry 'name'\n",
      "WARNING: Skipping C:\\Users\\KIIT\\anaconda3\\Lib\\site-packages\\attrs-22.1.0.dist-info due to invalid metadata entry 'name'\n",
      "WARNING: Skipping C:\\Users\\KIIT\\anaconda3\\Lib\\site-packages\\autopep8-1.6.0.dist-info due to invalid metadata entry 'name'\n",
      "WARNING: Skipping C:\\Users\\KIIT\\anaconda3\\Lib\\site-packages\\black-0.0.dist-info due to invalid metadata entry 'name'\n",
      "WARNING: Skipping C:\\Users\\KIIT\\anaconda3\\Lib\\site-packages\\botocore-1.27.59.dist-info due to invalid metadata entry 'name'\n",
      "WARNING: Skipping C:\\Users\\KIIT\\anaconda3\\Lib\\site-packages\\certifi-2023.7.22.dist-info due to invalid metadata entry 'name'\n",
      "WARNING: Skipping C:\\Users\\KIIT\\anaconda3\\Lib\\site-packages\\cffi-1.15.1.dist-info due to invalid metadata entry 'name'\n",
      "WARNING: Skipping C:\\Users\\KIIT\\anaconda3\\Lib\\site-packages\\click-8.0.4.dist-info due to invalid metadata entry 'name'\n",
      "WARNING: Skipping C:\\Users\\KIIT\\anaconda3\\Lib\\site-packages\\colorcet-3.0.1.dist-info due to invalid metadata entry 'name'\n",
      "WARNING: Skipping C:\\Users\\KIIT\\anaconda3\\Lib\\site-packages\\comm-0.1.2.dist-info due to invalid metadata entry 'name'\n",
      "WARNING: Skipping C:\\Users\\KIIT\\anaconda3\\Lib\\site-packages\\conda-23.7.2.dist-info due to invalid metadata entry 'name'\n",
      "WARNING: Skipping C:\\Users\\KIIT\\anaconda3\\Lib\\site-packages\\conda_build-3.26.0.dist-info due to invalid metadata entry 'name'\n",
      "WARNING: Skipping C:\\Users\\KIIT\\anaconda3\\Lib\\site-packages\\conda_content_trust-0+unknown.dist-info due to invalid metadata entry 'name'\n",
      "WARNING: Skipping C:\\Users\\KIIT\\anaconda3\\Lib\\site-packages\\conda_libmamba_solver-23.5.0.dist-info due to invalid metadata entry 'name'\n",
      "WARNING: Skipping C:\\Users\\KIIT\\anaconda3\\Lib\\site-packages\\constantly-15.1.0-py3.11.egg-info due to invalid metadata entry 'name'\n",
      "WARNING: Skipping C:\\Users\\KIIT\\anaconda3\\Lib\\site-packages\\cookiecutter-1.7.3.dist-info due to invalid metadata entry 'name'\n",
      "WARNING: Skipping C:\\Users\\KIIT\\anaconda3\\Lib\\site-packages\\cryptography-41.0.2.dist-info due to invalid metadata entry 'name'\n",
      "WARNING: Skipping C:\\Users\\KIIT\\anaconda3\\Lib\\site-packages\\cssselect-1.1.0-py3.9.egg-info due to invalid metadata entry 'name'\n",
      "WARNING: Skipping C:\\Users\\KIIT\\anaconda3\\Lib\\site-packages\\cytoolz-0.12.0.dist-info due to invalid metadata entry 'name'\n",
      "WARNING: Skipping C:\\Users\\KIIT\\anaconda3\\Lib\\site-packages\\filelock-3.9.0.dist-info due to invalid metadata entry 'name'\n",
      "WARNING: Skipping C:\\Users\\KIIT\\anaconda3\\Lib\\site-packages\\Flask-2.2.2.dist-info due to invalid metadata entry 'name'\n",
      "WARNING: Skipping C:\\Users\\KIIT\\anaconda3\\Lib\\site-packages\\fonttools-4.25.0-py3.9.egg-info due to invalid metadata entry 'name'\n",
      "WARNING: Skipping C:\\Users\\KIIT\\anaconda3\\Lib\\site-packages\\frozenlist-1.3.3.dist-info due to invalid metadata entry 'name'\n",
      "WARNING: Skipping C:\\Users\\KIIT\\anaconda3\\Lib\\site-packages\\greenlet-2.0.1.dist-info due to invalid metadata entry 'name'\n",
      "WARNING: Skipping C:\\Users\\KIIT\\anaconda3\\Lib\\site-packages\\idna-3.4.dist-info due to invalid metadata entry 'name'\n",
      "WARNING: Skipping C:\\Users\\KIIT\\anaconda3\\Lib\\site-packages\\importlib_metadata-6.0.0.dist-info due to invalid metadata entry 'name'\n",
      "WARNING: Skipping C:\\Users\\KIIT\\anaconda3\\Lib\\site-packages\\incremental-21.3.0.dist-info due to invalid metadata entry 'name'\n",
      "WARNING: Skipping C:\\Users\\KIIT\\anaconda3\\Lib\\site-packages\\ipython-8.12.0.dist-info due to invalid metadata entry 'name'\n",
      "WARNING: Skipping C:\\Users\\KIIT\\anaconda3\\Lib\\site-packages\\itemloaders-1.0.4.dist-info due to invalid metadata entry 'name'\n",
      "WARNING: Skipping C:\\Users\\KIIT\\anaconda3\\Lib\\site-packages\\itsdangerous-2.0.1.dist-info due to invalid metadata entry 'name'\n",
      "WARNING: Skipping C:\\Users\\KIIT\\anaconda3\\Lib\\site-packages\\jellyfish-0.9.0.dist-info due to invalid metadata entry 'name'\n",
      "WARNING: Skipping C:\\Users\\KIIT\\anaconda3\\Lib\\site-packages\\Jinja2-3.1.2.dist-info due to invalid metadata entry 'name'\n",
      "WARNING: Skipping C:\\Users\\KIIT\\anaconda3\\Lib\\site-packages\\jmespath-0.10.0.dist-info due to invalid metadata entry 'name'\n",
      "WARNING: Skipping C:\\Users\\KIIT\\anaconda3\\Lib\\site-packages\\joblib-1.2.0.dist-info due to invalid metadata entry 'name'\n",
      "WARNING: Skipping C:\\Users\\KIIT\\anaconda3\\Lib\\site-packages\\jsonpatch-1.32.dist-info due to invalid metadata entry 'name'\n",
      "WARNING: Skipping C:\\Users\\KIIT\\anaconda3\\Lib\\site-packages\\jsonschema-4.17.3.dist-info due to invalid metadata entry 'name'\n",
      "WARNING: Skipping C:\\Users\\KIIT\\anaconda3\\Lib\\site-packages\\jupyterlab_pygments-0.1.2.dist-info due to invalid metadata entry 'name'\n",
      "WARNING: Skipping C:\\Users\\KIIT\\anaconda3\\Lib\\site-packages\\jupyterlab_widgets-3.0.5.dist-info due to invalid metadata entry 'name'\n",
      "WARNING: Skipping C:\\Users\\KIIT\\anaconda3\\Lib\\site-packages\\jupyter_core-5.3.0.dist-info due to invalid metadata entry 'name'\n",
      "WARNING: Skipping C:\\Users\\KIIT\\anaconda3\\Lib\\site-packages\\jupyter_events-0.6.3.dist-info due to invalid metadata entry 'name'\n",
      "WARNING: Skipping C:\\Users\\KIIT\\anaconda3\\Lib\\site-packages\\keyring-23.13.1.dist-info due to invalid metadata entry 'name'\n",
      "WARNING: Skipping C:\\Users\\KIIT\\anaconda3\\Lib\\site-packages\\lazy_loader-0.2.dist-info due to invalid metadata entry 'name'\n",
      "WARNING: Skipping C:\\Users\\KIIT\\anaconda3\\Lib\\site-packages\\lazy_object_proxy-1.6.0.dist-info due to invalid metadata entry 'name'\n",
      "WARNING: Skipping C:\\Users\\KIIT\\anaconda3\\Lib\\site-packages\\libmambapy-1.4.1.dist-info due to invalid metadata entry 'name'\n",
      "WARNING: Skipping C:\\Users\\KIIT\\anaconda3\\Lib\\site-packages\\llvmlite-0.40.0.dist-info due to invalid metadata entry 'name'\n",
      "WARNING: Skipping C:\\Users\\KIIT\\anaconda3\\Lib\\site-packages\\lxml-4.9.2.dist-info due to invalid metadata entry 'name'\n",
      "WARNING: Skipping C:\\Users\\KIIT\\anaconda3\\Lib\\site-packages\\MarkupSafe-2.1.1.dist-info due to invalid metadata entry 'name'\n",
      "WARNING: Skipping C:\\Users\\KIIT\\anaconda3\\Lib\\site-packages\\menuinst-1.4.19.dist-info due to invalid metadata entry 'name'\n",
      "WARNING: Skipping C:\\Users\\KIIT\\anaconda3\\Lib\\site-packages\\mistune-0.8.4.dist-info due to invalid metadata entry 'name'\n",
      "WARNING: Skipping C:\\Users\\KIIT\\anaconda3\\Lib\\site-packages\\more_itertools-8.12.0.dist-info due to invalid metadata entry 'name'\n",
      "WARNING: Skipping C:\\Users\\KIIT\\anaconda3\\Lib\\site-packages\\multidict-6.0.2.dist-info due to invalid metadata entry 'name'\n",
      "WARNING: Skipping C:\\Users\\KIIT\\anaconda3\\Lib\\site-packages\\mypy_extensions-0.4.3-py3.11.egg-info due to invalid metadata entry 'name'\n",
      "WARNING: Skipping C:\\Users\\KIIT\\anaconda3\\Lib\\site-packages\\nbclient-0.5.13.dist-info due to invalid metadata entry 'name'\n",
      "WARNING: Skipping C:\\Users\\KIIT\\anaconda3\\Lib\\site-packages\\nbconvert-6.5.4.dist-info due to invalid metadata entry 'name'\n",
      "WARNING: Skipping C:\\Users\\KIIT\\anaconda3\\Lib\\site-packages\\nbformat-5.7.0.dist-info due to invalid metadata entry 'name'\n",
      "WARNING: Skipping C:\\Users\\KIIT\\anaconda3\\Lib\\site-packages\\nest_asyncio-1.5.6.dist-info due to invalid metadata entry 'name'\n",
      "WARNING: Skipping C:\\Users\\KIIT\\anaconda3\\Lib\\site-packages\\numpy-1.24.3.dist-info due to invalid metadata entry 'name'\n",
      "WARNING: Skipping C:\\Users\\KIIT\\anaconda3\\Lib\\site-packages\\openpyxl-3.0.10-py3.11.egg-info due to invalid metadata entry 'name'\n",
      "WARNING: Skipping C:\\Users\\KIIT\\anaconda3\\Lib\\site-packages\\packaging-23.0.dist-info due to invalid metadata entry 'name'\n",
      "WARNING: Skipping C:\\Users\\KIIT\\anaconda3\\Lib\\site-packages\\param-1.13.0.dist-info due to invalid metadata entry 'name'\n",
      "WARNING: Skipping C:\\Users\\KIIT\\anaconda3\\Lib\\site-packages\\parsel-1.6.0.dist-info due to invalid metadata entry 'name'\n",
      "WARNING: Skipping C:\\Users\\KIIT\\anaconda3\\Lib\\site-packages\\partd-1.2.0.dist-info due to invalid metadata entry 'name'\n",
      "WARNING: Skipping C:\\Users\\KIIT\\anaconda3\\Lib\\site-packages\\Pillow-9.4.0-py3.11.egg-info due to invalid metadata entry 'name'\n",
      "WARNING: Skipping C:\\Users\\KIIT\\anaconda3\\Lib\\site-packages\\pkginfo-1.9.6.dist-info due to invalid metadata entry 'name'\n",
      "WARNING: Skipping C:\\Users\\KIIT\\anaconda3\\Lib\\site-packages\\platformdirs-2.5.2.dist-info due to invalid metadata entry 'name'\n",
      "WARNING: Skipping C:\\Users\\KIIT\\anaconda3\\Lib\\site-packages\\plotly-5.9.0.dist-info due to invalid metadata entry 'name'\n",
      "WARNING: Skipping C:\\Users\\KIIT\\anaconda3\\Lib\\site-packages\\prompt_toolkit-3.0.36.dist-info due to invalid metadata entry 'name'\n",
      "WARNING: Skipping C:\\Users\\KIIT\\anaconda3\\Lib\\site-packages\\pycosat-0.6.4.dist-info due to invalid metadata entry 'name'\n",
      "WARNING: Skipping C:\\Users\\KIIT\\anaconda3\\Lib\\site-packages\\PyJWT-2.4.0.dist-info due to invalid metadata entry 'name'\n",
      "WARNING: Skipping C:\\Users\\KIIT\\anaconda3\\Lib\\site-packages\\pylint_venv-2.3.0.dist-info due to invalid metadata entry 'name'\n",
      "WARNING: Skipping C:\\Users\\KIIT\\anaconda3\\Lib\\site-packages\\pyodbc-4.0.34.dist-info due to invalid metadata entry 'name'\n",
      "WARNING: Skipping C:\\Users\\KIIT\\anaconda3\\Lib\\site-packages\\pyOpenSSL-23.2.0.dist-info due to invalid metadata entry 'name'\n",
      "WARNING: Skipping C:\\Users\\KIIT\\anaconda3\\Lib\\site-packages\\PyQt5-5.15.7.dist-info due to invalid metadata entry 'name'\n",
      "WARNING: Skipping C:\\Users\\KIIT\\anaconda3\\Lib\\site-packages\\PyQt5_sip-12.11.0.dist-info due to invalid metadata entry 'name'\n",
      "WARNING: Skipping C:\\Users\\KIIT\\anaconda3\\Lib\\site-packages\\PyQtWebEngine-5.15.4.dist-info due to invalid metadata entry 'name'\n",
      "WARNING: Skipping C:\\Users\\KIIT\\anaconda3\\Lib\\site-packages\\python_dateutil-2.8.2.dist-info due to invalid metadata entry 'name'\n",
      "WARNING: Skipping C:\\Users\\KIIT\\anaconda3\\Lib\\site-packages\\python_lsp_jsonrpc-1.0.0-py3.10.egg-info due to invalid metadata entry 'name'\n",
      "WARNING: Skipping C:\\Users\\KIIT\\anaconda3\\Lib\\site-packages\\pytoolconfig-1.2.5.dist-info due to invalid metadata entry 'name'\n",
      "WARNING: Skipping C:\\Users\\KIIT\\anaconda3\\Lib\\site-packages\\pytz-2022.7.dist-info due to invalid metadata entry 'name'\n",
      "WARNING: Skipping C:\\Users\\KIIT\\anaconda3\\Lib\\site-packages\\pywin32_ctypes-0.2.0.dist-info due to invalid metadata entry 'name'\n",
      "WARNING: Skipping C:\\Users\\KIIT\\anaconda3\\Lib\\site-packages\\PyYAML-6.0.dist-info due to invalid metadata entry 'name'\n",
      "WARNING: Skipping C:\\Users\\KIIT\\anaconda3\\Lib\\site-packages\\py_cpuinfo-8.0.0.dist-info due to invalid metadata entry 'name'\n",
      "WARNING: Skipping C:\\Users\\KIIT\\anaconda3\\Lib\\site-packages\\QtPy-2.2.0.dist-info due to invalid metadata entry 'name'\n",
      "WARNING: Skipping C:\\Users\\KIIT\\anaconda3\\Lib\\site-packages\\queuelib-1.5.0-py3.11.egg-info due to invalid metadata entry 'name'\n",
      "WARNING: Skipping C:\\Users\\KIIT\\anaconda3\\Lib\\site-packages\\regex-2022.7.9.dist-info due to invalid metadata entry 'name'\n",
      "WARNING: Skipping C:\\Users\\KIIT\\anaconda3\\Lib\\site-packages\\requests-2.31.0.dist-info due to invalid metadata entry 'name'\n",
      "WARNING: Skipping C:\\Users\\KIIT\\anaconda3\\Lib\\site-packages\\rope-1.7.0.dist-info due to invalid metadata entry 'name'\n",
      "WARNING: Skipping C:\\Users\\KIIT\\anaconda3\\Lib\\site-packages\\Send2Trash-1.8.0.dist-info due to invalid metadata entry 'name'\n",
      "WARNING: Skipping C:\\Users\\KIIT\\anaconda3\\Lib\\site-packages\\sip-6.6.2.dist-info due to invalid metadata entry 'name'\n",
      "WARNING: Skipping C:\\Users\\KIIT\\anaconda3\\Lib\\site-packages\\soupsieve-2.4.dist-info due to invalid metadata entry 'name'\n",
      "WARNING: Skipping C:\\Users\\KIIT\\anaconda3\\Lib\\site-packages\\SQLAlchemy-1.4.39.dist-info due to invalid metadata entry 'name'\n",
      "WARNING: Skipping C:\\Users\\KIIT\\anaconda3\\Lib\\site-packages\\sympy-1.11.1.dist-info due to invalid metadata entry 'name'\n",
      "WARNING: Skipping C:\\Users\\KIIT\\anaconda3\\Lib\\site-packages\\tabulate-0.8.10.dist-info due to invalid metadata entry 'name'\n",
      "WARNING: Skipping C:\\Users\\KIIT\\anaconda3\\Lib\\site-packages\\tornado-6.3.2.dist-info due to invalid metadata entry 'name'\n",
      "WARNING: Skipping C:\\Users\\KIIT\\anaconda3\\Lib\\site-packages\\urllib3-1.26.16.dist-info due to invalid metadata entry 'name'\n",
      "WARNING: Skipping C:\\Users\\KIIT\\anaconda3\\Lib\\site-packages\\w3lib-1.21.0.dist-info due to invalid metadata entry 'name'\n",
      "WARNING: Skipping C:\\Users\\KIIT\\anaconda3\\Lib\\site-packages\\websocket_client-0.58.0.dist-info due to invalid metadata entry 'name'\n",
      "WARNING: Skipping C:\\Users\\KIIT\\anaconda3\\Lib\\site-packages\\widgetsnbextension-4.0.5.dist-info due to invalid metadata entry 'name'\n",
      "WARNING: Skipping C:\\Users\\KIIT\\anaconda3\\Lib\\site-packages\\yarl-1.8.1.dist-info due to invalid metadata entry 'name'\n",
      "WARNING: Skipping C:\\Users\\KIIT\\anaconda3\\Lib\\site-packages\\zict-2.2.0.dist-info due to invalid metadata entry 'name'\n",
      "WARNING: Skipping C:\\Users\\KIIT\\anaconda3\\Lib\\site-packages\\zipp-3.11.0.dist-info due to invalid metadata entry 'name'\n",
      "WARNING: Skipping C:\\Users\\KIIT\\anaconda3\\Lib\\site-packages\\zstandard-0.19.0-py3.11.egg-info due to invalid metadata entry 'name'\n",
      "WARNING: Skipping C:\\Users\\KIIT\\anaconda3\\Lib\\site-packages\\aiohttp-3.8.3.dist-info due to invalid metadata entry 'name'\n",
      "WARNING: Skipping C:\\Users\\KIIT\\anaconda3\\Lib\\site-packages\\attrs-22.1.0.dist-info due to invalid metadata entry 'name'\n",
      "WARNING: Skipping C:\\Users\\KIIT\\anaconda3\\Lib\\site-packages\\autopep8-1.6.0.dist-info due to invalid metadata entry 'name'\n",
      "WARNING: Skipping C:\\Users\\KIIT\\anaconda3\\Lib\\site-packages\\black-0.0.dist-info due to invalid metadata entry 'name'\n",
      "WARNING: Skipping C:\\Users\\KIIT\\anaconda3\\Lib\\site-packages\\botocore-1.27.59.dist-info due to invalid metadata entry 'name'\n",
      "WARNING: Skipping C:\\Users\\KIIT\\anaconda3\\Lib\\site-packages\\certifi-2023.7.22.dist-info due to invalid metadata entry 'name'\n",
      "WARNING: Skipping C:\\Users\\KIIT\\anaconda3\\Lib\\site-packages\\cffi-1.15.1.dist-info due to invalid metadata entry 'name'\n",
      "WARNING: Skipping C:\\Users\\KIIT\\anaconda3\\Lib\\site-packages\\click-8.0.4.dist-info due to invalid metadata entry 'name'\n",
      "WARNING: Skipping C:\\Users\\KIIT\\anaconda3\\Lib\\site-packages\\colorcet-3.0.1.dist-info due to invalid metadata entry 'name'\n",
      "WARNING: Skipping C:\\Users\\KIIT\\anaconda3\\Lib\\site-packages\\comm-0.1.2.dist-info due to invalid metadata entry 'name'\n",
      "WARNING: Skipping C:\\Users\\KIIT\\anaconda3\\Lib\\site-packages\\conda-23.7.2.dist-info due to invalid metadata entry 'name'\n",
      "WARNING: Skipping C:\\Users\\KIIT\\anaconda3\\Lib\\site-packages\\conda_build-3.26.0.dist-info due to invalid metadata entry 'name'\n",
      "WARNING: Skipping C:\\Users\\KIIT\\anaconda3\\Lib\\site-packages\\conda_content_trust-0+unknown.dist-info due to invalid metadata entry 'name'\n",
      "WARNING: Skipping C:\\Users\\KIIT\\anaconda3\\Lib\\site-packages\\conda_libmamba_solver-23.5.0.dist-info due to invalid metadata entry 'name'\n",
      "WARNING: Skipping C:\\Users\\KIIT\\anaconda3\\Lib\\site-packages\\constantly-15.1.0-py3.11.egg-info due to invalid metadata entry 'name'\n",
      "WARNING: Skipping C:\\Users\\KIIT\\anaconda3\\Lib\\site-packages\\cookiecutter-1.7.3.dist-info due to invalid metadata entry 'name'\n",
      "WARNING: Skipping C:\\Users\\KIIT\\anaconda3\\Lib\\site-packages\\cryptography-41.0.2.dist-info due to invalid metadata entry 'name'\n",
      "WARNING: Skipping C:\\Users\\KIIT\\anaconda3\\Lib\\site-packages\\cssselect-1.1.0-py3.9.egg-info due to invalid metadata entry 'name'\n",
      "WARNING: Skipping C:\\Users\\KIIT\\anaconda3\\Lib\\site-packages\\cytoolz-0.12.0.dist-info due to invalid metadata entry 'name'\n",
      "WARNING: Skipping C:\\Users\\KIIT\\anaconda3\\Lib\\site-packages\\filelock-3.9.0.dist-info due to invalid metadata entry 'name'\n",
      "WARNING: Skipping C:\\Users\\KIIT\\anaconda3\\Lib\\site-packages\\Flask-2.2.2.dist-info due to invalid metadata entry 'name'\n",
      "WARNING: Skipping C:\\Users\\KIIT\\anaconda3\\Lib\\site-packages\\fonttools-4.25.0-py3.9.egg-info due to invalid metadata entry 'name'\n",
      "WARNING: Skipping C:\\Users\\KIIT\\anaconda3\\Lib\\site-packages\\frozenlist-1.3.3.dist-info due to invalid metadata entry 'name'\n",
      "WARNING: Skipping C:\\Users\\KIIT\\anaconda3\\Lib\\site-packages\\greenlet-2.0.1.dist-info due to invalid metadata entry 'name'\n",
      "WARNING: Skipping C:\\Users\\KIIT\\anaconda3\\Lib\\site-packages\\idna-3.4.dist-info due to invalid metadata entry 'name'\n",
      "WARNING: Skipping C:\\Users\\KIIT\\anaconda3\\Lib\\site-packages\\importlib_metadata-6.0.0.dist-info due to invalid metadata entry 'name'\n",
      "WARNING: Skipping C:\\Users\\KIIT\\anaconda3\\Lib\\site-packages\\incremental-21.3.0.dist-info due to invalid metadata entry 'name'\n",
      "WARNING: Skipping C:\\Users\\KIIT\\anaconda3\\Lib\\site-packages\\ipython-8.12.0.dist-info due to invalid metadata entry 'name'\n",
      "WARNING: Skipping C:\\Users\\KIIT\\anaconda3\\Lib\\site-packages\\itemloaders-1.0.4.dist-info due to invalid metadata entry 'name'\n",
      "WARNING: Skipping C:\\Users\\KIIT\\anaconda3\\Lib\\site-packages\\itsdangerous-2.0.1.dist-info due to invalid metadata entry 'name'\n",
      "WARNING: Skipping C:\\Users\\KIIT\\anaconda3\\Lib\\site-packages\\jellyfish-0.9.0.dist-info due to invalid metadata entry 'name'\n",
      "WARNING: Skipping C:\\Users\\KIIT\\anaconda3\\Lib\\site-packages\\Jinja2-3.1.2.dist-info due to invalid metadata entry 'name'\n",
      "WARNING: Skipping C:\\Users\\KIIT\\anaconda3\\Lib\\site-packages\\jmespath-0.10.0.dist-info due to invalid metadata entry 'name'\n",
      "WARNING: Skipping C:\\Users\\KIIT\\anaconda3\\Lib\\site-packages\\joblib-1.2.0.dist-info due to invalid metadata entry 'name'\n",
      "WARNING: Skipping C:\\Users\\KIIT\\anaconda3\\Lib\\site-packages\\jsonpatch-1.32.dist-info due to invalid metadata entry 'name'\n",
      "WARNING: Skipping C:\\Users\\KIIT\\anaconda3\\Lib\\site-packages\\jsonschema-4.17.3.dist-info due to invalid metadata entry 'name'\n",
      "WARNING: Skipping C:\\Users\\KIIT\\anaconda3\\Lib\\site-packages\\jupyterlab_pygments-0.1.2.dist-info due to invalid metadata entry 'name'\n",
      "WARNING: Skipping C:\\Users\\KIIT\\anaconda3\\Lib\\site-packages\\jupyterlab_widgets-3.0.5.dist-info due to invalid metadata entry 'name'\n",
      "WARNING: Skipping C:\\Users\\KIIT\\anaconda3\\Lib\\site-packages\\jupyter_core-5.3.0.dist-info due to invalid metadata entry 'name'\n",
      "WARNING: Skipping C:\\Users\\KIIT\\anaconda3\\Lib\\site-packages\\jupyter_events-0.6.3.dist-info due to invalid metadata entry 'name'\n",
      "WARNING: Skipping C:\\Users\\KIIT\\anaconda3\\Lib\\site-packages\\keyring-23.13.1.dist-info due to invalid metadata entry 'name'\n",
      "WARNING: Skipping C:\\Users\\KIIT\\anaconda3\\Lib\\site-packages\\lazy_loader-0.2.dist-info due to invalid metadata entry 'name'\n",
      "WARNING: Skipping C:\\Users\\KIIT\\anaconda3\\Lib\\site-packages\\lazy_object_proxy-1.6.0.dist-info due to invalid metadata entry 'name'\n",
      "WARNING: Skipping C:\\Users\\KIIT\\anaconda3\\Lib\\site-packages\\libmambapy-1.4.1.dist-info due to invalid metadata entry 'name'\n",
      "WARNING: Skipping C:\\Users\\KIIT\\anaconda3\\Lib\\site-packages\\llvmlite-0.40.0.dist-info due to invalid metadata entry 'name'\n",
      "WARNING: Skipping C:\\Users\\KIIT\\anaconda3\\Lib\\site-packages\\lxml-4.9.2.dist-info due to invalid metadata entry 'name'\n",
      "WARNING: Skipping C:\\Users\\KIIT\\anaconda3\\Lib\\site-packages\\MarkupSafe-2.1.1.dist-info due to invalid metadata entry 'name'\n",
      "WARNING: Skipping C:\\Users\\KIIT\\anaconda3\\Lib\\site-packages\\menuinst-1.4.19.dist-info due to invalid metadata entry 'name'\n",
      "WARNING: Skipping C:\\Users\\KIIT\\anaconda3\\Lib\\site-packages\\mistune-0.8.4.dist-info due to invalid metadata entry 'name'\n",
      "WARNING: Skipping C:\\Users\\KIIT\\anaconda3\\Lib\\site-packages\\more_itertools-8.12.0.dist-info due to invalid metadata entry 'name'\n",
      "WARNING: Skipping C:\\Users\\KIIT\\anaconda3\\Lib\\site-packages\\multidict-6.0.2.dist-info due to invalid metadata entry 'name'\n",
      "WARNING: Skipping C:\\Users\\KIIT\\anaconda3\\Lib\\site-packages\\mypy_extensions-0.4.3-py3.11.egg-info due to invalid metadata entry 'name'\n",
      "WARNING: Skipping C:\\Users\\KIIT\\anaconda3\\Lib\\site-packages\\nbclient-0.5.13.dist-info due to invalid metadata entry 'name'\n",
      "WARNING: Skipping C:\\Users\\KIIT\\anaconda3\\Lib\\site-packages\\nbconvert-6.5.4.dist-info due to invalid metadata entry 'name'\n",
      "WARNING: Skipping C:\\Users\\KIIT\\anaconda3\\Lib\\site-packages\\nbformat-5.7.0.dist-info due to invalid metadata entry 'name'\n",
      "WARNING: Skipping C:\\Users\\KIIT\\anaconda3\\Lib\\site-packages\\nest_asyncio-1.5.6.dist-info due to invalid metadata entry 'name'\n",
      "WARNING: Skipping C:\\Users\\KIIT\\anaconda3\\Lib\\site-packages\\aiohttp-3.8.3.dist-info due to invalid metadata entry 'name'\n",
      "WARNING: Skipping C:\\Users\\KIIT\\anaconda3\\Lib\\site-packages\\attrs-22.1.0.dist-info due to invalid metadata entry 'name'\n",
      "WARNING: Skipping C:\\Users\\KIIT\\anaconda3\\Lib\\site-packages\\autopep8-1.6.0.dist-info due to invalid metadata entry 'name'\n",
      "WARNING: Skipping C:\\Users\\KIIT\\anaconda3\\Lib\\site-packages\\black-0.0.dist-info due to invalid metadata entry 'name'\n",
      "WARNING: Skipping C:\\Users\\KIIT\\anaconda3\\Lib\\site-packages\\botocore-1.27.59.dist-info due to invalid metadata entry 'name'\n",
      "WARNING: Skipping C:\\Users\\KIIT\\anaconda3\\Lib\\site-packages\\certifi-2023.7.22.dist-info due to invalid metadata entry 'name'\n",
      "WARNING: Skipping C:\\Users\\KIIT\\anaconda3\\Lib\\site-packages\\cffi-1.15.1.dist-info due to invalid metadata entry 'name'\n",
      "WARNING: Skipping C:\\Users\\KIIT\\anaconda3\\Lib\\site-packages\\click-8.0.4.dist-info due to invalid metadata entry 'name'\n",
      "WARNING: Skipping C:\\Users\\KIIT\\anaconda3\\Lib\\site-packages\\colorcet-3.0.1.dist-info due to invalid metadata entry 'name'\n",
      "WARNING: Skipping C:\\Users\\KIIT\\anaconda3\\Lib\\site-packages\\comm-0.1.2.dist-info due to invalid metadata entry 'name'\n",
      "WARNING: Skipping C:\\Users\\KIIT\\anaconda3\\Lib\\site-packages\\conda-23.7.2.dist-info due to invalid metadata entry 'name'\n",
      "WARNING: Skipping C:\\Users\\KIIT\\anaconda3\\Lib\\site-packages\\conda_build-3.26.0.dist-info due to invalid metadata entry 'name'\n",
      "WARNING: Skipping C:\\Users\\KIIT\\anaconda3\\Lib\\site-packages\\conda_content_trust-0+unknown.dist-info due to invalid metadata entry 'name'\n",
      "WARNING: Skipping C:\\Users\\KIIT\\anaconda3\\Lib\\site-packages\\conda_libmamba_solver-23.5.0.dist-info due to invalid metadata entry 'name'\n",
      "WARNING: Skipping C:\\Users\\KIIT\\anaconda3\\Lib\\site-packages\\constantly-15.1.0-py3.11.egg-info due to invalid metadata entry 'name'\n",
      "WARNING: Skipping C:\\Users\\KIIT\\anaconda3\\Lib\\site-packages\\cookiecutter-1.7.3.dist-info due to invalid metadata entry 'name'\n",
      "WARNING: Skipping C:\\Users\\KIIT\\anaconda3\\Lib\\site-packages\\cryptography-41.0.2.dist-info due to invalid metadata entry 'name'\n",
      "WARNING: Skipping C:\\Users\\KIIT\\anaconda3\\Lib\\site-packages\\cssselect-1.1.0-py3.9.egg-info due to invalid metadata entry 'name'\n",
      "WARNING: Skipping C:\\Users\\KIIT\\anaconda3\\Lib\\site-packages\\cytoolz-0.12.0.dist-info due to invalid metadata entry 'name'\n",
      "WARNING: Skipping C:\\Users\\KIIT\\anaconda3\\Lib\\site-packages\\filelock-3.9.0.dist-info due to invalid metadata entry 'name'\n",
      "WARNING: Skipping C:\\Users\\KIIT\\anaconda3\\Lib\\site-packages\\Flask-2.2.2.dist-info due to invalid metadata entry 'name'\n",
      "WARNING: Skipping C:\\Users\\KIIT\\anaconda3\\Lib\\site-packages\\fonttools-4.25.0-py3.9.egg-info due to invalid metadata entry 'name'\n",
      "WARNING: Skipping C:\\Users\\KIIT\\anaconda3\\Lib\\site-packages\\frozenlist-1.3.3.dist-info due to invalid metadata entry 'name'\n",
      "WARNING: Skipping C:\\Users\\KIIT\\anaconda3\\Lib\\site-packages\\greenlet-2.0.1.dist-info due to invalid metadata entry 'name'\n",
      "WARNING: Skipping C:\\Users\\KIIT\\anaconda3\\Lib\\site-packages\\idna-3.4.dist-info due to invalid metadata entry 'name'\n",
      "WARNING: Skipping C:\\Users\\KIIT\\anaconda3\\Lib\\site-packages\\importlib_metadata-6.0.0.dist-info due to invalid metadata entry 'name'\n",
      "WARNING: Skipping C:\\Users\\KIIT\\anaconda3\\Lib\\site-packages\\incremental-21.3.0.dist-info due to invalid metadata entry 'name'\n",
      "WARNING: Skipping C:\\Users\\KIIT\\anaconda3\\Lib\\site-packages\\ipython-8.12.0.dist-info due to invalid metadata entry 'name'\n",
      "WARNING: Skipping C:\\Users\\KIIT\\anaconda3\\Lib\\site-packages\\itemloaders-1.0.4.dist-info due to invalid metadata entry 'name'\n",
      "WARNING: Skipping C:\\Users\\KIIT\\anaconda3\\Lib\\site-packages\\itsdangerous-2.0.1.dist-info due to invalid metadata entry 'name'\n",
      "WARNING: Skipping C:\\Users\\KIIT\\anaconda3\\Lib\\site-packages\\jellyfish-0.9.0.dist-info due to invalid metadata entry 'name'\n",
      "WARNING: Skipping C:\\Users\\KIIT\\anaconda3\\Lib\\site-packages\\Jinja2-3.1.2.dist-info due to invalid metadata entry 'name'\n",
      "WARNING: Skipping C:\\Users\\KIIT\\anaconda3\\Lib\\site-packages\\jmespath-0.10.0.dist-info due to invalid metadata entry 'name'\n",
      "WARNING: Skipping C:\\Users\\KIIT\\anaconda3\\Lib\\site-packages\\joblib-1.2.0.dist-info due to invalid metadata entry 'name'\n",
      "WARNING: Skipping C:\\Users\\KIIT\\anaconda3\\Lib\\site-packages\\jsonpatch-1.32.dist-info due to invalid metadata entry 'name'\n",
      "WARNING: Skipping C:\\Users\\KIIT\\anaconda3\\Lib\\site-packages\\jsonschema-4.17.3.dist-info due to invalid metadata entry 'name'\n",
      "WARNING: Skipping C:\\Users\\KIIT\\anaconda3\\Lib\\site-packages\\jupyterlab_pygments-0.1.2.dist-info due to invalid metadata entry 'name'\n",
      "WARNING: Skipping C:\\Users\\KIIT\\anaconda3\\Lib\\site-packages\\jupyterlab_widgets-3.0.5.dist-info due to invalid metadata entry 'name'\n",
      "WARNING: Skipping C:\\Users\\KIIT\\anaconda3\\Lib\\site-packages\\jupyter_core-5.3.0.dist-info due to invalid metadata entry 'name'\n",
      "WARNING: Skipping C:\\Users\\KIIT\\anaconda3\\Lib\\site-packages\\jupyter_events-0.6.3.dist-info due to invalid metadata entry 'name'\n",
      "WARNING: Skipping C:\\Users\\KIIT\\anaconda3\\Lib\\site-packages\\keyring-23.13.1.dist-info due to invalid metadata entry 'name'\n",
      "WARNING: Skipping C:\\Users\\KIIT\\anaconda3\\Lib\\site-packages\\lazy_loader-0.2.dist-info due to invalid metadata entry 'name'\n",
      "WARNING: Skipping C:\\Users\\KIIT\\anaconda3\\Lib\\site-packages\\lazy_object_proxy-1.6.0.dist-info due to invalid metadata entry 'name'\n",
      "WARNING: Skipping C:\\Users\\KIIT\\anaconda3\\Lib\\site-packages\\libmambapy-1.4.1.dist-info due to invalid metadata entry 'name'\n",
      "WARNING: Skipping C:\\Users\\KIIT\\anaconda3\\Lib\\site-packages\\llvmlite-0.40.0.dist-info due to invalid metadata entry 'name'\n",
      "WARNING: Skipping C:\\Users\\KIIT\\anaconda3\\Lib\\site-packages\\lxml-4.9.2.dist-info due to invalid metadata entry 'name'\n",
      "WARNING: Skipping C:\\Users\\KIIT\\anaconda3\\Lib\\site-packages\\MarkupSafe-2.1.1.dist-info due to invalid metadata entry 'name'\n",
      "WARNING: Skipping C:\\Users\\KIIT\\anaconda3\\Lib\\site-packages\\menuinst-1.4.19.dist-info due to invalid metadata entry 'name'\n",
      "WARNING: Skipping C:\\Users\\KIIT\\anaconda3\\Lib\\site-packages\\mistune-0.8.4.dist-info due to invalid metadata entry 'name'\n",
      "WARNING: Skipping C:\\Users\\KIIT\\anaconda3\\Lib\\site-packages\\more_itertools-8.12.0.dist-info due to invalid metadata entry 'name'\n",
      "WARNING: Skipping C:\\Users\\KIIT\\anaconda3\\Lib\\site-packages\\multidict-6.0.2.dist-info due to invalid metadata entry 'name'\n",
      "WARNING: Skipping C:\\Users\\KIIT\\anaconda3\\Lib\\site-packages\\mypy_extensions-0.4.3-py3.11.egg-info due to invalid metadata entry 'name'\n",
      "WARNING: Skipping C:\\Users\\KIIT\\anaconda3\\Lib\\site-packages\\nbclient-0.5.13.dist-info due to invalid metadata entry 'name'\n",
      "WARNING: Skipping C:\\Users\\KIIT\\anaconda3\\Lib\\site-packages\\nbconvert-6.5.4.dist-info due to invalid metadata entry 'name'\n",
      "WARNING: Skipping C:\\Users\\KIIT\\anaconda3\\Lib\\site-packages\\nbformat-5.7.0.dist-info due to invalid metadata entry 'name'\n",
      "WARNING: Skipping C:\\Users\\KIIT\\anaconda3\\Lib\\site-packages\\nest_asyncio-1.5.6.dist-info due to invalid metadata entry 'name'\n",
      "WARNING: Skipping C:\\Users\\KIIT\\anaconda3\\Lib\\site-packages\\numpy-1.24.3.dist-info due to invalid metadata entry 'name'\n",
      "WARNING: Skipping C:\\Users\\KIIT\\anaconda3\\Lib\\site-packages\\openpyxl-3.0.10-py3.11.egg-info due to invalid metadata entry 'name'\n",
      "WARNING: Skipping C:\\Users\\KIIT\\anaconda3\\Lib\\site-packages\\packaging-23.0.dist-info due to invalid metadata entry 'name'\n",
      "WARNING: Skipping C:\\Users\\KIIT\\anaconda3\\Lib\\site-packages\\param-1.13.0.dist-info due to invalid metadata entry 'name'\n",
      "WARNING: Skipping C:\\Users\\KIIT\\anaconda3\\Lib\\site-packages\\parsel-1.6.0.dist-info due to invalid metadata entry 'name'\n",
      "WARNING: Skipping C:\\Users\\KIIT\\anaconda3\\Lib\\site-packages\\partd-1.2.0.dist-info due to invalid metadata entry 'name'\n",
      "WARNING: Skipping C:\\Users\\KIIT\\anaconda3\\Lib\\site-packages\\Pillow-9.4.0-py3.11.egg-info due to invalid metadata entry 'name'\n",
      "WARNING: Skipping C:\\Users\\KIIT\\anaconda3\\Lib\\site-packages\\aiohttp-3.8.3.dist-info due to invalid metadata entry 'name'\n",
      "WARNING: Skipping C:\\Users\\KIIT\\anaconda3\\Lib\\site-packages\\attrs-22.1.0.dist-info due to invalid metadata entry 'name'\n",
      "WARNING: Skipping C:\\Users\\KIIT\\anaconda3\\Lib\\site-packages\\autopep8-1.6.0.dist-info due to invalid metadata entry 'name'\n",
      "WARNING: Skipping C:\\Users\\KIIT\\anaconda3\\Lib\\site-packages\\black-0.0.dist-info due to invalid metadata entry 'name'\n",
      "WARNING: Skipping C:\\Users\\KIIT\\anaconda3\\Lib\\site-packages\\botocore-1.27.59.dist-info due to invalid metadata entry 'name'\n",
      "WARNING: Skipping C:\\Users\\KIIT\\anaconda3\\Lib\\site-packages\\certifi-2023.7.22.dist-info due to invalid metadata entry 'name'\n",
      "WARNING: Skipping C:\\Users\\KIIT\\anaconda3\\Lib\\site-packages\\cffi-1.15.1.dist-info due to invalid metadata entry 'name'\n",
      "WARNING: Skipping C:\\Users\\KIIT\\anaconda3\\Lib\\site-packages\\click-8.0.4.dist-info due to invalid metadata entry 'name'\n",
      "WARNING: Skipping C:\\Users\\KIIT\\anaconda3\\Lib\\site-packages\\colorcet-3.0.1.dist-info due to invalid metadata entry 'name'\n",
      "WARNING: Skipping C:\\Users\\KIIT\\anaconda3\\Lib\\site-packages\\comm-0.1.2.dist-info due to invalid metadata entry 'name'\n",
      "WARNING: Skipping C:\\Users\\KIIT\\anaconda3\\Lib\\site-packages\\conda-23.7.2.dist-info due to invalid metadata entry 'name'\n",
      "WARNING: Skipping C:\\Users\\KIIT\\anaconda3\\Lib\\site-packages\\conda_build-3.26.0.dist-info due to invalid metadata entry 'name'\n",
      "WARNING: Skipping C:\\Users\\KIIT\\anaconda3\\Lib\\site-packages\\conda_content_trust-0+unknown.dist-info due to invalid metadata entry 'name'\n",
      "WARNING: Skipping C:\\Users\\KIIT\\anaconda3\\Lib\\site-packages\\conda_libmamba_solver-23.5.0.dist-info due to invalid metadata entry 'name'\n",
      "WARNING: Skipping C:\\Users\\KIIT\\anaconda3\\Lib\\site-packages\\constantly-15.1.0-py3.11.egg-info due to invalid metadata entry 'name'\n",
      "WARNING: Skipping C:\\Users\\KIIT\\anaconda3\\Lib\\site-packages\\cookiecutter-1.7.3.dist-info due to invalid metadata entry 'name'\n",
      "WARNING: Skipping C:\\Users\\KIIT\\anaconda3\\Lib\\site-packages\\cryptography-41.0.2.dist-info due to invalid metadata entry 'name'\n",
      "WARNING: Skipping C:\\Users\\KIIT\\anaconda3\\Lib\\site-packages\\cssselect-1.1.0-py3.9.egg-info due to invalid metadata entry 'name'\n",
      "WARNING: Skipping C:\\Users\\KIIT\\anaconda3\\Lib\\site-packages\\cytoolz-0.12.0.dist-info due to invalid metadata entry 'name'\n",
      "WARNING: Skipping C:\\Users\\KIIT\\anaconda3\\Lib\\site-packages\\filelock-3.9.0.dist-info due to invalid metadata entry 'name'\n",
      "WARNING: Skipping C:\\Users\\KIIT\\anaconda3\\Lib\\site-packages\\Flask-2.2.2.dist-info due to invalid metadata entry 'name'\n",
      "WARNING: Skipping C:\\Users\\KIIT\\anaconda3\\Lib\\site-packages\\fonttools-4.25.0-py3.9.egg-info due to invalid metadata entry 'name'\n",
      "WARNING: Skipping C:\\Users\\KIIT\\anaconda3\\Lib\\site-packages\\frozenlist-1.3.3.dist-info due to invalid metadata entry 'name'\n",
      "WARNING: Skipping C:\\Users\\KIIT\\anaconda3\\Lib\\site-packages\\greenlet-2.0.1.dist-info due to invalid metadata entry 'name'\n",
      "WARNING: Skipping C:\\Users\\KIIT\\anaconda3\\Lib\\site-packages\\idna-3.4.dist-info due to invalid metadata entry 'name'\n",
      "WARNING: Skipping C:\\Users\\KIIT\\anaconda3\\Lib\\site-packages\\importlib_metadata-6.0.0.dist-info due to invalid metadata entry 'name'\n",
      "WARNING: Skipping C:\\Users\\KIIT\\anaconda3\\Lib\\site-packages\\incremental-21.3.0.dist-info due to invalid metadata entry 'name'\n",
      "WARNING: Skipping C:\\Users\\KIIT\\anaconda3\\Lib\\site-packages\\ipython-8.12.0.dist-info due to invalid metadata entry 'name'\n",
      "WARNING: Skipping C:\\Users\\KIIT\\anaconda3\\Lib\\site-packages\\itemloaders-1.0.4.dist-info due to invalid metadata entry 'name'\n",
      "WARNING: Skipping C:\\Users\\KIIT\\anaconda3\\Lib\\site-packages\\itsdangerous-2.0.1.dist-info due to invalid metadata entry 'name'\n",
      "WARNING: Skipping C:\\Users\\KIIT\\anaconda3\\Lib\\site-packages\\jellyfish-0.9.0.dist-info due to invalid metadata entry 'name'\n",
      "WARNING: Skipping C:\\Users\\KIIT\\anaconda3\\Lib\\site-packages\\Jinja2-3.1.2.dist-info due to invalid metadata entry 'name'\n",
      "WARNING: Skipping C:\\Users\\KIIT\\anaconda3\\Lib\\site-packages\\jmespath-0.10.0.dist-info due to invalid metadata entry 'name'\n",
      "WARNING: Skipping C:\\Users\\KIIT\\anaconda3\\Lib\\site-packages\\joblib-1.2.0.dist-info due to invalid metadata entry 'name'\n",
      "WARNING: Skipping C:\\Users\\KIIT\\anaconda3\\Lib\\site-packages\\jsonpatch-1.32.dist-info due to invalid metadata entry 'name'\n",
      "WARNING: Skipping C:\\Users\\KIIT\\anaconda3\\Lib\\site-packages\\jsonschema-4.17.3.dist-info due to invalid metadata entry 'name'\n",
      "WARNING: Skipping C:\\Users\\KIIT\\anaconda3\\Lib\\site-packages\\jupyterlab_pygments-0.1.2.dist-info due to invalid metadata entry 'name'\n",
      "WARNING: Skipping C:\\Users\\KIIT\\anaconda3\\Lib\\site-packages\\jupyterlab_widgets-3.0.5.dist-info due to invalid metadata entry 'name'\n",
      "WARNING: Skipping C:\\Users\\KIIT\\anaconda3\\Lib\\site-packages\\jupyter_core-5.3.0.dist-info due to invalid metadata entry 'name'\n",
      "WARNING: Skipping C:\\Users\\KIIT\\anaconda3\\Lib\\site-packages\\jupyter_events-0.6.3.dist-info due to invalid metadata entry 'name'\n",
      "WARNING: Skipping C:\\Users\\KIIT\\anaconda3\\Lib\\site-packages\\keyring-23.13.1.dist-info due to invalid metadata entry 'name'\n",
      "WARNING: Skipping C:\\Users\\KIIT\\anaconda3\\Lib\\site-packages\\lazy_loader-0.2.dist-info due to invalid metadata entry 'name'\n",
      "WARNING: Skipping C:\\Users\\KIIT\\anaconda3\\Lib\\site-packages\\lazy_object_proxy-1.6.0.dist-info due to invalid metadata entry 'name'\n",
      "WARNING: Skipping C:\\Users\\KIIT\\anaconda3\\Lib\\site-packages\\libmambapy-1.4.1.dist-info due to invalid metadata entry 'name'\n",
      "WARNING: Skipping C:\\Users\\KIIT\\anaconda3\\Lib\\site-packages\\llvmlite-0.40.0.dist-info due to invalid metadata entry 'name'\n",
      "WARNING: Skipping C:\\Users\\KIIT\\anaconda3\\Lib\\site-packages\\lxml-4.9.2.dist-info due to invalid metadata entry 'name'\n",
      "WARNING: Skipping C:\\Users\\KIIT\\anaconda3\\Lib\\site-packages\\MarkupSafe-2.1.1.dist-info due to invalid metadata entry 'name'\n",
      "WARNING: Skipping C:\\Users\\KIIT\\anaconda3\\Lib\\site-packages\\menuinst-1.4.19.dist-info due to invalid metadata entry 'name'\n",
      "WARNING: Skipping C:\\Users\\KIIT\\anaconda3\\Lib\\site-packages\\mistune-0.8.4.dist-info due to invalid metadata entry 'name'\n",
      "WARNING: Skipping C:\\Users\\KIIT\\anaconda3\\Lib\\site-packages\\more_itertools-8.12.0.dist-info due to invalid metadata entry 'name'\n",
      "WARNING: Skipping C:\\Users\\KIIT\\anaconda3\\Lib\\site-packages\\multidict-6.0.2.dist-info due to invalid metadata entry 'name'\n",
      "WARNING: Skipping C:\\Users\\KIIT\\anaconda3\\Lib\\site-packages\\mypy_extensions-0.4.3-py3.11.egg-info due to invalid metadata entry 'name'\n",
      "WARNING: Skipping C:\\Users\\KIIT\\anaconda3\\Lib\\site-packages\\nbclient-0.5.13.dist-info due to invalid metadata entry 'name'\n",
      "WARNING: Skipping C:\\Users\\KIIT\\anaconda3\\Lib\\site-packages\\nbconvert-6.5.4.dist-info due to invalid metadata entry 'name'\n",
      "WARNING: Skipping C:\\Users\\KIIT\\anaconda3\\Lib\\site-packages\\nbformat-5.7.0.dist-info due to invalid metadata entry 'name'\n",
      "WARNING: Skipping C:\\Users\\KIIT\\anaconda3\\Lib\\site-packages\\nest_asyncio-1.5.6.dist-info due to invalid metadata entry 'name'\n",
      "WARNING: Skipping C:\\Users\\KIIT\\anaconda3\\Lib\\site-packages\\numpy-1.24.3.dist-info due to invalid metadata entry 'name'\n",
      "WARNING: Skipping C:\\Users\\KIIT\\anaconda3\\Lib\\site-packages\\openpyxl-3.0.10-py3.11.egg-info due to invalid metadata entry 'name'\n",
      "WARNING: Skipping C:\\Users\\KIIT\\anaconda3\\Lib\\site-packages\\packaging-23.0.dist-info due to invalid metadata entry 'name'\n",
      "WARNING: Skipping C:\\Users\\KIIT\\anaconda3\\Lib\\site-packages\\param-1.13.0.dist-info due to invalid metadata entry 'name'\n",
      "WARNING: Skipping C:\\Users\\KIIT\\anaconda3\\Lib\\site-packages\\parsel-1.6.0.dist-info due to invalid metadata entry 'name'\n",
      "WARNING: Skipping C:\\Users\\KIIT\\anaconda3\\Lib\\site-packages\\partd-1.2.0.dist-info due to invalid metadata entry 'name'\n",
      "WARNING: Skipping C:\\Users\\KIIT\\anaconda3\\Lib\\site-packages\\Pillow-9.4.0-py3.11.egg-info due to invalid metadata entry 'name'\n",
      "\n",
      "[notice] A new release of pip is available: 24.1.2 -> 24.3.1\n",
      "[notice] To update, run: python.exe -m pip install --upgrade pip\n"
     ]
    }
   ],
   "source": [
    "!pip install nnfs"
   ]
  },
  {
   "cell_type": "code",
   "execution_count": 15,
   "id": "4322a691",
   "metadata": {},
   "outputs": [
    {
     "data": {
      "image/png": "[encoded data removed]",
      "text/plain": [
       "<Figure size 640x480 with 1 Axes>"
      ]
     },
     "metadata": {},
     "output_type": "display_data"
    }
   ],
   "source": [
    "from nnfs.datasets import spiral_data\n",
    "import numpy as np\n",
    "import nnfs\n",
    "nnfs.init()\n",
    "\n",
    "%matplotlib inline\n",
    "import matplotlib.pyplot as plt\n",
    "X, y = spiral_data( samples = 100 , classes = 3 )\n",
    "plt.scatter(X[:, 0 ], X[:, 1 ])\n",
    "plt.show()"
   ]
  },
  {
   "cell_type": "code",
   "execution_count": 16,
   "id": "2f71599b",
   "metadata": {},
   "outputs": [
    {
     "data": {
      "image/png": "[encoded data removed]",
      "text/plain": [
       "<Figure size 640x480 with 1 Axes>"
      ]
     },
     "metadata": {},
     "output_type": "display_data"
    }
   ],
   "source": [
    "plt.scatter(X[:, 0 ], X[:, 1 ], c = y, cmap = 'brg' )\n",
    "plt.show()"
   ]
  },
  {
   "cell_type": "code",
   "execution_count": 23,
   "id": "61e1fbc4",
   "metadata": {},
   "outputs": [],
   "source": [
    "class Layer_dense:\n",
    "    \n",
    "    def __init__(self , n_inputs , n_neurons):\n",
    "        #initialize the weights and biases\n",
    "        self.weights = 0.01 * np.random.randn(n_inputs , n_neurons)\n",
    "        self.biases = np.zeros((1,n_neurons))\n",
    "        \n",
    "    \n",
    "    def forward(self , inputs):\n",
    "        #calculate the output  values from the input values , weights and biases\n",
    "        \n",
    "        self.output  = np.dot(inputs,self.weights)+self.biases\n",
    "    \n"
   ]
  },
  {
   "cell_type": "code",
   "execution_count": 24,
   "id": "748c6eb8",
   "metadata": {},
   "outputs": [
    {
     "name": "stdout",
     "output_type": "stream",
     "text": [
      "[[ 0.0000000e+00  0.0000000e+00  0.0000000e+00]\n",
      " [-5.5361892e-05 -5.3239353e-05  1.2474808e-04]\n",
      " [-1.9669959e-04 -1.9427804e-04  2.5709232e-04]\n",
      " [-4.0703916e-04 -4.0962288e-04  2.5589613e-04]\n",
      " [-5.3941528e-04 -5.4189982e-04  3.7327429e-04]]\n"
     ]
    }
   ],
   "source": [
    "dense1 = Layer_dense(2,3)\n",
    "dense1.forward()\n",
    "\n",
    "\n",
    "print(dense1.output[:5])"
   ]
  },
  {
   "cell_type": "markdown",
   "id": "b314d0a9",
   "metadata": {},
   "source": [
    "# activation functions\n",
    "\n",
    "- linear activatoin function y = x\n",
    "- sigmoid \n",
    "y = 1/1+e^-x\n",
    "- Relu\n",
    "y = x , x>0\n",
    "    0 , x<=0"
   ]
  },
  {
   "cell_type": "code",
   "execution_count": 28,
   "id": "61b9dbbd",
   "metadata": {},
   "outputs": [
    {
     "name": "stdout",
     "output_type": "stream",
     "text": [
      "[0, 2, 0, 3.3, 0, 1.1, 2.2, 0]\n"
     ]
    }
   ],
   "source": [
    "inputs = [ 0 , 2 , - 1 , 3.3 , - 2.7 , 1.1 , 2.2 , - 100 ]\n",
    "output = []\n",
    "for i in inputs:\n",
    "    output.append( max ( 0 , i))\n",
    "print (output)"
   ]
  },
  {
   "cell_type": "code",
   "execution_count": 29,
   "id": "997c737d",
   "metadata": {},
   "outputs": [
    {
     "name": "stdout",
     "output_type": "stream",
     "text": [
      "[0.  2.  0.  3.3 0.  1.1 2.2 0. ]\n"
     ]
    }
   ],
   "source": [
    "output = np.maximum( 0 , inputs)\n",
    "print(output)"
   ]
  },
  {
   "cell_type": "code",
   "execution_count": 30,
   "id": "2118ec98",
   "metadata": {},
   "outputs": [],
   "source": [
    "class Activation_ReLU:\n",
    "    def forward(self , inputs):\n",
    "        self.output = np.maximum(0 , inputs)\n"
   ]
  },
  {
   "cell_type": "code",
   "execution_count": 34,
   "id": "92699659",
   "metadata": {},
   "outputs": [],
   "source": [
    "X, y = spiral_data( samples = 100 , classes = 3 )\n",
    "dense1 = Layer_dense( 2 , 3 )\n",
    "# Create ReLU activation (to be used with Dense layer):\n",
    "activation1 = Activation_ReLU()\n",
    "# Make a forward pass of our training data through this layer\n",
    "dense1.forward(X)\n",
    "# Forward pass through activation func.\n",
    "# Takes in output from previous layer\n",
    "activation1.forward(dense1.output)"
   ]
  },
  {
   "cell_type": "code",
   "execution_count": 35,
   "id": "6885e4bc",
   "metadata": {},
   "outputs": [
    {
     "name": "stdout",
     "output_type": "stream",
     "text": [
      "[[0.0000000e+00 0.0000000e+00 0.0000000e+00]\n",
      " [0.0000000e+00 0.0000000e+00 0.0000000e+00]\n",
      " [0.0000000e+00 3.0946774e-06 0.0000000e+00]\n",
      " [0.0000000e+00 0.0000000e+00 0.0000000e+00]\n",
      " [1.3543649e-04 0.0000000e+00 3.6163940e-05]]\n"
     ]
    }
   ],
   "source": [
    "print (activation1.output[: 5 ])"
   ]
  },
  {
   "cell_type": "code",
   "execution_count": 39,
   "id": "2dc1f774",
   "metadata": {},
   "outputs": [
    {
     "name": "stdout",
     "output_type": "stream",
     "text": [
      "expontiated values :  [121.5104543255418, 3.353484908616863, 10.85906429930444]\n"
     ]
    }
   ],
   "source": [
    "#softmax activation function\n",
    "\n",
    "\n",
    "\n",
    "layer_outputs = [ 4.8 , 1.21 , 2.385 ]\n",
    "\n",
    "E = 2.718282\n",
    "\n",
    "exp_values = []\n",
    "\n",
    "for output in layer_outputs:\n",
    "    exp_values.append(E**output)\n",
    "\n",
    "print(\"expontiated values : \" ,exp_values)\n"
   ]
  },
  {
   "cell_type": "code",
   "execution_count": 41,
   "id": "7f636bd6",
   "metadata": {},
   "outputs": [
    {
     "name": "stdout",
     "output_type": "stream",
     "text": [
      "Normalized exponentiated values:\n",
      "[0.8952826798854541, 0.02470830162397671, 0.08000901849056923]\n",
      "Sum of normalized values: 1.0\n"
     ]
    }
   ],
   "source": [
    "# Now normalize values\n",
    "norm_base = sum (exp_values) # We sum all values\n",
    "norm_values = []\n",
    "for value in exp_values:\n",
    "    norm_values.append(value / norm_base)\n",
    "print ( 'Normalized exponentiated values:' )\n",
    "print (norm_values)\n",
    "print ( 'Sum of normalized values:' , sum (norm_values))"
   ]
  },
  {
   "cell_type": "code",
   "execution_count": 42,
   "id": "06bd4c35",
   "metadata": {},
   "outputs": [
    {
     "name": "stdout",
     "output_type": "stream",
     "text": [
      "exponentiated values:\n",
      "[121.51041752   3.35348465  10.85906266]\n",
      "normalized exponentiated values:\n",
      "[0.89528266 0.02470831 0.08000903]\n",
      "sum of normalized values: 0.9999999999999999\n"
     ]
    }
   ],
   "source": [
    "import numpy as np\n",
    "# Values from the earlier previous when we described\n",
    "# what a neural network is\n",
    "layer_outputs = [ 4.8 , 1.21 , 2.385 ]\n",
    "# For each value in a vector, calculate the exponential value\n",
    "exp_values = np.exp(layer_outputs)\n",
    "print ( 'exponentiated values:' )\n",
    "print (exp_values)\n",
    "# Now normalize values\n",
    "norm_values = exp_values / np.sum(exp_values)\n",
    "print ( 'normalized exponentiated values:' )\n",
    "print (norm_values)\n",
    "print ( 'sum of normalized values:' , np.sum(norm_values))"
   ]
  },
  {
   "cell_type": "code",
   "execution_count": 46,
   "id": "e3fe331f",
   "metadata": {},
   "outputs": [],
   "source": [
    "# Get unnormalized probabilities\n",
    "exp_values = np.exp(inputs)\n",
    "# Normalize them for each sample\n",
    "probabilities = exp_values / np.sum(exp_values, keepdims = True)"
   ]
  },
  {
   "cell_type": "code",
   "execution_count": 49,
   "id": "c8516ffd",
   "metadata": {},
   "outputs": [
    {
     "data": {
      "text/plain": [
       "[0, 2, -1, 3.3, -2.7, 1.1, 2.2, -100]"
      ]
     },
     "execution_count": 49,
     "metadata": {},
     "output_type": "execute_result"
    }
   ],
   "source": [
    "inputs"
   ]
  },
  {
   "cell_type": "code",
   "execution_count": 63,
   "id": "e6471cd9",
   "metadata": {},
   "outputs": [],
   "source": [
    "class Activation_Softmax:\n",
    "    def forward(self , inputs):\n",
    "        exp_values = np.exp(inputs - np.max(inputs, axis = 1 ,\n",
    "keepdims = True )) # normalizing to prevent overflow\n",
    "        \n",
    "        probabilities  = exp_values/np.sum(exp_values , axis = 1, keepdims = True)\n",
    "        \n",
    "        self.output = probabilities\n",
    "        \n",
    "    "
   ]
  },
  {
   "cell_type": "code",
   "execution_count": 64,
   "id": "667460a0",
   "metadata": {},
   "outputs": [
    {
     "name": "stdout",
     "output_type": "stream",
     "text": [
      "[[0.09003057 0.24472847 0.66524096]]\n"
     ]
    }
   ],
   "source": [
    "softmax = Activation_Softmax()\n",
    "softmax.forward([[ 1 , 2 , 3 ]])\n",
    "print (softmax.output)"
   ]
  },
  {
   "cell_type": "code",
   "execution_count": 66,
   "id": "4e3d8132",
   "metadata": {},
   "outputs": [
    {
     "name": "stdout",
     "output_type": "stream",
     "text": [
      "[[0.33333334 0.33333334 0.33333334]\n",
      " [0.33333382 0.33333316 0.33333305]\n",
      " [0.3333335  0.33333334 0.33333316]\n",
      " [0.3333336  0.3333333  0.33333305]\n",
      " [0.33333376 0.3333333  0.3333329 ]]\n"
     ]
    }
   ],
   "source": [
    "X, y = spiral_data( samples = 100 , classes = 3 )\n",
    "# Create Dense layer with 2 input features and 3 output values\n",
    "dense1 = Layer_dense( 2 , 3 )\n",
    "# Create ReLU activation (to be used with Dense layer):\n",
    "activation1 = Activation_ReLU()\n",
    "dense2 = Layer_dense( 3 , 3 )\n",
    "activation2 = Activation_Softmax()\n",
    "\n",
    "\n",
    "# forward pass\n",
    "\n",
    "dense1.forward(X)\n",
    "activation1.forward(dense1.output)\n",
    "dense2.forward(activation1.output)\n",
    "activation2.forward(dense2.output)\n",
    "print (activation2.output[: 5 ])"
   ]
  },
  {
   "cell_type": "code",
   "execution_count": 67,
   "id": "760ffd9c",
   "metadata": {},
   "outputs": [
    {
     "name": "stdout",
     "output_type": "stream",
     "text": [
      "[[0.33333334 0.33333334 0.33333334]\n",
      " [0.3333332  0.3333332  0.33333364]\n",
      " [0.3333329  0.33333293 0.3333342 ]\n",
      " [0.3333326  0.33333263 0.33333477]\n",
      " [0.33333233 0.3333324  0.33333528]]\n"
     ]
    }
   ],
   "source": [
    "#entire code till now\n",
    "import numpy as np\n",
    "import nnfs\n",
    "from nnfs.datasets import spiral_data\n",
    "nnfs.init()\n",
    "\n",
    "\n",
    "# Dense layer\n",
    "class Layer_Dense :\n",
    "    # Layer initialization\n",
    "    def __init__ ( self , n_inputs , n_neurons ):\n",
    "        # Initialize weights and biases\n",
    "        self.weights = 0.01 * np.random.randn(n_inputs, n_neurons)\n",
    "        self.biases = np.zeros(( 1 , n_neurons))\n",
    "    # Forward pass\n",
    "    def forward ( self , inputs ):\n",
    "        # Calculate output values from inputs, weights and biases\n",
    "        self.output = np.dot(inputs, self.weights) + self.biases\n",
    "\n",
    "    \n",
    "    # ReLU activation\n",
    "class Activation_ReLU :\n",
    "    # Forward pass\n",
    "    def forward ( self , inputs ):\n",
    "        # Calculate output values from inputs\n",
    "        self.output = np.maximum( 0 , inputs)\n",
    "\n",
    "\n",
    "\n",
    "# Softmax activation\n",
    "class Activation_Softmax :\n",
    "    # Forward pass\n",
    "    def forward ( self , inputs ):\n",
    "        # Get unnormalized probabilities\n",
    "        exp_values = np.exp(inputs - np.max(inputs, axis = 1 ,\n",
    "        keepdims = True ))\n",
    "        # Normalize them for each sample\n",
    "        probabilities = exp_values / np.sum(exp_values, axis = 1 ,\n",
    "        keepdims = True )\n",
    "        self.output = probabilities\n",
    "\n",
    "\n",
    "X, y = spiral_data( samples = 100 , classes = 3 )\n",
    "# Create Dense layer with 2 input features and 3 output values\n",
    "dense1 = Layer_dense( 2 , 3 )\n",
    "# Create ReLU activation (to be used with Dense layer):\n",
    "activation1 = Activation_ReLU()\n",
    "dense2 = Layer_dense( 3 , 3 )\n",
    "activation2 = Activation_Softmax()\n",
    "\n",
    "\n",
    "# forward pass\n",
    "\n",
    "dense1.forward(X)\n",
    "activation1.forward(dense1.output)\n",
    "dense2.forward(activation1.output)\n",
    "activation2.forward(dense2.output)\n",
    "print (activation2.output[: 5 ])\n"
   ]
  },
  {
   "cell_type": "code",
   "execution_count": 70,
   "id": "c7a8be87",
   "metadata": {},
   "outputs": [
    {
     "name": "stdout",
     "output_type": "stream",
     "text": [
      "[[ 0.00000000e+00  0.00000000e+00  0.00000000e+00]\n",
      " [-1.04751882e-04  1.13953611e-04 -4.79834998e-05]\n",
      " [-2.74148420e-04  3.17291502e-04 -8.69217984e-05]\n",
      " [-4.21883655e-04  5.26662567e-04 -5.59126820e-05]\n",
      " [-5.77076804e-04  7.14014051e-04 -8.94304394e-05]\n",
      " [-3.54306976e-04  3.50254879e-04 -2.33634812e-04]\n",
      " [-8.92670010e-04  1.07678759e-03 -1.94532375e-04]\n",
      " [-9.33507807e-04  1.07238023e-03 -3.12273973e-04]\n",
      " [-1.12437585e-03  1.31128007e-03 -3.36296740e-04]\n",
      " [-1.33869553e-03  1.62009057e-03 -2.81017943e-04]\n",
      " [-1.48779724e-03  1.79484230e-03 -3.23859538e-04]\n",
      " [-1.20035873e-03  1.58119109e-03  8.65937000e-06]\n",
      " [-1.56528328e-03  1.99173321e-03 -1.30997345e-04]\n",
      " [-1.85718178e-03  2.30642664e-03 -2.70479388e-04]\n",
      " [-1.78093580e-03  2.27836682e-03 -1.24245722e-04]\n",
      " [-1.85300526e-03  2.38476763e-03 -1.00471654e-04]\n",
      " [-6.99865050e-04  1.11472746e-03  3.96097894e-04]\n",
      " [-2.19024252e-03  2.79446482e-03 -1.68075712e-04]\n",
      " [-1.69829139e-03  2.29598465e-03  1.31671681e-04]\n",
      " [-2.60229013e-03  3.27291898e-03 -2.95551814e-04]\n",
      " [-2.79824762e-03  3.25863226e-03 -8.46611336e-04]\n",
      " [-6.62265695e-04  1.16156484e-03  5.91262244e-04]\n",
      " [-2.34385152e-05  4.16283088e-04  7.81800132e-04]\n",
      " [-2.22919136e-03  2.99929525e-03  1.43561774e-04]\n",
      " [ 2.79162521e-03 -3.10669374e-03  1.13710808e-03]\n",
      " [-2.82744877e-03  3.70035390e-03 -2.85736460e-05]\n",
      " [-4.81957541e-05  5.16693690e-04  9.19478654e-04]\n",
      " [-1.12146503e-04  6.11394178e-04  9.41154314e-04]\n",
      " [ 3.34717403e-03 -3.74739477e-03  1.31786498e-03]\n",
      " [ 3.63627588e-03 -4.11514286e-03  1.34229811e-03]\n",
      " [ 1.92611036e-03 -1.84830802e-03  1.38321624e-03]\n",
      " [ 2.82350834e-03 -2.97681033e-03  1.48546463e-03]\n",
      " [ 6.02233515e-04 -1.67318693e-04  1.26518577e-03]\n",
      " [-1.53827597e-03  2.41001090e-03  7.89249549e-04]\n",
      " [ 2.85128853e-03 -2.94735585e-03  1.61921384e-03]\n",
      " [ 4.24167980e-03 -4.76334151e-03  1.64067710e-03]\n",
      " [ 5.35529340e-03 -6.47814013e-03  1.12994132e-03]\n",
      " [ 5.47406217e-03 -6.67855563e-03  1.03991898e-03]\n",
      " [ 4.70530288e-03 -5.30964276e-03  1.76796631e-03]\n",
      " [ 5.23962313e-03 -6.03079936e-03  1.72899722e-03]\n",
      " [ 4.48891381e-03 -4.95675951e-03  1.90711429e-03]\n",
      " [ 4.24570590e-03 -4.60708095e-03  1.96830905e-03]\n",
      " [ 4.15648101e-03 -4.46545286e-03  2.01781979e-03]\n",
      " [ 2.97913607e-03 -4.26813867e-03 -7.18790398e-04]\n",
      " [ 6.54056575e-03 -7.86392391e-03  1.47738378e-03]\n",
      " [ 6.66576903e-03 -8.12278781e-03  1.28596986e-03]\n",
      " [ 6.69042300e-03 -7.90708512e-03  1.78911281e-03]\n",
      " [ 4.32589184e-03 -5.87436277e-03 -3.88175424e-04]\n",
      " [ 7.01201102e-03 -8.30574427e-03  1.83740794e-03]\n",
      " [ 5.97258890e-03 -7.70690013e-03  2.82589026e-04]\n",
      " [ 6.93482393e-03 -8.69232044e-03  8.47760472e-04]\n",
      " [ 3.35664232e-03 -4.85947682e-03 -9.12277726e-04]\n",
      " [ 5.58268931e-03 -7.37549178e-03 -8.40966823e-05]\n",
      " [ 6.80049183e-03 -8.68413597e-03  5.06460550e-04]\n",
      " [ 2.85090180e-03 -4.33256850e-03 -1.19111000e-03]\n",
      " [ 2.73857702e-04 -1.30009698e-03 -1.90704083e-03]\n",
      " [ 9.42569284e-04 -2.11934187e-03 -1.78688427e-03]\n",
      " [-8.94057448e-04  7.98355977e-05 -2.22010678e-03]\n",
      " [ 2.23323703e-03 -3.68446624e-03 -1.52235094e-03]\n",
      " [ 2.19157184e-04 -1.30481448e-03 -2.06234562e-03]\n",
      " [ 7.02887482e-04 -1.90354802e-03 -1.98782049e-03]\n",
      " [-1.61276315e-03  8.88579467e-04 -2.49475846e-03]\n",
      " [-4.87385259e-04 -5.03437070e-04 -2.31953058e-03]\n",
      " [ 2.79420684e-03 -4.43429593e-03 -1.54847011e-03]\n",
      " [-6.49189809e-03  7.01261312e-03 -3.07422900e-03]\n",
      " [-5.15000476e-03  5.24785277e-03 -3.07808956e-03]\n",
      " [-4.74837929e-04 -5.89296629e-04 -2.46022921e-03]\n",
      " [-9.27615911e-03  1.07673705e-02 -2.87740491e-03]\n",
      " [-5.81121305e-03  6.03479007e-03 -3.24377767e-03]\n",
      " [-9.54022817e-03  1.10694468e-02 -2.96833017e-03]\n",
      " [-1.03954356e-02  1.26270801e-02 -2.08786665e-03]\n",
      " [-1.04636475e-02  1.24618784e-02 -2.60464218e-03]\n",
      " [-9.55853239e-03  1.21143209e-02 -8.98030412e-04]\n",
      " [-8.85451026e-03  9.94538236e-03 -3.42105608e-03]\n",
      " [-1.05120707e-02  1.30804004e-02 -1.47925375e-03]\n",
      " [-1.10487267e-02  1.31548755e-02 -2.75801658e-03]\n",
      " [-1.12083890e-02  1.33558260e-02 -2.77586374e-03]\n",
      " [-1.13816336e-02  1.38972020e-02 -2.13949126e-03]\n",
      " [-1.09055489e-02  1.36378417e-02 -1.39706803e-03]\n",
      " [-9.47057456e-03  1.22600151e-02 -3.68209381e-04]\n",
      " [-1.18110767e-02  1.44355921e-02 -2.19176058e-03]\n",
      " [-3.70575837e-03  5.83366072e-03  1.95783773e-03]\n",
      " [-5.07630361e-03  7.44418567e-03  1.57256424e-03]\n",
      " [-1.19901439e-02  1.48273585e-02 -1.87432044e-03]\n",
      " [ 3.50416009e-03 -2.80893152e-03  3.63937928e-03]\n",
      " [ 7.02582626e-03 -7.23656267e-03  4.04258026e-03]\n",
      " [ 4.16412205e-03 -3.59364226e-03  3.80626111e-03]\n",
      " [-3.16320406e-03  5.30708674e-03  2.33543036e-03]\n",
      " [-7.29834754e-03  1.01005556e-02  1.03969674e-03]\n",
      " [ 7.17180222e-03 -7.33979698e-03  4.22213553e-03]\n",
      " [-7.42342265e-04  2.48111179e-03  3.05403583e-03]\n",
      " [ 1.02462415e-02 -1.13222776e-02  4.33659181e-03]\n",
      " [ 5.98201016e-03 -5.76332957e-03  4.24936693e-03]\n",
      " [ 1.11535490e-02 -1.24961603e-02  4.37320629e-03]\n",
      " [ 9.30947345e-03 -1.00031337e-02  4.51608188e-03]\n",
      " [ 1.19278030e-02 -1.35027459e-02  4.39461926e-03]\n",
      " [ 9.81353037e-03 -1.06187211e-02  4.61058132e-03]\n",
      " [ 1.42109115e-02 -1.74567290e-02  2.45854538e-03]\n",
      " [ 1.24066621e-02 -1.40718669e-02  4.51622158e-03]\n",
      " [ 1.40068708e-02 -1.63717158e-02  4.11539385e-03]\n",
      " [ 0.00000000e+00  0.00000000e+00  0.00000000e+00]\n",
      " [ 6.90151574e-05 -6.77052667e-05  4.65653029e-05]\n",
      " [ 1.73380962e-04 -1.80674644e-04  9.55162759e-05]\n",
      " [ 4.29928419e-04 -5.33319311e-04  6.38459096e-05]\n",
      " [ 4.55915346e-04 -5.05130913e-04  1.90250052e-04]\n",
      " [ 4.25877311e-04 -5.86507434e-04 -5.48161079e-05]\n",
      " [ 8.86678288e-04 -1.05829758e-03  2.16067740e-04]\n",
      " [ 1.02425052e-03 -1.21431134e-03  2.66193150e-04]\n",
      " [ 3.70836322e-04 -5.81815839e-04 -1.91945830e-04]\n",
      " [ 5.66761941e-04 -8.28117423e-04 -1.69459672e-04]\n",
      " [ 2.11300008e-04 -4.29697655e-04 -3.08490300e-04]\n",
      " [ 8.16400512e-04 -1.15386292e-03 -1.64984260e-04]\n",
      " [ 1.72266562e-03 -2.13557226e-03  2.58593791e-04]\n",
      " [-3.49676615e-04  1.96710200e-04 -5.32695965e-04]\n",
      " [ 1.50327431e-03 -1.98597228e-03 -2.25283020e-05]\n",
      " [ 3.77576071e-04 -7.16614595e-04 -4.47369181e-04]\n",
      " [-8.11455538e-06 -2.72377714e-04 -5.74017700e-04]\n",
      " [ 1.09268655e-03 -1.58970791e-03 -3.12800781e-04]\n",
      " [-1.03999526e-04 -1.91640080e-04 -6.65741216e-04]\n",
      " [-8.18967179e-04  6.68109278e-04 -8.26991396e-04]\n",
      " [-3.62242194e-04  8.72750170e-05 -7.88115256e-04]\n",
      " [ 1.53856003e-03 -2.18000798e-03 -3.22033360e-04]\n",
      " [-9.20188148e-04  7.38693168e-04 -9.53524082e-04]\n",
      " [-2.68069236e-03  2.98455195e-03 -1.08926231e-03]\n",
      " [ 3.36384401e-05 -4.63861797e-04 -8.51117191e-04]\n",
      " [-1.32444093e-03  1.18713139e-03 -1.12110667e-03]\n",
      " [-1.22534309e-03  1.04455894e-03 -1.14622794e-03]\n",
      " [-4.01714817e-03  4.84781386e-03 -8.71147204e-04]\n",
      " [-3.67039349e-03  4.19805571e-03 -1.26504444e-03]\n",
      " [-3.73551180e-03  4.25430713e-03 -1.32445677e-03]\n",
      " [-2.36706994e-03  2.40945397e-03 -1.42001815e-03]\n",
      " [-4.46175411e-03  5.24858152e-03 -1.24292122e-03]\n",
      " [-3.44441156e-03  3.76917864e-03 -1.53275416e-03]\n",
      " [-4.67897300e-03  5.47302281e-03 -1.36647269e-03]\n",
      " [-4.33692755e-03  4.92774928e-03 -1.56101480e-03]\n",
      " [-5.08603686e-03  6.27343729e-03 -8.27715616e-04]\n",
      " [-5.16579766e-03  6.40501548e-03 -7.73371954e-04]\n",
      " [-5.50347846e-03  6.62929891e-03 -1.21818844e-03]\n",
      " [-5.25217503e-03  6.58959011e-03 -6.29176968e-04]\n",
      " [-5.60111692e-03  6.58312859e-03 -1.57195947e-03]\n",
      " [-5.56486100e-03  6.46894658e-03 -1.70693232e-03]\n",
      " [-4.65019047e-03  6.08265400e-03 -5.34186038e-05]\n",
      " [-4.90357215e-03  6.37974823e-03 -1.25974548e-04]\n",
      " [-3.43638309e-03  4.78877733e-03  5.56442945e-04]\n",
      " [ 2.59777694e-03 -2.42429134e-03  2.00459431e-03]\n",
      " [-1.39752554e-03  2.46352050e-03  1.27276860e-03]\n",
      " [-5.89517644e-03  7.52999540e-03 -4.35114896e-04]\n",
      " [ 5.44972834e-04  1.68370956e-04  1.79342600e-03]\n",
      " [-6.14975486e-03  7.85564166e-03 -4.52952954e-04]\n",
      " [-3.55439447e-03  5.04609756e-03  7.63888995e-04]\n",
      " [-1.56233599e-03  2.74850940e-03  1.41164230e-03]\n",
      " [ 5.33768022e-03 -5.80545282e-03  2.44726380e-03]\n",
      " [-2.63712206e-03  4.04623104e-03  1.17996952e-03]\n",
      " [-2.23718933e-03  3.59749817e-03  1.33544474e-03]\n",
      " [ 1.41742558e-03 -7.73996639e-04  2.20670551e-03]\n",
      " [-3.40025144e-05  1.01102958e-03  1.95983611e-03]\n",
      " [ 6.97447872e-03 -7.88070168e-03  2.59942352e-03]\n",
      " [-8.78724386e-05  1.11129892e-03  2.01966357e-03]\n",
      " [ 4.90583654e-04  4.28904139e-04  2.17689481e-03]\n",
      " [ 4.30616271e-03 -4.29254863e-03  2.76727322e-03]\n",
      " [ 4.91926167e-03 -5.05652931e-03  2.85134115e-03]\n",
      " [ 8.59318208e-03 -1.07216248e-02  1.15053880e-03]\n",
      " [ 9.20729060e-03 -1.10497968e-02  2.12114188e-03]\n",
      " [ 8.66477285e-03 -1.00380778e-02  2.72755022e-03]\n",
      " [ 5.56339277e-03 -5.80123812e-03  3.05717275e-03]\n",
      " [ 9.49870329e-03 -1.16842296e-02  1.61088002e-03]\n",
      " [ 7.92189594e-03 -8.87710601e-03  3.10283946e-03]\n",
      " [ 6.92029856e-03 -7.50510488e-03  3.21680494e-03]\n",
      " [ 7.96820503e-03 -1.03598516e-02  2.19124398e-04]\n",
      " [ 9.71424207e-03 -1.21226553e-02  1.29598170e-03]\n",
      " [ 7.74449902e-03 -1.01761883e-02 -4.41080510e-06]\n",
      " [ 9.10210796e-03 -1.16254343e-02  6.73480390e-04]\n",
      " [ 6.63907873e-03 -9.01259203e-03 -5.89717063e-04]\n",
      " [ 1.05251353e-02 -1.30259367e-02  1.62452040e-03]\n",
      " [ 1.08714812e-02 -1.33327274e-02  1.92509114e-03]\n",
      " [ 4.88395337e-03 -7.08619691e-03 -1.35901594e-03]\n",
      " [ 1.00491373e-02 -1.27479080e-02  9.20186518e-04]\n",
      " [ 9.22847725e-03 -1.19471913e-02  3.57620069e-04]\n",
      " [ 7.63960369e-03 -1.02596078e-02 -4.53061628e-04]\n",
      " [ 4.37101955e-03 -6.57091895e-03 -1.68060057e-03]\n",
      " [ 5.34550985e-03 -7.71479588e-03 -1.40413758e-03]\n",
      " [ 9.25184879e-03 -1.20861605e-02  1.38051910e-04]\n",
      " [ 4.84690815e-03 -7.17931753e-03 -1.64656888e-03]\n",
      " [ 1.09912362e-02 -1.39381951e-02  1.01622776e-03]\n",
      " [-5.18616987e-03  4.91394382e-03 -3.85163119e-03]\n",
      " [ 6.98072929e-03 -9.67857428e-03 -1.03011506e-03]\n",
      " [ 2.97794794e-03 -5.07064164e-03 -2.34947982e-03]\n",
      " [-5.56494109e-03  5.33382921e-03 -4.00923099e-03]\n",
      " [-1.95069506e-03  8.20626621e-04 -3.53291584e-03]\n",
      " [-1.30304266e-02  1.54536068e-02 -3.37585318e-03]\n",
      " [-1.00224325e-03 -3.72679904e-04 -3.42607242e-03]\n",
      " [-1.10593326e-02  1.24272509e-02 -4.26194072e-03]\n",
      " [-1.07539846e-02  1.19805783e-02 -4.35428601e-03]\n",
      " [-5.89785120e-03  5.63739100e-03 -4.28055413e-03]\n",
      " [-1.37503175e-02  1.62992533e-02 -3.57882166e-03]\n",
      " [-1.28468471e-02  1.48126427e-02 -4.18666052e-03]\n",
      " [-1.41386073e-02  1.73114743e-02 -2.56049051e-03]\n",
      " [-1.39117297e-02  1.72523484e-02 -2.07593618e-03]\n",
      " [-7.37806875e-03  1.03990538e-02  1.43266818e-03]\n",
      " [-1.09968018e-02  1.44391945e-02 -1.49997186e-05]\n",
      " [ 0.00000000e+00  0.00000000e+00  0.00000000e+00]\n",
      " [-1.48660547e-04  1.80215618e-04 -3.05851354e-05]\n",
      " [-2.04853277e-04  2.72924168e-04  7.72019303e-06]\n",
      " [-3.44164582e-04  4.49236279e-04 -5.87248633e-06]\n",
      " [-4.21523349e-04  5.58749074e-04  1.01207124e-05]\n",
      " [-7.21929187e-04  8.50375742e-04 -1.98808004e-04]\n",
      " [-7.08758249e-04  9.20094200e-04 -2.23236802e-05]\n",
      " [-9.60214995e-04  1.20718044e-03 -1.10046494e-04]\n",
      " [-6.35398785e-04  8.86487484e-04  1.04969891e-04]\n",
      " [-8.11601756e-04  1.10618013e-03  8.10658166e-05]\n",
      " [-6.83671751e-05  2.58721149e-04  3.42552696e-04]\n",
      " [-3.91316775e-04  6.60847581e-04  2.97661260e-04]\n",
      " [ 1.67810867e-04  8.08020468e-06  4.63482080e-04]\n",
      " [-8.08486308e-04  1.18444941e-03  2.48101074e-04]\n",
      " [-1.12271518e-03  1.56354241e-03  1.79730894e-04]\n",
      " [-4.45639482e-04  7.97280576e-04  4.29624721e-04]\n",
      " [ 2.29355181e-04  3.93971641e-06  6.19056111e-04]\n",
      " [ 9.74693743e-04 -9.00191662e-04  7.71213498e-04]\n",
      " [ 2.65408587e-03 -3.16210790e-03  6.58281147e-04]\n",
      " [ 1.06666912e-03 -9.77585441e-04  8.59302352e-04]\n",
      " [ 9.24480264e-05  2.40928712e-04  7.34925095e-04]\n",
      " [ 1.32253999e-03 -1.26129808e-03  9.65627609e-04]\n",
      " [ 1.50940369e-03 -1.47818192e-03  1.02363131e-03]\n",
      " [ 2.97316001e-03 -3.38896969e-03  1.04829471e-03]\n",
      " [ 5.07786346e-04 -1.94139735e-04  9.59157536e-04]\n",
      " [ 3.21855792e-03 -3.66508984e-03  1.14211498e-03]\n",
      " [ 3.59612890e-03 -4.17299382e-03  1.11800968e-03]\n",
      " [ 3.90340551e-03 -4.60045459e-03  1.06976402e-03]\n",
      " [ 3.54652805e-03 -4.02300712e-03  1.29004125e-03]\n",
      " [ 4.15658299e-03 -4.88146069e-03  1.17440347e-03]\n",
      " [ 3.22400895e-03 -3.52677889e-03  1.43714109e-03]\n",
      " [ 4.52286331e-03 -5.35375718e-03  1.19242945e-03]\n",
      " [ 4.72628465e-03 -5.63838379e-03  1.15716108e-03]\n",
      " [ 4.40083863e-03 -5.57165639e-03  4.25409875e-04]\n",
      " [ 4.93039982e-03 -5.81879821e-03  1.33509084e-03]\n",
      " [ 3.46026779e-03 -4.63922741e-03 -1.89511920e-04]\n",
      " [ 1.42426474e-03 -2.33170507e-03 -9.34198441e-04]\n",
      " [ 5.11322590e-03 -5.93195390e-03  1.59270270e-03]\n",
      " [ 3.19816638e-03 -4.41412814e-03 -4.31308203e-04]\n",
      " [ 2.12481176e-03 -3.20554152e-03 -8.39938235e-04]\n",
      " [ 4.77455463e-03 -6.18595537e-03  1.75258872e-04]\n",
      " [ 3.97618301e-03 -5.34923049e-03 -2.54898565e-04]\n",
      " [ 2.86770822e-03 -4.12059715e-03 -7.16442533e-04]\n",
      " [ 2.83001550e-03 -4.09709709e-03 -7.69207021e-04]\n",
      " [ 2.32339976e-03 -3.53075564e-03 -9.70398251e-04]\n",
      " [ 5.42771677e-03 -7.01811863e-03  2.27787954e-04]\n",
      " [-3.69262323e-03  3.77543899e-03 -2.18136236e-03]\n",
      " [-4.14541597e-03  4.33764653e-03 -2.24753865e-03]\n",
      " [ 1.49537006e-03 -2.63328268e-03 -1.35637133e-03]\n",
      " [ 3.08197900e-03 -4.50434815e-03 -9.23834799e-04]\n",
      " [-4.55107121e-03  4.79744328e-03 -2.39582267e-03]\n",
      " [-1.58827251e-03  1.03817240e-03 -2.12612539e-03]\n",
      " [-4.80902847e-03  5.08804899e-03 -2.49372586e-03]\n",
      " [-4.06186562e-03  4.10314556e-03 -2.50051892e-03]\n",
      " [-7.32550537e-03  8.45371280e-03 -2.37255567e-03]\n",
      " [-7.76619045e-03  9.07124393e-03 -2.29427358e-03]\n",
      " [-4.98261675e-03  5.22447005e-03 -2.67954310e-03]\n",
      " [-3.40495002e-03  3.19047668e-03 -2.60125939e-03]\n",
      " [-3.47434869e-03  3.25861969e-03 -2.64795893e-03]\n",
      " [-8.77087098e-03  1.06328903e-02 -1.80391117e-03]\n",
      " [-6.48685358e-03  7.10528623e-03 -2.87284236e-03]\n",
      " [-8.62838700e-03  1.00843096e-02 -2.53684865e-03]\n",
      " [-8.91683437e-03  1.04861027e-02 -2.49049184e-03]\n",
      " [-9.31283925e-03  1.13705406e-02 -1.75186584e-03]\n",
      " [-7.11451517e-03  7.83989206e-03 -3.05528427e-03]\n",
      " [-8.76425952e-03  1.10666491e-02 -9.06608708e-04]\n",
      " [-7.47847557e-03  9.78390314e-03 -8.24040981e-05]\n",
      " [-8.29251390e-03  1.06681967e-02 -4.57830727e-04]\n",
      " [-8.92835483e-03  1.13442168e-02 -7.80878298e-04]\n",
      " [-7.19034579e-03  9.55022313e-03  2.11334715e-04]\n",
      " [-5.21211466e-03  7.36194383e-03  1.04393472e-03]\n",
      " [-9.56599694e-03  1.10188108e-02 -3.13967885e-03]\n",
      " [ 4.72066179e-03 -4.55989037e-03  3.32942954e-03]\n",
      " [-2.42914096e-03  4.18777717e-03  2.02115276e-03]\n",
      " [-6.62629213e-03  9.04286839e-03  6.85187289e-04]\n",
      " [-4.48956853e-03  6.63165422e-03  1.48792844e-03]\n",
      " [ 1.45797210e-03 -4.31210065e-04  3.00992443e-03]\n",
      " [-8.54047481e-04  2.38537882e-03  2.56226980e-03]\n",
      " [-9.30922106e-03  1.20613966e-02 -3.41129897e-04]\n",
      " [ 1.10289017e-02 -1.28345592e-02  3.35481879e-03]\n",
      " [ 2.72743078e-03 -1.91976747e-03  3.37323337e-03]\n",
      " [ 9.42206290e-03 -1.04855355e-02  3.83771164e-03]\n",
      " [ 1.73220946e-03 -6.59971323e-04  3.27662774e-03]\n",
      " [ 1.20698139e-02 -1.42635545e-02  3.23000993e-03]\n",
      " [ 9.25360341e-03 -1.01770917e-02  4.01443103e-03]\n",
      " [ 1.12474868e-02 -1.28948782e-02  3.81486001e-03]\n",
      " [ 4.62586852e-03 -4.17117868e-03  3.86520429e-03]\n",
      " [ 1.29391365e-02 -1.56662092e-02  2.70145922e-03]\n",
      " [ 1.29803419e-02 -1.54692745e-02  3.21063912e-03]\n",
      " [ 1.27418721e-02 -1.58118512e-02  1.88052235e-03]\n",
      " [ 1.11397086e-02 -1.25693344e-02  4.18793084e-03]\n",
      " [ 1.23970928e-02 -1.43230986e-02  3.98121588e-03]\n",
      " [ 6.45468943e-03 -9.22422297e-03 -1.51018042e-03]\n",
      " [ 1.21351248e-02 -1.38639389e-02  4.21446189e-03]\n",
      " [ 1.39590912e-02 -1.69567186e-02  2.80167512e-03]\n",
      " [ 9.85510740e-03 -1.31001240e-02 -3.11077543e-04]\n",
      " [ 1.32608023e-02 -1.66402366e-02  1.58308249e-03]\n",
      " [ 1.08089997e-02 -1.41843883e-02  3.14046229e-05]\n",
      " [ 1.37745915e-02 -1.71983037e-02  1.82016648e-03]\n",
      " [ 1.00501375e-02 -1.34110106e-02 -4.21959499e-04]]\n"
     ]
    }
   ],
   "source": [
    "print(dense1.output)\n"
   ]
  },
  {
   "cell_type": "code",
   "execution_count": 68,
   "id": "29a76138",
   "metadata": {},
   "outputs": [
    {
     "name": "stdout",
     "output_type": "stream",
     "text": [
      "0.35667494393873245\n"
     ]
    }
   ],
   "source": [
    "#calculating Network Error Loss\n",
    "\n",
    "import math\n",
    "\n",
    "\n",
    "# An example output from the output layer of the neural network\n",
    "softmax_output = [ 0.7 , 0.1 , 0.2 ]\n",
    "# Ground truth\n",
    "target_output = [ 1 , 0 , 0 ]\n",
    "\n",
    "\n",
    "loss = -(math.log(softmax_output[0])*target_output[0]+\n",
    "         math.log(softmax_output[1])*target_output[1]+\n",
    "         math.log(softmax_output[2])*target_output[2]\n",
    "        )\n",
    "print(loss)"
   ]
  },
  {
   "cell_type": "code",
   "execution_count": 72,
   "id": "980358ba",
   "metadata": {},
   "outputs": [
    {
     "name": "stdout",
     "output_type": "stream",
     "text": [
      "0.7\n",
      "0.5\n",
      "0.9\n"
     ]
    }
   ],
   "source": [
    "softmax_outputs = [[ 0.7 , 0.1 , 0.2 ],\n",
    "[ 0.1 , 0.5 , 0.4 ],\n",
    "[ 0.02 , 0.9 , 0.08 ]]\n",
    "class_targets = [ 0 , 1 , 1 ]\n",
    "for targ_idx, distribution in zip (class_targets, softmax_outputs):\n",
    "    print (distribution[targ_idx])"
   ]
  },
  {
   "cell_type": "code",
   "execution_count": 74,
   "id": "a2f1d2a3",
   "metadata": {},
   "outputs": [
    {
     "name": "stdout",
     "output_type": "stream",
     "text": [
      "[0.7 0.5 0.9]\n"
     ]
    }
   ],
   "source": [
    "softmax_outputs = np.array([[ 0.7 , 0.1 , 0.2 ],\n",
    "[ 0.1 , 0.5 , 0.4 ],\n",
    "[ 0.02 , 0.9 , 0.08 ]])\n",
    "class_targets = [ 0 , 1 , 1 ]\n",
    "print (softmax_outputs[[ 0 , 1 , 2 ], class_targets])"
   ]
  },
  {
   "cell_type": "code",
   "execution_count": 75,
   "id": "cc7e9039",
   "metadata": {},
   "outputs": [
    {
     "name": "stdout",
     "output_type": "stream",
     "text": [
      "[0.7 0.5 0.9]\n"
     ]
    }
   ],
   "source": [
    "print(softmax_outputs[\n",
    "    range(len(softmax_outputs)) , class_targets\n",
    "])\n"
   ]
  },
  {
   "cell_type": "code",
   "execution_count": 81,
   "id": "4f7e4fc5",
   "metadata": {},
   "outputs": [
    {
     "name": "stdout",
     "output_type": "stream",
     "text": [
      "[0.35667494 0.69314718 0.10536052]\n"
     ]
    }
   ],
   "source": [
    "neg_log = -np.log(softmax_outputs[\n",
    "    range(len(softmax_outputs)) , class_targets\n",
    "])\n",
    "print(neg_log)"
   ]
  },
  {
   "cell_type": "code",
   "execution_count": 82,
   "id": "09eee2a8",
   "metadata": {},
   "outputs": [
    {
     "name": "stdout",
     "output_type": "stream",
     "text": [
      "0.38506088005216804\n"
     ]
    }
   ],
   "source": [
    "average_loss = np.mean(neg_log)\n",
    "print (average_loss)"
   ]
  },
  {
   "cell_type": "code",
   "execution_count": 89,
   "id": "dde50831",
   "metadata": {},
   "outputs": [
    {
     "name": "stdout",
     "output_type": "stream",
     "text": [
      "2\n",
      "0.38506088005216804\n"
     ]
    }
   ],
   "source": [
    "import numpy as np\n",
    "softmax_outputs = np.array([[ 0.7 , 0.1 , 0.2 ],\n",
    "[ 0.1 , 0.5 , 0.4 ],\n",
    "[ 0.02 , 0.9 , 0.08 ]])\n",
    "class_targets = np.array([[ 1 , 0 , 0 ],\n",
    "[ 0 , 1 , 0 ],\n",
    "[ 0 , 1 , 0 ]])\n",
    "# Probabilities for target values -\n",
    "# only if categorical labels\n",
    "if len (class_targets.shape) == 1 :\n",
    "    correct_confidences = softmax_outputs[\n",
    "    range ( len (softmax_outputs)),\n",
    "    class_targets\n",
    "    ]\n",
    "elif len(class_targets.shape) == 2 :\n",
    "    print(\"2\")\n",
    "    correct_confidences = np.sum(\n",
    "    softmax_outputs * class_targets,\n",
    "    axis = 1\n",
    "    )\n",
    "    \n",
    "neg_log = - np.log(correct_confidences)\n",
    "average_loss = np.mean(neg_log)\n",
    "print (average_loss)"
   ]
  },
  {
   "cell_type": "code",
   "execution_count": 87,
   "id": "1b5f473f",
   "metadata": {},
   "outputs": [
    {
     "data": {
      "text/plain": [
       "array([0.7, 0.5, 0.9])"
      ]
     },
     "execution_count": 87,
     "metadata": {},
     "output_type": "execute_result"
    }
   ],
   "source": [
    "correct_confidences"
   ]
  },
  {
   "cell_type": "code",
   "execution_count": 101,
   "id": "80012d4e",
   "metadata": {},
   "outputs": [],
   "source": [
    "class Loss:\n",
    "    def calculate(self,output,y):\n",
    "        sample_losses = self.forward(output,y)\n",
    "        data_loss = np.mean(sample_losses)\n",
    "        \n",
    "        return data_loss\n",
    "    \n",
    "    \n",
    "class Loss_CategoricalCrossEntropy(Loss):\n",
    "    \n",
    "    def forward(self , y_pred,y_true):\n",
    "        samples = len(y_pred)\n",
    "        \n",
    "        y_pred_clipped = np.clip(y_pred , 1e-7,1-1e-7)\n",
    "        \n",
    "        if len(y_true.shape)==1:\n",
    "            correct_confidence = y_pred_clipped[\n",
    "                range(samples) , y_true\n",
    "            ]\n",
    "    \n",
    "        elif len(y_true.shape) == 2:\n",
    "            correct_confidence = np.sum(\n",
    "            y_pred_clipped*y_true,\n",
    "            axis = 1\n",
    "            )\n",
    "            \n",
    "        negative_log_likelihood = -np.log(correct_confidence)\n",
    "        return negative_log_likelihood"
   ]
  },
  {
   "cell_type": "code",
   "execution_count": 102,
   "id": "9c8d9062",
   "metadata": {},
   "outputs": [
    {
     "name": "stdout",
     "output_type": "stream",
     "text": [
      "0.38506088005216804\n"
     ]
    }
   ],
   "source": [
    "loss_function = Loss_CategoricalCrossEntropy()\n",
    "loss = loss_function.calculate(softmax_outputs, class_targets)\n",
    "print (loss)"
   ]
  },
  {
   "cell_type": "code",
   "execution_count": 14,
   "id": "c8730c56",
   "metadata": {},
   "outputs": [],
   "source": [
    "import numpy as np\n",
    "import nnfs\n",
    "from nnfs.datasets import spiral_data\n",
    "\n",
    "\n",
    "class Layer_Dense:\n",
    "    def __init__(self,n_inputs , n_neurons):\n",
    "        \n",
    "        #initialize the weights\n",
    "        \n",
    "        self.weights = 0.01*np.random.randn(n_inputs , n_neurons)\n",
    "        \n",
    "        self.biases = np.zeros((1,n_neurons))\n",
    "        \n",
    "    def forward(self , inputs):\n",
    "        \n",
    "        self.output = np.dot(inputs , self.weights ) + self.biases\n",
    "        \n",
    "class Activation_ReLu:\n",
    "    def forward(self , inputs):\n",
    "        self.output = np.maximum(0,inputs)\n",
    "        \n",
    "class Activation_Softmax:\n",
    "    \n",
    "    def forward(self , inputs):\n",
    "        \n",
    "        exp_values = np.exp(inputs - np.max(inputs , axis = 1 , keepdims = True))\n",
    "        \n",
    "        probabilities = exp_values / np.sum(exp_values , axis = 1, keepdims = True)\n",
    "        \n",
    "        self.output = probabilities\n",
    "        \n",
    "class Loss:\n",
    "    def calculate(self , output , y):\n",
    "        \n",
    "        sample_losses = self.forward(output, y)\n",
    "        data_loss = np.mean(sample_losses)\n",
    "        \n",
    "        return data_loss\n",
    "        \n",
    "\n",
    "class Loss_CategoricalCrossEntropy(Loss):\n",
    "    \n",
    "    def forward(self , y_pred , y_true):\n",
    "        \n",
    "        \n",
    "#         print(\"y_pred.shape\",y_pred.shape)\n",
    "#         print(\"y_pred :\",y_pred)\n",
    "        \n",
    "        samples = len(y_pred)\n",
    "        print(\"samples :\",samples)\n",
    "        \n",
    "        y_pred_clipped = np.clip(y_pred , 1e-7 , 1- 1e-7)\n",
    "        \n",
    "\n",
    "        \n",
    "#         print(\"y_pred_clipped.shape\",y_pred_clipped.shape)        \n",
    "#         print(\"y_pred_clipped :\",y_pred_clipped)\n",
    "\n",
    "        \n",
    "#         print(\"y_true.shape\",y_true.shape)\n",
    "#         print(\"y_true :\",y_true)\n",
    "        \n",
    "        if len(y_true.shape) == 1:\n",
    "            correct_confidences = y_pred_clipped[\n",
    "                range(samples) , y_true\n",
    "            ]\n",
    "        elif len(y_true.shape) == 2:\n",
    "            \n",
    "            correct_confidences = np.sum(y_pred_clipped * y_true ,\n",
    "                                       axis = 1\n",
    "                                       )\n",
    "        \n",
    "        \n",
    "        negative_log_likelihood = -np.log(correct_confidences)\n",
    "        return negative_log_likelihood\n",
    "    \n",
    "\n",
    "   "
   ]
  },
  {
   "cell_type": "code",
   "execution_count": 15,
   "id": "61ef2519",
   "metadata": {},
   "outputs": [
    {
     "name": "stdout",
     "output_type": "stream",
     "text": [
      "X shape  (300, 2)\n"
     ]
    }
   ],
   "source": [
    " \n",
    "X , y = spiral_data(samples = 100 , classes = 3)\n",
    "print(\"X shape \",X.shape)\n"
   ]
  },
  {
   "cell_type": "code",
   "execution_count": 16,
   "id": "4b2c5292",
   "metadata": {},
   "outputs": [],
   "source": [
    "# Create Dense layer with 2 input features and 3 output values\n",
    "dense1 = Layer_Dense( 2 , 3 )\n",
    "\n",
    "\n",
    "# Create ReLU activation (to be used with Dense layer):\n",
    "activation1 = Activation_ReLu()\n",
    "\n",
    "\n",
    "# Create second Dense layer with 3 input features (as we take output\n",
    "# of previous layer here) and 3 output values\n",
    "dense2 = Layer_Dense( 3 , 3 )\n",
    "\n",
    "\n",
    "# Create Softmax activation (to be used with Dense layer):\n",
    "activation2 = Activation_Softmax()\n",
    "\n",
    "\n",
    "# Create loss function\n",
    "loss_function = Loss_CategoricalCrossEntropy()\n",
    "\n"
   ]
  },
  {
   "cell_type": "code",
   "execution_count": 17,
   "id": "28e1b05c",
   "metadata": {},
   "outputs": [
    {
     "name": "stdout",
     "output_type": "stream",
     "text": [
      "[[0.33333333 0.33333333 0.33333333]\n",
      " [0.33333318 0.33333389 0.33333293]\n",
      " [0.33333339 0.33333409 0.33333252]\n",
      " [0.33333354 0.33333485 0.33333161]\n",
      " [0.33333261 0.33333554 0.33333185]]\n",
      "samples : 300\n",
      "loss: 1.0986068244382226\n"
     ]
    }
   ],
   "source": [
    "# Perform a forward pass of our training data through this layer\n",
    "dense1.forward(X)     \n",
    "# print(\"dense1.output shape :\",dense1.output.shape)\n",
    "# print(\"dense1.output :\",dense1.output)\n",
    "activation1.forward(dense1.output)\n",
    "\n",
    "\n",
    "\n",
    "# print(\"activation1.output shape :\",activation1.output.shape)\n",
    "# print(\"activation1.output :\",activation1.output)\n",
    "\n",
    "\n",
    "dense2.forward(activation1.output)\n",
    "\n",
    "# print(\"dense2.output shape :\",dense2.output.shape)\n",
    "# print(\"dense2.output :\",dense2.output)\n",
    "\n",
    "\n",
    "\n",
    "# Perform a forward pass through activation function\n",
    "# it takes the output of second dense layer here\n",
    "activation2.forward(dense2.output)\n",
    "\n",
    "\n",
    "# print(\"activation2.output shape :\",activation2.output.shape)\n",
    "# print(\"activation2.output :\",activation2.output)\n",
    "\n",
    "\n",
    "# Let's see output of the first few samples:\n",
    "print (activation2.output[: 5 ])\n",
    "\n",
    "\n",
    "# Perform a forward pass through loss function\n",
    "# it takes the output of second dense layer here and returns loss\n",
    "loss = loss_function.calculate(activation2.output, y)\n",
    "\n",
    "\n",
    "# Print loss value\n",
    "print ( 'loss:' , loss)"
   ]
  },
  {
   "cell_type": "code",
   "execution_count": 18,
   "id": "c777f891",
   "metadata": {},
   "outputs": [],
   "source": [
    "#accuracy calculation\n"
   ]
  },
  {
   "cell_type": "code",
   "execution_count": 19,
   "id": "000b5b47",
   "metadata": {},
   "outputs": [],
   "source": [
    "import numpy as np\n",
    "# Probabilities of 3 samples\n",
    "softmax_outputs = np.array([[ 0.7 , 0.2 , 0.1 ],\n",
    "[ 0.5 , 0.1 , 0.4 ],\n",
    "[ 0.02 , 0.9 , 0.08 ]])\n",
    "# Target (ground-truth) labels for 3 samples\n",
    "class_targets = np.array([ 0 , 1 , 1 ])"
   ]
  },
  {
   "cell_type": "code",
   "execution_count": 21,
   "id": "dac8a19a",
   "metadata": {},
   "outputs": [
    {
     "name": "stdout",
     "output_type": "stream",
     "text": [
      "acc: 0.6666666666666666\n"
     ]
    }
   ],
   "source": [
    "class_targets = np.array([ 0 , 1 , 1 ])\n",
    "# Calculate values along second axis (axis of index 1)\n",
    "predictions = np.argmax(softmax_outputs, axis = 1 )\n",
    "# If targets are one-hot encoded - convert them\n",
    "if len (class_targets.shape) == 2 :\n",
    "    class_targets = np.argmax(class_targets, axis = 1 )\n",
    "# True evaluates to 1; False to 0\n",
    "accuracy = np.mean(predictions == class_targets)\n",
    "print ( 'acc:' , accuracy)"
   ]
  },
  {
   "cell_type": "code",
   "execution_count": 23,
   "id": "072532af",
   "metadata": {},
   "outputs": [],
   "source": [
    "predictions = np.argmax(activation2.output , axis = 1)\n",
    "\n",
    "if len(y.shape) == 2:\n",
    "    \n",
    "    y = np.argmax(y , axis = 1)\n",
    "accuracy = np.mean(predictions == y)"
   ]
  },
  {
   "cell_type": "code",
   "execution_count": 24,
   "id": "1085e5b8",
   "metadata": {},
   "outputs": [
    {
     "name": "stdout",
     "output_type": "stream",
     "text": [
      "0.36\n"
     ]
    }
   ],
   "source": [
    "\n",
    "print(accuracy)"
   ]
  },
  {
   "cell_type": "code",
   "execution_count": 35,
   "id": "a07efa54",
   "metadata": {},
   "outputs": [
    {
     "name": "stdout",
     "output_type": "stream",
     "text": [
      "X shape  (300, 2)\n",
      "[[0.33333334 0.33333334 0.33333334]\n",
      " [0.3333338  0.33333316 0.33333308]\n",
      " [0.33333483 0.33333278 0.3333324 ]\n",
      " [0.3333348  0.33333272 0.3333325 ]\n",
      " [0.333334   0.33333296 0.33333302]]\n",
      "loss: 1.0986118\n",
      "accuracy :  0.38333333333333336\n"
     ]
    }
   ],
   "source": [
    "import numpy as np\n",
    "import nnfs\n",
    "from nnfs.datasets import spiral_data\n",
    "\n",
    "\n",
    "class Layer_Dense:\n",
    "    def __init__(self,n_inputs , n_neurons):\n",
    "        \n",
    "        #initialize the weights\n",
    "        \n",
    "        self.weights = 0.01*np.random.randn(n_inputs , n_neurons)\n",
    "        \n",
    "        self.biases = np.zeros((1,n_neurons))\n",
    "        \n",
    "    def forward(self , inputs):\n",
    "        \n",
    "        self.output = np.dot(inputs , self.weights ) + self.biases\n",
    "        \n",
    "class Activation_ReLu:\n",
    "    def forward(self , inputs):\n",
    "        self.output = np.maximum(0,inputs)\n",
    "        \n",
    "class Activation_Softmax:\n",
    "    \n",
    "    def forward(self , inputs):\n",
    "        \n",
    "        exp_values = np.exp(inputs - np.max(inputs , axis = 1 , keepdims = True))\n",
    "        \n",
    "        probabilities = exp_values / np.sum(exp_values , axis = 1, keepdims = True)\n",
    "        \n",
    "        self.output = probabilities\n",
    "        \n",
    "class Loss:\n",
    "    def calculate(self , output , y):\n",
    "        \n",
    "        sample_losses = self.forward(output, y)\n",
    "        data_loss = np.mean(sample_losses)\n",
    "        \n",
    "        return data_loss\n",
    "        \n",
    "\n",
    "class Loss_CategoricalCrossEntropy(Loss):\n",
    "    \n",
    "    def forward(self , y_pred , y_true):\n",
    "        \n",
    "        \n",
    "#         print(\"y_pred.shape\",y_pred.shape)\n",
    "#         print(\"y_pred :\",y_pred)\n",
    "        \n",
    "        samples = len(y_pred)\n",
    "        \n",
    "        y_pred_clipped = np.clip(y_pred , 1e-7 , 1- 1e-7)\n",
    "        \n",
    "\n",
    "        \n",
    "#         print(\"y_pred_clipped.shape\",y_pred_clipped.shape)        \n",
    "#         print(\"y_pred_clipped :\",y_pred_clipped)\n",
    "\n",
    "        \n",
    "#         print(\"y_true.shape\",y_true.shape)\n",
    "#         print(\"y_true :\",y_true)\n",
    "        \n",
    "        if len(y_true.shape) == 1:\n",
    "            correct_confidences = y_pred_clipped[\n",
    "                range(samples) , y_true\n",
    "            ]\n",
    "        elif len(y_true.shape) == 2:\n",
    "            \n",
    "            correct_confidences = np.sum(y_pred_clipped * y_true ,\n",
    "                                       axis = 1\n",
    "                                       )\n",
    "        \n",
    "        \n",
    "        negative_log_likelihood = -np.log(correct_confidences)\n",
    "        return negative_log_likelihood\n",
    "    \n",
    "\n",
    "    \n",
    "X , y = spiral_data(samples = 100 , classes = 3)\n",
    "print(\"X shape \",X.shape)\n",
    "\n",
    "# Create Dense layer with 2 input features and 3 output values\n",
    "dense1 = Layer_Dense( 2 , 3 )\n",
    "\n",
    "\n",
    "# Create ReLU activation (to be used with Dense layer):\n",
    "activation1 = Activation_ReLu()\n",
    "\n",
    "\n",
    "# Create second Dense layer with 3 input features (as we take output\n",
    "# of previous layer here) and 3 output values\n",
    "dense2 = Layer_Dense( 3 , 3 )\n",
    "\n",
    "\n",
    "# Create Softmax activation (to be used with Dense layer):\n",
    "activation2 = Activation_Softmax()\n",
    "\n",
    "\n",
    "# Create loss function\n",
    "loss_function = Loss_CategoricalCrossEntropy()\n",
    "\n",
    "\n",
    "\n",
    "\n",
    "# Perform a forward pass of our training data through this layer\n",
    "dense1.forward(X)     \n",
    "# print(\"dense1.output shape :\",dense1.output.shape)\n",
    "# print(\"dense1.output :\",dense1.output)\n",
    "activation1.forward(dense1.output)\n",
    "\n",
    "\n",
    "\n",
    "# print(\"activation1.output shape :\",activation1.output.shape)\n",
    "# print(\"activation1.output :\",activation1.output)\n",
    "\n",
    "\n",
    "dense2.forward(activation1.output)\n",
    "\n",
    "# print(\"dense2.output shape :\",dense2.output.shape)\n",
    "# print(\"dense2.output :\",dense2.output)\n",
    "\n",
    "\n",
    "\n",
    "# Perform a forward pass through activation function\n",
    "# it takes the output of second dense layer here\n",
    "activation2.forward(dense2.output)\n",
    "\n",
    "\n",
    "# print(\"activation2.output shape :\",activation2.output.shape)\n",
    "# print(\"activation2.output :\",activation2.output)\n",
    "\n",
    "\n",
    "# Let's see output of the first few samples:\n",
    "print (activation2.output[: 5 ])\n",
    "\n",
    "\n",
    "# Perform a forward pass through loss function\n",
    "# it takes the output of second dense layer here and returns loss\n",
    "loss = loss_function.calculate(activation2.output, y)\n",
    "\n",
    "\n",
    "# Print loss value\n",
    "print ( 'loss:' , loss)\n",
    "\n",
    "predictions = np.argmax(activation2.output , axis = 1)\n",
    "\n",
    "if len(y.shape) == 2:\n",
    "    \n",
    "    y = np.argmax(y , axis = 1)\n",
    "accuracy = np.mean(predictions == y)\n",
    "print('accuracy : ',accuracy)"
   ]
  },
  {
   "cell_type": "markdown",
   "id": "c4f823ce",
   "metadata": {},
   "source": [
    "## introducing optimization"
   ]
  },
  {
   "cell_type": "code",
   "execution_count": 43,
   "id": "0f97f2ee",
   "metadata": {},
   "outputs": [
    {
     "data": {
      "image/png": "[encoded data removed]",
      "text/plain": [
       "<Figure size 640x480 with 1 Axes>"
      ]
     },
     "metadata": {},
     "output_type": "display_data"
    }
   ],
   "source": [
    "import numpy as np\n",
    "import nnfs\n",
    "from nnfs.datasets import vertical_data\n",
    "import matplotlib.pyplot as plt \n",
    "\n",
    "%matplotlib inline\n",
    "\n",
    "nnfs.init()\n",
    "\n",
    "\n",
    "X, y = spiral_data( samples = 100 , classes = 3 )\n",
    "plt.scatter(X[:,0],X[:,1],c = y , s = 40 , cmap = 'brg')\n",
    "plt.show()\n",
    "\n"
   ]
  },
  {
   "cell_type": "code",
   "execution_count": 44,
   "id": "d55269a0",
   "metadata": {},
   "outputs": [],
   "source": [
    "dense1 = Layer_Dense(2,3)\n",
    "activaton1 = Activation_ReLu()\n",
    "\n",
    "dense2 = Layer_Dense(3,3)\n",
    "activaton2 = Activation_Softmax()\n",
    "\n",
    "loss_function = Loss_CategoricalCrossEntropy()"
   ]
  },
  {
   "cell_type": "code",
   "execution_count": 45,
   "id": "391a2dbf",
   "metadata": {},
   "outputs": [],
   "source": [
    "lowest_loss = 999999\n",
    "best_dense1_weights = dense1.weights.copy()\n",
    "best_dense1_biases = dense1.biases.copy()\n",
    "best_dense2_weights = dense2.weights.copy()\n",
    "best_dense2_biases = dense2.biases.copy()"
   ]
  },
  {
   "cell_type": "code",
   "execution_count": 46,
   "id": "0aaead1d",
   "metadata": {},
   "outputs": [
    {
     "name": "stdout",
     "output_type": "stream",
     "text": [
      "New set of weights found, iteration: 0 loss: 1.09863 acc: 0.3333333333333333\n",
      "New set of weights found, iteration: 18 loss: 1.0986283 acc: 0.3333333333333333\n",
      "New set of weights found, iteration: 59 loss: 1.0986179 acc: 0.3333333333333333\n",
      "New set of weights found, iteration: 61 loss: 1.0986176 acc: 0.3333333333333333\n",
      "New set of weights found, iteration: 456 loss: 1.0986155 acc: 0.3333333333333333\n",
      "New set of weights found, iteration: 457 loss: 1.0986152 acc: 0.3333333333333333\n",
      "New set of weights found, iteration: 697 loss: 1.0986133 acc: 0.3333333333333333\n",
      "New set of weights found, iteration: 3964 loss: 1.098613 acc: 0.3333333333333333\n",
      "New set of weights found, iteration: 3965 loss: 1.0986124 acc: 0.3333333333333333\n"
     ]
    }
   ],
   "source": [
    "\n",
    "for iteration in range(10000):\n",
    "    best_dense1_weights = 0.05*np.random.randn(2,3)\n",
    "    best_dense1_biases = 0.05*np.random.randn(1,3)\n",
    "    best_dense2_weights = 0.05*np.random.randn(3,3)\n",
    "    best_dense2_biases = 0.05*np.random.randn(1,3)\n",
    "    \n",
    "    \n",
    "    dense1.forward(X)\n",
    "    activation1.forward(dense1.output)\n",
    "    \n",
    "    dense2.forward(activation2.output)\n",
    "    activation2.forward(dense2.output)\n",
    "    loss = loss_function.calculate(activation2.output, y)\n",
    "\n",
    "    \n",
    "    predictions = np.argmax(activation2.output, axis = 1 )\n",
    "    accuracy = np.mean(predictions == y)\n",
    "    # If loss is smaller - print and save weights and biases aside\n",
    "    if loss < lowest_loss:\n",
    "        print ( 'New set of weights found, iteration:' , iteration,\n",
    "        'loss:' , loss, 'acc:' , accuracy)\n",
    "        best_dense1_weights = dense1.weights.copy()\n",
    "        best_dense1_biases = dense1.biases.copy()\n",
    "        best_dense2_weights = dense2.weights.copy()\n",
    "        best_dense2_biases = dense2.biases.copy()\n",
    "        lowest_loss = loss\n",
    "    # Revert weights and biases\n",
    "    else :\n",
    "        dense1.weights = best_dense1_weights.copy()\n",
    "        dense1.biases = best_dense1_biases.copy()\n",
    "        dense2.weights = best_dense2_weights.copy()\n",
    "        dense2.biases = best_dense2_biases.copy()"
   ]
  },
  {
   "cell_type": "markdown",
   "id": "e9cb7373",
   "metadata": {},
   "source": [
    "#### derivatives\n",
    "\n",
    "\n",
    "\n",
    "\n"
   ]
  },
  {
   "cell_type": "code",
   "execution_count": 51,
   "id": "2632e3bd",
   "metadata": {},
   "outputs": [],
   "source": [
    "import matplotlib.pyplot as plt \n",
    "import numpy as np\n"
   ]
  },
  {
   "cell_type": "code",
   "execution_count": 54,
   "id": "f4d8c11e",
   "metadata": {},
   "outputs": [
    {
     "name": "stdout",
     "output_type": "stream",
     "text": [
      "(2, 8) (2.0001, 8.000800020000002)\n"
     ]
    },
    {
     "data": {
      "image/png": "[encoded data removed]",
      "text/plain": [
       "<Figure size 640x480 with 1 Axes>"
      ]
     },
     "metadata": {},
     "output_type": "display_data"
    },
    {
     "name": "stdout",
     "output_type": "stream",
     "text": [
      "approximate derivative for f(x) where x = 2 is 8.000199999998785\n"
     ]
    }
   ],
   "source": [
    "\n",
    "\n",
    "def f(x):\n",
    "    return 2*x**2\n",
    "\n",
    "x = np.arange(0,5,0.001)\n",
    "y = f(x)\n",
    "\n",
    "plt.plot(x,y)\n",
    "p2_delta = 0.0001\n",
    "\n",
    "\n",
    "x1 = 2\n",
    "x2 = x1 + p2_delta\n",
    "\n",
    "y1 = f(x1)\n",
    "y2 = f(x2)\n",
    "\n",
    "\n",
    "\n",
    "print((x1, y1), (x2, y2))\n",
    "\n",
    "approximate_derivative = (y2-y1)/(x2-x1)\n",
    "\n",
    "\n",
    "b = y2-approximate_derivative*x2\n",
    "\n",
    "\n",
    "\n",
    "def tangent_line(x):\n",
    "\n",
    "    return approximate_derivative*x\n",
    "\n",
    "\n",
    "to_plot = [x1 -0.9 , x1 , x1+0.9]\n",
    "plt.plot(to_plot , [tangent_line(i) for i in to_plot])\n",
    "plt.show()\n",
    "\n",
    "print('approximate derivative for f(x)',\n",
    "     f'where x = {x1} is {approximate_derivative}')\n",
    "\n"
   ]
  },
  {
   "cell_type": "code",
   "execution_count": 56,
   "id": "5eccdffb",
   "metadata": {},
   "outputs": [
    {
     "name": "stdout",
     "output_type": "stream",
     "text": [
      "(0, 0) (0.0001, 2e-08)\n",
      "Approximate derivative for f(x) where x = 0 is 0.00019999999999999998 \n",
      "(1, 2) (1.0001, 2.00040002)\n",
      "Approximate derivative for f(x) where x = 1 is 4.0001999999987845 \n",
      "(2, 8) (2.0001, 8.000800020000002)\n",
      "Approximate derivative for f(x) where x = 2 is 8.000199999998785 \n",
      "(3, 18) (3.0001, 18.001200020000002)\n",
      "Approximate derivative for f(x) where x = 3 is 12.000199999998785 \n",
      "(4, 32) (4.0001, 32.00160002)\n",
      "Approximate derivative for f(x) where x = 4 is 16.000200000016548 \n"
     ]
    },
    {
     "data": {
      "image/png": "[encoded data removed]",
      "text/plain": [
       "<Figure size 640x480 with 1 Axes>"
      ]
     },
     "metadata": {},
     "output_type": "display_data"
    }
   ],
   "source": [
    "plt.plot(x, y)\n",
    "colors = [ 'k' , 'g' , 'r' , 'b' , 'c' ]\n",
    "def approximate_tangent_line ( x , approximate_derivative ):\n",
    "    return (approximate_derivative * x) + b\n",
    "\n",
    "for i in range ( 5 ):\n",
    "    p2_delta = 0.0001\n",
    "    x1 = i\n",
    "    x2 = x1 + p2_delta\n",
    "    y1 = f(x1)\n",
    "    y2 = f(x2)\n",
    "    print ((x1, y1), (x2, y2))\n",
    "    approximate_derivative = (y2 - y1) / (x2 - x1)\n",
    "    b = y2 - (approximate_derivative * x2)\n",
    "    to_plot = [x1 - 0.9 , x1, x1 + 0.9 ]\n",
    "    plt.scatter(x1, y1, c = colors[i])\n",
    "    plt.plot([point for point in to_plot],\n",
    "    [approximate_tangent_line(point, approximate_derivative)\n",
    "    for point in to_plot],\n",
    "    c = colors[i])\n",
    "    print ( 'Approximate derivative for f(x)' ,\n",
    "    f'where x = {x1} is {approximate_derivative} ' )\n",
    "plt.show()"
   ]
  },
  {
   "cell_type": "markdown",
   "id": "7d9154b7",
   "metadata": {},
   "source": [
    "### Gradients, Partial Derivatives,and the Chain Rule"
   ]
  },
  {
   "cell_type": "code",
   "execution_count": null,
   "id": "6da5bf3b",
   "metadata": {},
   "outputs": [],
   "source": []
  }
 ],
 "metadata": {
  "kernelspec": {
   "display_name": "Python 3 (ipykernel)",
   "language": "python",
   "name": "python3"
  },
  "language_info": {
   "codemirror_mode": {
    "name": "ipython",
    "version": 3
   },
   "file_extension": ".py",
   "mimetype": "text/x-python",
   "name": "python",
   "nbconvert_exporter": "python",
   "pygments_lexer": "ipython3",
   "version": "3.11.9"
  }
 },
 "nbformat": 4,
 "nbformat_minor": 5
}
