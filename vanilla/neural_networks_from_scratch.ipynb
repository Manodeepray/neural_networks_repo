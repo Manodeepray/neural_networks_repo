{
 "cells": [
  {
   "cell_type": "code",
   "execution_count": 1,
   "id": "49242ac6",
   "metadata": {},
   "outputs": [
    {
     "name": "stdout",
     "output_type": "stream",
     "text": [
      "output of neurons : [4.8, 1.21, 1.3649999999999998]\n"
     ]
    }
   ],
   "source": [
    "import sys\n",
    "import numpy as np\n",
    "import matplotlib\n",
    "\n",
    "inputs = [1, 2, 3 , 2.5]\n",
    "weights = [[0.2 , 0.8 , -0.5 , 1.0],\n",
    "           [0.5 , -0.91 , 0.26 , -0.5],\n",
    "           [-0.26 , -0.27 , -0.17 , 0.87]]\n",
    "\n",
    "biases =[ 2, 3, 0.5 ]\n",
    "\n",
    "\n",
    "layer_output = []\n",
    "\n",
    "for neuron_weights , neuron_bias in zip(weights,biases):\n",
    "    neuron_output = 0\n",
    "    for neuron_weight , n_input in zip(neuron_weights , inputs):\n",
    "        neuron_output += n_input*neuron_weight\n",
    "    neuron_output  += neuron_bias\n",
    "    layer_output.append(neuron_output)  \n",
    "    \n",
    "\n",
    "\n",
    "print(\"output of neurons :\",layer_output)\n"
   ]
  },
  {
   "cell_type": "code",
   "execution_count": null,
   "id": "08479774",
   "metadata": {},
   "outputs": [],
   "source": []
  }
 ],
 "metadata": {
  "kernelspec": {
   "display_name": "Python 3 (ipykernel)",
   "language": "python",
   "name": "python3"
  },
  "language_info": {
   "codemirror_mode": {
    "name": "ipython",
    "version": 3
   },
   "file_extension": ".py",
   "mimetype": "text/x-python",
   "name": "python",
   "nbconvert_exporter": "python",
   "pygments_lexer": "ipython3",
   "version": "3.11.9"
  }
 },
 "nbformat": 4,
 "nbformat_minor": 5
}
