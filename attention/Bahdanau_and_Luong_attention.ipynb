{
 "cells": [
  {
   "cell_type": "code",
   "execution_count": 1,
   "id": "04732749",
   "metadata": {},
   "outputs": [],
   "source": [
    "def softmax(inputs : list)-> list:\n",
    "    outputs = []\n",
    "    return outputs\n"
   ]
  },
  {
   "cell_type": "code",
   "execution_count": null,
   "id": "0a6f06f4",
   "metadata": {},
   "outputs": [],
   "source": [
    "class Layer:\n",
    "    def __init__(self , N_UNITS : int, inputs : list , output_shape : int ):\n",
    "        self.N_UNITS = N_UNITS \n",
    "        self.inputs = inputs  \n",
    "        self.output_shape = output_shape \n",
    "        self.input_shape = len()\n",
    "    \n",
    "    "
   ]
  }
 ],
 "metadata": {
  "kernelspec": {
   "display_name": "Python 3 (ipykernel)",
   "language": "python",
   "name": "python3"
  },
  "language_info": {
   "codemirror_mode": {
    "name": "ipython",
    "version": 3
   },
   "file_extension": ".py",
   "mimetype": "text/x-python",
   "name": "python",
   "nbconvert_exporter": "python",
   "pygments_lexer": "ipython3",
   "version": "3.11.9"
  }
 },
 "nbformat": 4,
 "nbformat_minor": 5
}
